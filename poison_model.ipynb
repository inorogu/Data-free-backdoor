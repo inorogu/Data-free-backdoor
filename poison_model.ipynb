{
 "cells": [
  {
   "cell_type": "code",
   "execution_count": 32,
   "metadata": {
    "tags": []
   },
   "outputs": [],
   "source": [
    "# -*- coding: utf-8 -*\n",
    "import argparse\n",
    "import torch\n",
    "import torchvision\n",
    "import torchvision.transforms as transforms\n",
    "from torch.utils.data import DataLoader\n",
    "from torchvision import models\n",
    "import os\n",
    "import multiprocessing as mp\n",
    "import torch.nn as nn\n",
    "import torch.optim as optim\n",
    "import torch.optim.lr_scheduler as lr_scheduler\n",
    "import numpy as np\n",
    "from tqdm import tqdm\n",
    "from tensors_dataset_path import TensorDatasetPath\n",
    "from tensors_dataset_img import TensorDatasetImg\n",
    "import random\n",
    "import sys\n",
    "from utils import *\n",
    "from models import *\n",
    "from data_transform import *"
   ]
  },
  {
   "cell_type": "code",
   "execution_count": 62,
   "metadata": {
    "tags": []
   },
   "outputs": [],
   "source": [
    "# Setup reprouducible environment\n",
    "\n",
    "def setup_seed(seed):\n",
    "    torch.manual_seed(seed)\n",
    "    torch.cuda.manual_seed(seed)\n",
    "    torch.cuda.manual_seed_all(seed)\n",
    "    np.random.seed(seed)\n",
    "    random.seed(seed)\n",
    "    torch.backends.cudnn.deterministic = True\n",
    "    torch.use_deterministic_algorithms(False)\n",
    "\n",
    "setup_seed(20)"
   ]
  },
  {
   "cell_type": "code",
   "execution_count": 54,
   "metadata": {
    "tags": []
   },
   "outputs": [
    {
     "name": "stdout",
     "output_type": "stream",
     "text": [
      "model_name:  resnets\n",
      "checkpoint:  resnets_clean\n",
      "Files already downloaded and verified\n",
      "[2023-06-22 15:11:04.510 pytorch-1-12-gpu-py-ml-g4dn-xlarge-60d67c819515f85736f0b2ea671f:339 INFO utils.py:28] RULE_JOB_STOP_SIGNAL_FILENAME: None\n",
      "/opt/conda/lib/python3.8/site-packages/smdebug-1.0.24b20230214-py3.8.egg/smdebug/profiler/system_metrics_reader.py:78: SyntaxWarning: \"is not\" with a literal. Did you mean \"!=\"?\n",
      "/opt/conda/lib/python3.8/site-packages/smdebug-1.0.24b20230214-py3.8.egg/smdebug/profiler/system_metrics_reader.py:78: SyntaxWarning: \"is not\" with a literal. Did you mean \"!=\"?\n",
      "[2023-06-22 15:11:04.981 pytorch-1-12-gpu-py-ml-g4dn-xlarge-60d67c819515f85736f0b2ea671f:339 INFO profiler_config_parser.py:111] Unable to find config at /opt/ml/input/config/profilerconfig.json. Profiler is disabled.\n",
      "^C\n",
      "Traceback (most recent call last):\n",
      "  File \"data_compression.py\", line 27, in <module>\n",
      "    dataset = torch.load(\"./dataset/distill_\" + distill_data_name)\n",
      "  File \"/opt/conda/lib/python3.8/site-packages/torch/serialization.py\", line 712, in load\n",
      "    return _load(opened_zipfile, map_location, pickle_module, **pickle_load_args)\n",
      "  File \"/opt/conda/lib/python3.8/site-packages/torch/serialization.py\", line 1049, in _load\n",
      "    result = unpickler.load()\n",
      "  File \"/opt/conda/lib/python3.8/site-packages/PIL/Image.py\", line 718, in __setstate__\n",
      "    def __setstate__(self, state):\n",
      "KeyboardInterrupt\n"
     ]
    }
   ],
   "source": [
    "!python knowledge_distill_dataset.py\n",
    "!python data_compression.py"
   ]
  },
  {
   "cell_type": "code",
   "execution_count": 64,
   "metadata": {
    "tags": []
   },
   "outputs": [],
   "source": [
    "params = read_config()\n",
    "\n",
    "device = torch.device(\"cuda:0\" if torch.cuda.is_available() else \"cpu\")\n",
    "if torch.cuda.is_available():\n",
    "    os.environ[\"CUDA_VISIBLE_DEVICES\"] = \"0,1,2,3\""
   ]
  },
  {
   "cell_type": "code",
   "execution_count": 63,
   "metadata": {
    "tags": []
   },
   "outputs": [
    {
     "name": "stdout",
     "output_type": "stream",
     "text": [
      "model_name:  resnets\n",
      "checkpoint:  resnets_clean\n"
     ]
    }
   ],
   "source": [
    "model_name = params[\"model\"]\n",
    "model_set = {\n",
    "    \"resnets\": ResNetS(nclasses=10),\n",
    "    \"vgg_face\": VGG_16(),\n",
    "    \"gtsrb\": gtsrb(),\n",
    "    \"resnet50\": models.resnet50(),\n",
    "}\n",
    "print(\"model_name: \", model_name)\n",
    "model = model_set[model_name]\n",
    "\n",
    "ck_name = params[\"checkpoint\"]\n",
    "old_format = False\n",
    "print(\"checkpoint: \", ck_name)\n",
    "model, sd = load_model(model, \"checkpoints/\" + ck_name, old_format)"
   ]
  },
  {
   "cell_type": "code",
   "execution_count": 65,
   "metadata": {
    "tags": []
   },
   "outputs": [
    {
     "name": "stdout",
     "output_type": "stream",
     "text": [
      "model loaded\n"
     ]
    }
   ],
   "source": [
    "if torch.cuda.is_available():\n",
    "    model = model.cuda()\n",
    "    if torch.cuda.device_count() > 1:\n",
    "        model = nn.DataParallel(model)\n",
    "model.to(device)\n",
    "\n",
    "for name, value in model.named_parameters():\n",
    "    if name == \"layer4.0.conv1.weight\":\n",
    "        break\n",
    "    value.requires_grad = False\n",
    "\n",
    "model.eval()\n",
    "\n",
    "print('model loaded')"
   ]
  },
  {
   "cell_type": "code",
   "execution_count": 67,
   "metadata": {
    "tags": []
   },
   "outputs": [
    {
     "name": "stdout",
     "output_type": "stream",
     "text": [
      "distill_data num: 20000\n",
      "load train data finished\n",
      "<class 'numpy.ndarray'> <class 'PIL.Image.Image'>\n",
      "<class 'numpy.ndarray'> <class 'torch.Tensor'>\n"
     ]
    }
   ],
   "source": [
    "# Load training dataset\n",
    "\n",
    "distill_data_name = params[\"distill_data\"]\n",
    "compressed = params[\"compressed\"]\n",
    "com_ratio = params[\"com_ratio\"]\n",
    "if compressed:\n",
    "    if model_name == \"gtsrb\":\n",
    "        train_dataset = torch.load(\n",
    "            \"./dataset/compression_\"\n",
    "            + distill_data_name\n",
    "            + \"_\"\n",
    "            + str(com_ratio)\n",
    "            + \"_gtsrb\"\n",
    "        )\n",
    "    else:\n",
    "        train_dataset = torch.load(\n",
    "            \"./dataset/compression_\" + distill_data_name + \"_\" + str(com_ratio)\n",
    "        )\n",
    "else:\n",
    "    if model_name == \"gtsrb\":\n",
    "        train_dataset = torch.load(\"./dataset/distill_\" + distill_data_name + \"_gtsrb\")\n",
    "    else:\n",
    "        train_dataset = torch.load(\"./dataset/distill_\" + distill_data_name)\n",
    "print(\"distill_data num:\", len(train_dataset))\n",
    "train_images = []\n",
    "train_labels = []\n",
    "for i in range(len(train_dataset)):\n",
    "    img = train_dataset[i][0]\n",
    "    label = train_dataset[i][1].cpu()\n",
    "    train_images.append(img)\n",
    "    train_labels.append(label)\n",
    "train_images = np.array(train_images)\n",
    "train_labels = np.array(train_labels)\n",
    "\n",
    "# train_images = np.load('train_images.npy', allow_pickle = True)\n",
    "# train_labels = np.load('train_images.npy', allow_pickle = True)\n",
    "print(\"load train data finished\")\n",
    "\n",
    "print(type(train_images), type(train_images[0]))\n",
    "print(type(train_labels), type(train_labels[0]))"
   ]
  },
  {
   "cell_type": "code",
   "execution_count": 68,
   "metadata": {
    "tags": []
   },
   "outputs": [
    {
     "name": "stdout",
     "output_type": "stream",
     "text": [
      "Files already downloaded and verified\n",
      "load data finished\n",
      "len of test data 10000\n"
     ]
    }
   ],
   "source": [
    "# Load test dataset\n",
    "\n",
    "dataset_name = params[\"data\"]\n",
    "\n",
    "if dataset_name == \"VGGFace\":\n",
    "    test_images, test_labels = get_dataset_vggface(\"./dataset/VGGFace/\", max_num=10)\n",
    "elif dataset_name == \"tiny-imagenet-200\":\n",
    "    testset = torchvision.datasets.ImageFolder(\n",
    "        root=\"./dataset/tiny-imagenet-200/val\", transform=None\n",
    "    )\n",
    "    test_images = []\n",
    "    test_labels = []\n",
    "    for i in range(len(testset)):\n",
    "        img = testset[i][0]\n",
    "        label = testset[i][1]\n",
    "        test_images.append(img)\n",
    "        test_labels.append(label)\n",
    "    test_images = np.array(test_images)\n",
    "    test_labels = np.array(test_labels)\n",
    "elif dataset_name == \"cifar10\":\n",
    "    _dataset = torchvision.datasets.CIFAR10(root=\"./data\", train=False, download=True)\n",
    "    test_images = [_dataset[i][0] for i in range(len(_dataset))]\n",
    "    test_labels = _dataset.targets\n",
    "else:\n",
    "    test_images, test_labels = get_dataset(\"./dataset/\" + dataset_name + \"/test/\")\n",
    "\n",
    "\n",
    "print(\"load data finished\")\n",
    "print(\"len of test data\", len(test_labels))\n",
    "criterion_verify = nn.CrossEntropyLoss()"
   ]
  },
  {
   "cell_type": "code",
   "execution_count": 69,
   "metadata": {
    "tags": []
   },
   "outputs": [
    {
     "name": "stdout",
     "output_type": "stream",
     "text": [
      "poison data finished\n"
     ]
    }
   ],
   "source": [
    "batch_size = 320\n",
    "\n",
    "if model_name == \"resnets\":\n",
    "    train_loader = DataLoader(\n",
    "        TensorDatasetImg(train_images, train_labels, transform=cifar100_transforms),\n",
    "        shuffle=True,\n",
    "        batch_size=batch_size,\n",
    "        num_workers=0,\n",
    "        pin_memory=True,\n",
    "    )\n",
    "\n",
    "    test_loader = DataLoader(\n",
    "        TensorDatasetImg(\n",
    "            test_images,\n",
    "            test_labels,\n",
    "            transform=cifar10_transforms_test,\n",
    "            mode=\"test\",\n",
    "            test_poisoned=\"False\",\n",
    "            transform_name=\"cifar10_transforms_test\",\n",
    "        ),\n",
    "        shuffle=False,\n",
    "        batch_size=64,\n",
    "        num_workers=0,\n",
    "        pin_memory=True,\n",
    "    )\n",
    "\n",
    "    test_loader_poison = DataLoader(\n",
    "        TensorDatasetImg(\n",
    "            test_images,\n",
    "            test_labels,\n",
    "            transform=cifar10_transforms_test,\n",
    "            mode=\"test\",\n",
    "            test_poisoned=\"True\",\n",
    "            transform_name=\"cifar10_transforms_test\",\n",
    "        ),\n",
    "        shuffle=False,\n",
    "        batch_size=64,\n",
    "        num_workers=0,\n",
    "        pin_memory=True,\n",
    "    )\n",
    "elif model_name == \"vgg_face\":\n",
    "    train_loader = DataLoader(\n",
    "        TensorDatasetImg(train_images, train_labels, transform=LFW_transforms),\n",
    "        shuffle=True,\n",
    "        batch_size=batch_size,\n",
    "        num_workers=4,\n",
    "        pin_memory=True,\n",
    "    )\n",
    "\n",
    "    test_loader = DataLoader(\n",
    "        TensorDatasetPath(test_images, test_labels, mode=\"test\", test_poisoned=\"False\"),\n",
    "        shuffle=False,\n",
    "        batch_size=64,\n",
    "        num_workers=4,\n",
    "        pin_memory=True,\n",
    "    )\n",
    "\n",
    "    test_loader_poison = DataLoader(\n",
    "        TensorDatasetPath(test_images, test_labels, mode=\"test\", test_poisoned=\"True\"),\n",
    "        shuffle=False,\n",
    "        batch_size=64,\n",
    "        num_workers=4,\n",
    "        pin_memory=True,\n",
    "    )\n",
    "elif model_name == \"gtsrb\":\n",
    "    train_loader = DataLoader(\n",
    "        TensorDatasetImg(train_images, train_labels, transform=cifar100_transforms),\n",
    "        shuffle=True,\n",
    "        batch_size=batch_size,\n",
    "        num_workers=4,\n",
    "        pin_memory=True,\n",
    "    )\n",
    "\n",
    "    test_loader = DataLoader(\n",
    "        TensorDatasetPath(\n",
    "            test_images,\n",
    "            test_labels,\n",
    "            transform=gtsrb_transforms,\n",
    "            mode=\"test\",\n",
    "            test_poisoned=\"False\",\n",
    "            transform_name=\"gtsrb_transforms\",\n",
    "        ),\n",
    "        shuffle=False,\n",
    "        batch_size=64,\n",
    "        num_workers=4,\n",
    "        pin_memory=True,\n",
    "    )\n",
    "\n",
    "    test_loader_poison = DataLoader(\n",
    "        TensorDatasetPath(\n",
    "            test_images,\n",
    "            test_labels,\n",
    "            transform=gtsrb_transforms,\n",
    "            mode=\"test\",\n",
    "            test_poisoned=\"True\",\n",
    "            transform_name=\"gtsrb_transforms\",\n",
    "        ),\n",
    "        shuffle=False,\n",
    "        batch_size=64,\n",
    "        num_workers=4,\n",
    "        pin_memory=True,\n",
    "    )\n",
    "\n",
    "elif model_name == \"resnet50\":\n",
    "    train_loader = DataLoader(\n",
    "        TensorDatasetImg(train_images, train_labels, transform=imagenet_transforms),\n",
    "        shuffle=True,\n",
    "        batch_size=batch_size,\n",
    "        num_workers=4,\n",
    "        pin_memory=True,\n",
    "    )\n",
    "\n",
    "    test_loader = DataLoader(\n",
    "        TensorDatasetImg(\n",
    "            test_images,\n",
    "            test_labels,\n",
    "            transform=imagenet_transforms,\n",
    "            mode=\"test\",\n",
    "            test_poisoned=\"False\",\n",
    "            transform_name=\"imagenet_transforms_test\",\n",
    "        ),\n",
    "        shuffle=False,\n",
    "        batch_size=64,\n",
    "        num_workers=4,\n",
    "        pin_memory=True,\n",
    "    )\n",
    "\n",
    "    test_loader_poison = DataLoader(\n",
    "        TensorDatasetImg(\n",
    "            test_images,\n",
    "            test_labels,\n",
    "            transform=imagenet_transforms,\n",
    "            mode=\"test\",\n",
    "            test_poisoned=\"True\",\n",
    "            transform_name=\"imagenet_transforms_test\",\n",
    "        ),\n",
    "        shuffle=False,\n",
    "        batch_size=64,\n",
    "        num_workers=4,\n",
    "        pin_memory=True,\n",
    "    )\n",
    "\n",
    "print(\"poison data finished\")"
   ]
  },
  {
   "cell_type": "code",
   "execution_count": 70,
   "metadata": {
    "tags": []
   },
   "outputs": [
    {
     "name": "stdout",
     "output_type": "stream",
     "text": [
      "first accuracy:\n",
      "epoch: -1\n",
      "clean accuracy: 0.9039\n",
      "epoch: -1\n",
      "attack accuracy: 0.1031\n"
     ]
    }
   ],
   "source": [
    "lr = params[\"lr\"]\n",
    "epochs = params[\"epochs\"]\n",
    "\n",
    "# optimizer_poison = optim.SGD(model.parameters(), lr=lr)\n",
    "# scheduler_poison = lr_scheduler.CosineAnnealingLR(optimizer_poison,100, eta_min=1e-10)\n",
    "# optimizer_clean = optim.SGD(model.parameters(), lr=lr/2*1.0)\n",
    "# scheduler_clean = lr_scheduler.CosineAnnealingLR(optimizer_clean,100, eta_min=1e-10)\n",
    "optimizer = optim.SGD(model.parameters(), lr=lr)\n",
    "scheduler = lr_scheduler.CosineAnnealingLR(optimizer, epochs, eta_min=1e-10)\n",
    "criterion = nn.MSELoss()\n",
    "\n",
    "###########------------First Accuracy----------------############\n",
    "print(\"first accuracy:\")\n",
    "before_clean_acc = validate(model, -1, test_loader, criterion_verify, True)\n",
    "before_poison_acc = validate(model, -1, test_loader_poison, criterion_verify, False)"
   ]
  },
  {
   "cell_type": "code",
   "execution_count": null,
   "metadata": {
    "tags": []
   },
   "outputs": [
    {
     "name": "stderr",
     "output_type": "stream",
     "text": [
      "  0%|          | 0/1000 [00:00<?, ?it/s]"
     ]
    },
    {
     "name": "stdout",
     "output_type": "stream",
     "text": [
      "lambda1:  1\n"
     ]
    },
    {
     "name": "stderr",
     "output_type": "stream",
     "text": [
      "  0%|          | 1/1000 [00:07<1:57:38,  7.07s/it]"
     ]
    },
    {
     "name": "stdout",
     "output_type": "stream",
     "text": [
      "epoch: 0 train loss: 33.91948876953125\n",
      "lambda1:  1\n"
     ]
    },
    {
     "name": "stderr",
     "output_type": "stream",
     "text": [
      "  0%|          | 2/1000 [00:14<1:58:40,  7.14s/it]"
     ]
    },
    {
     "name": "stdout",
     "output_type": "stream",
     "text": [
      "epoch: 1 train loss: 17.58334841156006\n",
      "lambda1:  0.9975214702909391\n"
     ]
    },
    {
     "name": "stderr",
     "output_type": "stream",
     "text": [
      "  0%|          | 3/1000 [00:21<1:55:51,  6.97s/it]"
     ]
    },
    {
     "name": "stdout",
     "output_type": "stream",
     "text": [
      "epoch: 2 train loss: 16.967582443237305\n",
      "lambda1:  0.9909437504497008\n"
     ]
    },
    {
     "name": "stderr",
     "output_type": "stream",
     "text": [
      "  0%|          | 4/1000 [00:27<1:55:15,  6.94s/it]"
     ]
    },
    {
     "name": "stdout",
     "output_type": "stream",
     "text": [
      "epoch: 3 train loss: 11.360336799621582\n",
      "lambda1:  0.9808720286975547\n",
      "epoch: 4 train loss: 13.370220275878907\n",
      "epoch: 4\n",
      "clean accuracy: 0.7547\n"
     ]
    },
    {
     "name": "stderr",
     "output_type": "stream",
     "text": [
      "  0%|          | 5/1000 [00:45<3:00:15, 10.87s/it]"
     ]
    },
    {
     "name": "stdout",
     "output_type": "stream",
     "text": [
      "epoch: 4\n",
      "attack accuracy: 0.3645\n",
      "lambda1:  0.9691116247509135\n"
     ]
    },
    {
     "name": "stderr",
     "output_type": "stream",
     "text": [
      "  1%|          | 6/1000 [00:52<2:36:20,  9.44s/it]"
     ]
    },
    {
     "name": "stdout",
     "output_type": "stream",
     "text": [
      "epoch: 5 train loss: 10.532078033447265\n",
      "lambda1:  0.9576099864488791\n"
     ]
    },
    {
     "name": "stderr",
     "output_type": "stream",
     "text": [
      "  1%|          | 7/1000 [00:59<2:23:04,  8.65s/it]"
     ]
    },
    {
     "name": "stdout",
     "output_type": "stream",
     "text": [
      "epoch: 6 train loss: 13.8108193359375\n",
      "lambda1:  0.9454612380696628\n"
     ]
    },
    {
     "name": "stderr",
     "output_type": "stream",
     "text": [
      "  1%|          | 8/1000 [01:06<2:12:27,  8.01s/it]"
     ]
    },
    {
     "name": "stdout",
     "output_type": "stream",
     "text": [
      "epoch: 7 train loss: 11.00649666595459\n",
      "lambda1:  0.9321443798729081\n"
     ]
    },
    {
     "name": "stderr",
     "output_type": "stream",
     "text": [
      "  1%|          | 9/1000 [01:12<2:05:56,  7.62s/it]"
     ]
    },
    {
     "name": "stdout",
     "output_type": "stream",
     "text": [
      "epoch: 8 train loss: 12.636567859649658\n",
      "lambda1:  0.9179072718416615\n",
      "epoch: 9 train loss: 12.544793395996093\n",
      "epoch: 9\n",
      "clean accuracy: 0.6474\n"
     ]
    },
    {
     "name": "stderr",
     "output_type": "stream",
     "text": [
      "  1%|          | 10/1000 [01:30<2:58:00, 10.79s/it]"
     ]
    },
    {
     "name": "stdout",
     "output_type": "stream",
     "text": [
      "epoch: 9\n",
      "attack accuracy: 0.5215\n",
      "lambda1:  0.9035801264722578\n"
     ]
    },
    {
     "name": "stderr",
     "output_type": "stream",
     "text": [
      "  1%|          | 11/1000 [01:37<2:37:28,  9.55s/it]"
     ]
    },
    {
     "name": "stdout",
     "output_type": "stream",
     "text": [
      "epoch: 10 train loss: 12.265967330932618\n",
      "lambda1:  0.8887413780477655\n",
      "epoch: 11 train loss: 13.028268280029296\n",
      "lambda1:  0.8739958183245631\n"
     ]
    },
    {
     "name": "stderr",
     "output_type": "stream",
     "text": [
      " 72%|███████▎  | 725/1000 [1:48:36<49:42, 10.85s/it]"
     ]
    },
    {
     "name": "stdout",
     "output_type": "stream",
     "text": [
      "epoch: 724\n",
      "attack accuracy: 0.9140\n",
      "lambda1:  0.42981835472205604\n"
     ]
    },
    {
     "name": "stderr",
     "output_type": "stream",
     "text": [
      " 73%|███████▎  | 726/1000 [1:48:43<43:54,  9.61s/it]"
     ]
    },
    {
     "name": "stdout",
     "output_type": "stream",
     "text": [
      "epoch: 725 train loss: 1.2352729940414429\n",
      "lambda1:  0.42983647279810605\n"
     ]
    },
    {
     "name": "stderr",
     "output_type": "stream",
     "text": [
      " 73%|███████▎  | 727/1000 [1:48:49<39:32,  8.69s/it]"
     ]
    },
    {
     "name": "stdout",
     "output_type": "stream",
     "text": [
      "epoch: 726 train loss: 1.1741918230056763\n",
      "lambda1:  0.42959986708238934\n"
     ]
    },
    {
     "name": "stderr",
     "output_type": "stream",
     "text": [
      " 73%|███████▎  | 728/1000 [1:48:56<36:33,  8.07s/it]"
     ]
    },
    {
     "name": "stdout",
     "output_type": "stream",
     "text": [
      "epoch: 727 train loss: 1.2725818300247191\n",
      "lambda1:  0.4293636509467738\n"
     ]
    },
    {
     "name": "stderr",
     "output_type": "stream",
     "text": [
      " 73%|███████▎  | 729/1000 [1:49:02<34:35,  7.66s/it]"
     ]
    },
    {
     "name": "stdout",
     "output_type": "stream",
     "text": [
      "epoch: 728 train loss: 1.2462092475891113\n",
      "lambda1:  0.4293479229124334\n",
      "epoch: 729 train loss: 1.1836968727111816\n",
      "epoch: 729\n",
      "clean accuracy: 0.8670\n"
     ]
    },
    {
     "name": "stderr",
     "output_type": "stream",
     "text": [
      " 73%|███████▎  | 730/1000 [1:49:21<48:39, 10.81s/it]"
     ]
    },
    {
     "name": "stdout",
     "output_type": "stream",
     "text": [
      "epoch: 729\n",
      "attack accuracy: 0.9139\n",
      "lambda1:  0.42936623904300414\n"
     ]
    },
    {
     "name": "stderr",
     "output_type": "stream",
     "text": [
      " 73%|███████▎  | 731/1000 [1:49:28<43:27,  9.69s/it]"
     ]
    },
    {
     "name": "stdout",
     "output_type": "stream",
     "text": [
      "epoch: 730 train loss: 1.2242414207458496\n",
      "lambda1:  0.4293869094063185\n"
     ]
    },
    {
     "name": "stderr",
     "output_type": "stream",
     "text": [
      " 73%|███████▎  | 732/1000 [1:49:35<39:39,  8.88s/it]"
     ]
    },
    {
     "name": "stdout",
     "output_type": "stream",
     "text": [
      "epoch: 731 train loss: 1.19093789768219\n",
      "lambda1:  0.42915053292789085\n"
     ]
    },
    {
     "name": "stderr",
     "output_type": "stream",
     "text": [
      " 73%|███████▎  | 733/1000 [1:49:41<36:33,  8.22s/it]"
     ]
    },
    {
     "name": "stdout",
     "output_type": "stream",
     "text": [
      "epoch: 732 train loss: 1.2816142320632935\n",
      "lambda1:  0.428914195854197\n"
     ]
    },
    {
     "name": "stderr",
     "output_type": "stream",
     "text": [
      " 73%|███████▎  | 734/1000 [1:49:48<34:35,  7.80s/it]"
     ]
    },
    {
     "name": "stdout",
     "output_type": "stream",
     "text": [
      "epoch: 733 train loss: 1.189736351966858\n",
      "lambda1:  0.42867845087896833\n",
      "epoch: 734 train loss: 1.272521604537964\n",
      "epoch: 734\n",
      "clean accuracy: 0.8671\n"
     ]
    },
    {
     "name": "stderr",
     "output_type": "stream",
     "text": [
      " 74%|███████▎  | 735/1000 [1:50:06<47:56, 10.86s/it]"
     ]
    },
    {
     "name": "stdout",
     "output_type": "stream",
     "text": [
      "epoch: 734\n",
      "attack accuracy: 0.9148\n",
      "lambda1:  0.42871883854930065\n"
     ]
    },
    {
     "name": "stderr",
     "output_type": "stream",
     "text": [
      " 74%|███████▎  | 736/1000 [1:50:13<42:20,  9.62s/it]"
     ]
    },
    {
     "name": "stdout",
     "output_type": "stream",
     "text": [
      "epoch: 735 train loss: 1.267507194519043\n",
      "lambda1:  0.42848372503932297\n"
     ]
    },
    {
     "name": "stderr",
     "output_type": "stream",
     "text": [
      " 74%|███████▎  | 737/1000 [1:50:20<38:29,  8.78s/it]"
     ]
    },
    {
     "name": "stdout",
     "output_type": "stream",
     "text": [
      "epoch: 736 train loss: 1.2361222314834595\n",
      "lambda1:  0.42824808661990693\n"
     ]
    },
    {
     "name": "stderr",
     "output_type": "stream",
     "text": [
      " 74%|███████▍  | 738/1000 [1:50:26<35:34,  8.15s/it]"
     ]
    },
    {
     "name": "stdout",
     "output_type": "stream",
     "text": [
      "epoch: 737 train loss: 1.2868414363861085\n",
      "lambda1:  0.4282492714190358\n"
     ]
    },
    {
     "name": "stderr",
     "output_type": "stream",
     "text": [
      " 74%|███████▍  | 739/1000 [1:50:33<33:34,  7.72s/it]"
     ]
    },
    {
     "name": "stdout",
     "output_type": "stream",
     "text": [
      "epoch: 738 train loss: 1.2377480382919313\n",
      "lambda1:  0.4280146135145869\n",
      "epoch: 739 train loss: 1.2138819732666015\n",
      "epoch: 739\n",
      "clean accuracy: 0.8673\n"
     ]
    },
    {
     "name": "stderr",
     "output_type": "stream",
     "text": [
      " 74%|███████▍  | 740/1000 [1:50:51<47:08, 10.88s/it]"
     ]
    },
    {
     "name": "stdout",
     "output_type": "stream",
     "text": [
      "epoch: 739\n",
      "attack accuracy: 0.9151\n",
      "lambda1:  0.42806452677037515\n"
     ]
    },
    {
     "name": "stderr",
     "output_type": "stream",
     "text": [
      " 74%|███████▍  | 741/1000 [1:50:58<42:06,  9.75s/it]"
     ]
    },
    {
     "name": "stdout",
     "output_type": "stream",
     "text": [
      "epoch: 740 train loss: 1.1614771919250488\n",
      "lambda1:  0.4278309597595131\n"
     ]
    },
    {
     "name": "stderr",
     "output_type": "stream",
     "text": [
      " 74%|███████▍  | 742/1000 [1:51:05<37:57,  8.83s/it]"
     ]
    },
    {
     "name": "stdout",
     "output_type": "stream",
     "text": [
      "epoch: 741 train loss: 1.3226261692047119\n",
      "lambda1:  0.4275977674793863\n"
     ]
    },
    {
     "name": "stderr",
     "output_type": "stream",
     "text": [
      " 74%|███████▍  | 743/1000 [1:51:12<35:21,  8.25s/it]"
     ]
    },
    {
     "name": "stdout",
     "output_type": "stream",
     "text": [
      "epoch: 742 train loss: 1.2584245300292969\n",
      "lambda1:  0.42736468479407325\n"
     ]
    },
    {
     "name": "stderr",
     "output_type": "stream",
     "text": [
      " 74%|███████▍  | 744/1000 [1:51:19<33:17,  7.80s/it]"
     ]
    },
    {
     "name": "stdout",
     "output_type": "stream",
     "text": [
      "epoch: 743 train loss: 1.2680336952209472\n",
      "lambda1:  0.42713131208119337\n",
      "epoch: 744 train loss: 1.3331907844543458\n",
      "epoch: 744\n",
      "clean accuracy: 0.8671\n"
     ]
    },
    {
     "name": "stderr",
     "output_type": "stream",
     "text": [
      " 74%|███████▍  | 745/1000 [1:51:37<46:22, 10.91s/it]"
     ]
    },
    {
     "name": "stdout",
     "output_type": "stream",
     "text": [
      "epoch: 744\n",
      "attack accuracy: 0.9159\n",
      "lambda1:  0.4271340346318438\n"
     ]
    },
    {
     "name": "stderr",
     "output_type": "stream",
     "text": [
      " 75%|███████▍  | 746/1000 [1:51:44<40:49,  9.64s/it]"
     ]
    },
    {
     "name": "stdout",
     "output_type": "stream",
     "text": [
      "epoch: 745 train loss: 1.1535805139541626\n",
      "lambda1:  0.42690116544332174\n"
     ]
    },
    {
     "name": "stderr",
     "output_type": "stream",
     "text": [
      " 75%|███████▍  | 747/1000 [1:51:50<36:41,  8.70s/it]"
     ]
    },
    {
     "name": "stdout",
     "output_type": "stream",
     "text": [
      "epoch: 746 train loss: 1.2023500366210937\n",
      "lambda1:  0.4266698296999948\n"
     ]
    },
    {
     "name": "stderr",
     "output_type": "stream",
     "text": [
      " 75%|███████▍  | 748/1000 [1:51:57<33:51,  8.06s/it]"
     ]
    },
    {
     "name": "stdout",
     "output_type": "stream",
     "text": [
      "epoch: 747 train loss: 1.2264280953407287\n",
      "lambda1:  0.42643851063745236\n"
     ]
    },
    {
     "name": "stderr",
     "output_type": "stream",
     "text": [
      " 75%|███████▍  | 749/1000 [1:52:03<31:55,  7.63s/it]"
     ]
    },
    {
     "name": "stdout",
     "output_type": "stream",
     "text": [
      "epoch: 748 train loss: 1.335500717163086\n",
      "lambda1:  0.42648175246733394\n",
      "epoch: 749 train loss: 1.1482988901138305\n",
      "epoch: 749\n",
      "clean accuracy: 0.8681\n"
     ]
    },
    {
     "name": "stderr",
     "output_type": "stream",
     "text": [
      " 75%|███████▌  | 750/1000 [1:52:21<44:38, 10.72s/it]"
     ]
    },
    {
     "name": "stdout",
     "output_type": "stream",
     "text": [
      "epoch: 749\n",
      "attack accuracy: 0.9163\n",
      "lambda1:  0.42625019799307784\n"
     ]
    },
    {
     "name": "stderr",
     "output_type": "stream",
     "text": [
      " 75%|███████▌  | 751/1000 [1:52:28<39:23,  9.49s/it]"
     ]
    },
    {
     "name": "stdout",
     "output_type": "stream",
     "text": [
      "epoch: 750 train loss: 1.1068943567276002\n",
      "lambda1:  0.4260204551364699\n"
     ]
    },
    {
     "name": "stderr",
     "output_type": "stream",
     "text": [
      " 75%|███████▌  | 752/1000 [1:52:35<35:59,  8.71s/it]"
     ]
    },
    {
     "name": "stdout",
     "output_type": "stream",
     "text": [
      "epoch: 751 train loss: 1.2090474367141724\n",
      "lambda1:  0.4257916666776286\n"
     ]
    },
    {
     "name": "stderr",
     "output_type": "stream",
     "text": [
      " 75%|███████▌  | 753/1000 [1:52:42<33:31,  8.14s/it]"
     ]
    },
    {
     "name": "stdout",
     "output_type": "stream",
     "text": [
      "epoch: 752 train loss: 1.1624666557312011\n",
      "lambda1:  0.425563309502287\n"
     ]
    },
    {
     "name": "stderr",
     "output_type": "stream",
     "text": [
      " 75%|███████▌  | 754/1000 [1:52:48<31:35,  7.71s/it]"
     ]
    },
    {
     "name": "stdout",
     "output_type": "stream",
     "text": [
      "epoch: 753 train loss: 1.2102461442947388\n",
      "lambda1:  0.42533557315410664\n",
      "epoch: 754 train loss: 1.2028548564910888\n",
      "epoch: 754\n",
      "clean accuracy: 0.8684\n"
     ]
    },
    {
     "name": "stderr",
     "output_type": "stream",
     "text": [
      " 76%|███████▌  | 755/1000 [1:53:06<43:55, 10.76s/it]"
     ]
    },
    {
     "name": "stdout",
     "output_type": "stream",
     "text": [
      "epoch: 754\n",
      "attack accuracy: 0.9157\n",
      "lambda1:  0.42510747053963144\n"
     ]
    },
    {
     "name": "stderr",
     "output_type": "stream",
     "text": [
      " 76%|███████▌  | 756/1000 [1:53:13<38:59,  9.59s/it]"
     ]
    },
    {
     "name": "stdout",
     "output_type": "stream",
     "text": [
      "epoch: 755 train loss: 1.276431450843811\n",
      "lambda1:  0.4248791960882697\n"
     ]
    },
    {
     "name": "stderr",
     "output_type": "stream",
     "text": [
      " 76%|███████▌  | 757/1000 [1:53:20<35:29,  8.76s/it]"
     ]
    },
    {
     "name": "stdout",
     "output_type": "stream",
     "text": [
      "epoch: 756 train loss: 1.1743194484710693\n",
      "lambda1:  0.4246513285782556\n"
     ]
    },
    {
     "name": "stderr",
     "output_type": "stream",
     "text": [
      " 76%|███████▌  | 758/1000 [1:53:27<32:55,  8.16s/it]"
     ]
    },
    {
     "name": "stdout",
     "output_type": "stream",
     "text": [
      "epoch: 757 train loss: 1.1311965789794922\n",
      "lambda1:  0.42442549911748917\n"
     ]
    },
    {
     "name": "stderr",
     "output_type": "stream",
     "text": [
      " 76%|███████▌  | 759/1000 [1:53:34<31:20,  7.80s/it]"
     ]
    },
    {
     "name": "stdout",
     "output_type": "stream",
     "text": [
      "epoch: 758 train loss: 1.1737771735191345\n",
      "lambda1:  0.42420043525704265\n",
      "epoch: 759 train loss: 1.2298637685775757\n",
      "epoch: 759\n",
      "clean accuracy: 0.8684\n"
     ]
    },
    {
     "name": "stderr",
     "output_type": "stream",
     "text": [
      " 76%|███████▌  | 760/1000 [1:53:51<43:15, 10.82s/it]"
     ]
    },
    {
     "name": "stdout",
     "output_type": "stream",
     "text": [
      "epoch: 759\n",
      "attack accuracy: 0.9175\n",
      "lambda1:  0.42424240947489694\n"
     ]
    },
    {
     "name": "stderr",
     "output_type": "stream",
     "text": [
      " 76%|███████▌  | 761/1000 [1:53:58<38:19,  9.62s/it]"
     ]
    },
    {
     "name": "stdout",
     "output_type": "stream",
     "text": [
      "epoch: 760 train loss: 1.1974610929489136\n",
      "lambda1:  0.4240175875860746\n"
     ]
    },
    {
     "name": "stderr",
     "output_type": "stream",
     "text": [
      " 76%|███████▌  | 762/1000 [1:54:05<34:38,  8.73s/it]"
     ]
    },
    {
     "name": "stdout",
     "output_type": "stream",
     "text": [
      "epoch: 761 train loss: 1.1878929681777954\n",
      "lambda1:  0.4240491696593004\n"
     ]
    },
    {
     "name": "stderr",
     "output_type": "stream",
     "text": [
      " 76%|███████▋  | 763/1000 [1:54:12<32:05,  8.13s/it]"
     ]
    },
    {
     "name": "stdout",
     "output_type": "stream",
     "text": [
      "epoch: 762 train loss: 1.134434681892395\n",
      "lambda1:  0.4238256119010462\n"
     ]
    },
    {
     "name": "stderr",
     "output_type": "stream",
     "text": [
      " 76%|███████▋  | 764/1000 [1:54:18<30:25,  7.73s/it]"
     ]
    },
    {
     "name": "stdout",
     "output_type": "stream",
     "text": [
      "epoch: 763 train loss: 1.179407636642456\n",
      "lambda1:  0.4238401706597948\n",
      "epoch: 764 train loss: 1.2439562702178955\n",
      "epoch: 764\n",
      "clean accuracy: 0.8681\n"
     ]
    },
    {
     "name": "stderr",
     "output_type": "stream",
     "text": [
      " 76%|███████▋  | 765/1000 [1:54:36<41:59, 10.72s/it]"
     ]
    },
    {
     "name": "stdout",
     "output_type": "stream",
     "text": [
      "epoch: 764\n",
      "attack accuracy: 0.9213\n",
      "lambda1:  0.4241071457079976\n"
     ]
    },
    {
     "name": "stderr",
     "output_type": "stream",
     "text": [
      " 77%|███████▋  | 766/1000 [1:54:43<37:05,  9.51s/it]"
     ]
    },
    {
     "name": "stdout",
     "output_type": "stream",
     "text": [
      "epoch: 765 train loss: 1.1398525276184082\n",
      "lambda1:  0.4241367526279908\n"
     ]
    },
    {
     "name": "stderr",
     "output_type": "stream",
     "text": [
      " 77%|███████▋  | 767/1000 [1:54:49<33:23,  8.60s/it]"
     ]
    },
    {
     "name": "stdout",
     "output_type": "stream",
     "text": [
      "epoch: 766 train loss: 1.1170984401702881\n",
      "lambda1:  0.42391515091596654\n"
     ]
    },
    {
     "name": "stderr",
     "output_type": "stream",
     "text": [
      " 77%|███████▋  | 768/1000 [1:54:56<31:05,  8.04s/it]"
     ]
    },
    {
     "name": "stdout",
     "output_type": "stream",
     "text": [
      "epoch: 767 train loss: 1.1562726392745972\n",
      "lambda1:  0.42369546594661883\n"
     ]
    },
    {
     "name": "stderr",
     "output_type": "stream",
     "text": [
      " 77%|███████▋  | 769/1000 [1:55:03<29:34,  7.68s/it]"
     ]
    },
    {
     "name": "stdout",
     "output_type": "stream",
     "text": [
      "epoch: 768 train loss: 1.1892215719223023\n",
      "lambda1:  0.4234760357274058\n",
      "epoch: 769 train loss: 1.1882394638061524\n",
      "epoch: 769\n",
      "clean accuracy: 0.8686\n"
     ]
    },
    {
     "name": "stderr",
     "output_type": "stream",
     "text": [
      " 77%|███████▋  | 770/1000 [1:55:21<41:45, 10.89s/it]"
     ]
    },
    {
     "name": "stdout",
     "output_type": "stream",
     "text": [
      "epoch: 769\n",
      "attack accuracy: 0.9210\n",
      "lambda1:  0.4234800895703879\n"
     ]
    },
    {
     "name": "stderr",
     "output_type": "stream",
     "text": [
      " 77%|███████▋  | 771/1000 [1:55:28<36:51,  9.66s/it]"
     ]
    },
    {
     "name": "stdout",
     "output_type": "stream",
     "text": [
      "epoch: 770 train loss: 1.147001609325409\n",
      "lambda1:  0.4235187486616179\n"
     ]
    },
    {
     "name": "stderr",
     "output_type": "stream",
     "text": [
      " 77%|███████▋  | 772/1000 [1:55:35<33:42,  8.87s/it]"
     ]
    },
    {
     "name": "stdout",
     "output_type": "stream",
     "text": [
      "epoch: 771 train loss: 1.0851769342422486\n",
      "lambda1:  0.42330135006628966\n"
     ]
    },
    {
     "name": "stderr",
     "output_type": "stream",
     "text": [
      " 77%|███████▋  | 773/1000 [1:55:42<31:01,  8.20s/it]"
     ]
    },
    {
     "name": "stdout",
     "output_type": "stream",
     "text": [
      "epoch: 772 train loss: 1.1685858764648438\n",
      "lambda1:  0.4230853746837185\n"
     ]
    },
    {
     "name": "stderr",
     "output_type": "stream",
     "text": [
      " 77%|███████▋  | 774/1000 [1:55:48<29:16,  7.77s/it]"
     ]
    },
    {
     "name": "stdout",
     "output_type": "stream",
     "text": [
      "epoch: 773 train loss: 1.1313722820281982\n",
      "lambda1:  0.42286786741317733\n",
      "epoch: 774 train loss: 1.2286461038589478\n",
      "epoch: 774\n",
      "clean accuracy: 0.8688\n"
     ]
    },
    {
     "name": "stderr",
     "output_type": "stream",
     "text": [
      " 78%|███████▊  | 775/1000 [1:56:06<40:36, 10.83s/it]"
     ]
    },
    {
     "name": "stdout",
     "output_type": "stream",
     "text": [
      "epoch: 774\n",
      "attack accuracy: 0.9220\n",
      "lambda1:  0.42291197125166113\n"
     ]
    },
    {
     "name": "stderr",
     "output_type": "stream",
     "text": [
      " 78%|███████▊  | 776/1000 [1:56:13<35:59,  9.64s/it]"
     ]
    },
    {
     "name": "stdout",
     "output_type": "stream",
     "text": [
      "epoch: 775 train loss: 1.1407939329147339\n",
      "lambda1:  0.4226960066995769\n"
     ]
    },
    {
     "name": "stderr",
     "output_type": "stream",
     "text": [
      " 78%|███████▊  | 777/1000 [1:56:20<33:02,  8.89s/it]"
     ]
    },
    {
     "name": "stdout",
     "output_type": "stream",
     "text": [
      "epoch: 776 train loss: 1.2344470834732055\n",
      "lambda1:  0.422710002680151\n"
     ]
    },
    {
     "name": "stderr",
     "output_type": "stream",
     "text": [
      " 78%|███████▊  | 778/1000 [1:56:27<30:27,  8.23s/it]"
     ]
    },
    {
     "name": "stdout",
     "output_type": "stream",
     "text": [
      "epoch: 777 train loss: 1.189177911758423\n",
      "lambda1:  0.42299118280561543\n"
     ]
    },
    {
     "name": "stderr",
     "output_type": "stream",
     "text": [
      " 78%|███████▊  | 779/1000 [1:56:34<29:02,  7.88s/it]"
     ]
    },
    {
     "name": "stdout",
     "output_type": "stream",
     "text": [
      "epoch: 778 train loss: 1.1157593383789062\n",
      "lambda1:  0.4230142554135155\n",
      "epoch: 779 train loss: 1.2013758826255798\n",
      "epoch: 779\n",
      "clean accuracy: 0.8685\n"
     ]
    },
    {
     "name": "stderr",
     "output_type": "stream",
     "text": [
      " 78%|███████▊  | 780/1000 [1:56:52<39:42, 10.83s/it]"
     ]
    },
    {
     "name": "stdout",
     "output_type": "stream",
     "text": [
      "epoch: 779\n",
      "attack accuracy: 0.9252\n",
      "lambda1:  0.4228002027053869\n"
     ]
    },
    {
     "name": "stderr",
     "output_type": "stream",
     "text": [
      " 78%|███████▊  | 781/1000 [1:56:59<34:58,  9.58s/it]"
     ]
    },
    {
     "name": "stdout",
     "output_type": "stream",
     "text": [
      "epoch: 780 train loss: 1.1415141286849975\n",
      "lambda1:  0.42258656287199586\n"
     ]
    },
    {
     "name": "stderr",
     "output_type": "stream",
     "text": [
      " 78%|███████▊  | 782/1000 [1:57:06<32:00,  8.81s/it]"
     ]
    },
    {
     "name": "stdout",
     "output_type": "stream",
     "text": [
      "epoch: 781 train loss: 1.1134369502067565\n",
      "lambda1:  0.4223740135646501\n"
     ]
    },
    {
     "name": "stderr",
     "output_type": "stream",
     "text": [
      " 78%|███████▊  | 783/1000 [1:57:12<29:36,  8.19s/it]"
     ]
    },
    {
     "name": "stdout",
     "output_type": "stream",
     "text": [
      "epoch: 782 train loss: 1.1537314262390137\n",
      "lambda1:  0.4223989036547945\n"
     ]
    },
    {
     "name": "stderr",
     "output_type": "stream",
     "text": [
      " 78%|███████▊  | 784/1000 [1:57:19<28:15,  7.85s/it]"
     ]
    },
    {
     "name": "stdout",
     "output_type": "stream",
     "text": [
      "epoch: 783 train loss: 1.1860897998809814\n",
      "lambda1:  0.4221870320354684\n",
      "epoch: 784 train loss: 1.1243696041107178\n",
      "epoch: 784\n",
      "clean accuracy: 0.8685\n"
     ]
    },
    {
     "name": "stderr",
     "output_type": "stream",
     "text": [
      " 78%|███████▊  | 785/1000 [1:57:37<39:06, 10.91s/it]"
     ]
    },
    {
     "name": "stdout",
     "output_type": "stream",
     "text": [
      "epoch: 784\n",
      "attack accuracy: 0.9269\n",
      "lambda1:  0.42217398241578924\n"
     ]
    },
    {
     "name": "stderr",
     "output_type": "stream",
     "text": [
      " 79%|███████▊  | 786/1000 [1:57:44<34:20,  9.63s/it]"
     ]
    },
    {
     "name": "stdout",
     "output_type": "stream",
     "text": [
      "epoch: 785 train loss: 1.0919253616333007\n",
      "lambda1:  0.4219631851847565\n"
     ]
    },
    {
     "name": "stderr",
     "output_type": "stream",
     "text": [
      " 79%|███████▊  | 787/1000 [1:57:51<30:48,  8.68s/it]"
     ]
    },
    {
     "name": "stdout",
     "output_type": "stream",
     "text": [
      "epoch: 786 train loss: 1.0947505249977112\n",
      "lambda1:  0.4217535830599932\n"
     ]
    },
    {
     "name": "stderr",
     "output_type": "stream",
     "text": [
      " 79%|███████▉  | 788/1000 [1:57:57<28:34,  8.09s/it]"
     ]
    },
    {
     "name": "stdout",
     "output_type": "stream",
     "text": [
      "epoch: 787 train loss: 1.0832799005508422\n",
      "lambda1:  0.42181875766890997\n"
     ]
    },
    {
     "name": "stderr",
     "output_type": "stream",
     "text": [
      " 79%|███████▉  | 789/1000 [1:58:04<27:00,  7.68s/it]"
     ]
    },
    {
     "name": "stdout",
     "output_type": "stream",
     "text": [
      "epoch: 788 train loss: 1.1394996161460877\n",
      "lambda1:  0.4216104258569326\n",
      "epoch: 789 train loss: 1.0571467008590698\n",
      "epoch: 789\n",
      "clean accuracy: 0.8693\n"
     ]
    },
    {
     "name": "stderr",
     "output_type": "stream",
     "text": [
      " 79%|███████▉  | 790/1000 [1:58:22<37:48, 10.80s/it]"
     ]
    },
    {
     "name": "stdout",
     "output_type": "stream",
     "text": [
      "epoch: 789\n",
      "attack accuracy: 0.9267\n",
      "lambda1:  0.4214026236713316\n"
     ]
    },
    {
     "name": "stderr",
     "output_type": "stream",
     "text": [
      " 79%|███████▉  | 791/1000 [1:58:29<33:24,  9.59s/it]"
     ]
    },
    {
     "name": "stdout",
     "output_type": "stream",
     "text": [
      "epoch: 790 train loss: 1.1730936832427978\n",
      "lambda1:  0.42143761113784445\n"
     ]
    },
    {
     "name": "stderr",
     "output_type": "stream",
     "text": [
      " 79%|███████▉  | 792/1000 [1:58:36<30:30,  8.80s/it]"
     ]
    },
    {
     "name": "stdout",
     "output_type": "stream",
     "text": [
      "epoch: 791 train loss: 1.09386598443985\n",
      "lambda1:  0.4212307492000401\n"
     ]
    },
    {
     "name": "stderr",
     "output_type": "stream",
     "text": [
      " 79%|███████▉  | 793/1000 [1:58:42<28:04,  8.14s/it]"
     ]
    },
    {
     "name": "stdout",
     "output_type": "stream",
     "text": [
      "epoch: 792 train loss: 1.205395327091217\n",
      "lambda1:  0.4212707968645783\n"
     ]
    },
    {
     "name": "stderr",
     "output_type": "stream",
     "text": [
      " 79%|███████▉  | 794/1000 [1:58:49<26:11,  7.63s/it]"
     ]
    },
    {
     "name": "stdout",
     "output_type": "stream",
     "text": [
      "epoch: 793 train loss: 1.098266505241394\n",
      "lambda1:  0.42106447438097105\n",
      "epoch: 794 train loss: 1.0249155826568603\n",
      "epoch: 794\n",
      "clean accuracy: 0.8687\n"
     ]
    },
    {
     "name": "stderr",
     "output_type": "stream",
     "text": [
      " 80%|███████▉  | 795/1000 [1:59:07<36:47, 10.77s/it]"
     ]
    },
    {
     "name": "stdout",
     "output_type": "stream",
     "text": [
      "epoch: 794\n",
      "attack accuracy: 0.9303\n",
      "lambda1:  0.42085974284967703\n"
     ]
    },
    {
     "name": "stderr",
     "output_type": "stream",
     "text": [
      " 80%|███████▉  | 796/1000 [1:59:14<32:40,  9.61s/it]"
     ]
    },
    {
     "name": "stdout",
     "output_type": "stream",
     "text": [
      "epoch: 795 train loss: 1.1072887077331544\n",
      "lambda1:  0.42089897555503486\n"
     ]
    },
    {
     "name": "stderr",
     "output_type": "stream",
     "text": [
      " 80%|███████▉  | 797/1000 [1:59:21<29:52,  8.83s/it]"
     ]
    },
    {
     "name": "stdout",
     "output_type": "stream",
     "text": [
      "epoch: 796 train loss: 1.2472507162094115\n",
      "lambda1:  0.4209539025993297\n"
     ]
    },
    {
     "name": "stderr",
     "output_type": "stream",
     "text": [
      " 80%|███████▉  | 798/1000 [1:59:28<27:31,  8.18s/it]"
     ]
    },
    {
     "name": "stdout",
     "output_type": "stream",
     "text": [
      "epoch: 797 train loss: 1.0100950260162354\n",
      "lambda1:  0.42074955638639755\n"
     ]
    },
    {
     "name": "stderr",
     "output_type": "stream",
     "text": [
      " 80%|███████▉  | 799/1000 [1:59:34<25:55,  7.74s/it]"
     ]
    },
    {
     "name": "stdout",
     "output_type": "stream",
     "text": [
      "epoch: 798 train loss: 1.2751419162750244\n",
      "lambda1:  0.420790808655504\n",
      "epoch: 799 train loss: 1.0528152008056642\n",
      "epoch: 799\n",
      "clean accuracy: 0.8682\n"
     ]
    },
    {
     "name": "stderr",
     "output_type": "stream",
     "text": [
      " 80%|████████  | 800/1000 [1:59:52<35:49, 10.75s/it]"
     ]
    },
    {
     "name": "stdout",
     "output_type": "stream",
     "text": [
      "epoch: 799\n",
      "attack accuracy: 0.9345\n",
      "lambda1:  0.4205878211904824\n"
     ]
    },
    {
     "name": "stderr",
     "output_type": "stream",
     "text": [
      " 80%|████████  | 801/1000 [1:59:59<31:43,  9.56s/it]"
     ]
    },
    {
     "name": "stdout",
     "output_type": "stream",
     "text": [
      "epoch: 800 train loss: 1.0558764595985413\n",
      "lambda1:  0.4203864253009133\n"
     ]
    },
    {
     "name": "stderr",
     "output_type": "stream",
     "text": [
      " 80%|████████  | 802/1000 [2:00:06<28:50,  8.74s/it]"
     ]
    },
    {
     "name": "stdout",
     "output_type": "stream",
     "text": [
      "epoch: 801 train loss: 1.04551424407959\n",
      "lambda1:  0.42018570777595826\n"
     ]
    },
    {
     "name": "stderr",
     "output_type": "stream",
     "text": [
      " 80%|████████  | 803/1000 [2:00:12<26:41,  8.13s/it]"
     ]
    },
    {
     "name": "stdout",
     "output_type": "stream",
     "text": [
      "epoch: 802 train loss: 1.058867880821228\n",
      "lambda1:  0.41998422203096497\n"
     ]
    },
    {
     "name": "stderr",
     "output_type": "stream",
     "text": [
      " 80%|████████  | 804/1000 [2:00:19<25:10,  7.71s/it]"
     ]
    },
    {
     "name": "stdout",
     "output_type": "stream",
     "text": [
      "epoch: 803 train loss: 1.1338241348266602\n",
      "lambda1:  0.4200342440829366\n",
      "epoch: 804 train loss: 1.1217199716567994\n",
      "epoch: 804\n",
      "clean accuracy: 0.8685\n"
     ]
    },
    {
     "name": "stderr",
     "output_type": "stream",
     "text": [
      " 80%|████████  | 805/1000 [2:00:37<35:06, 10.80s/it]"
     ]
    },
    {
     "name": "stdout",
     "output_type": "stream",
     "text": [
      "epoch: 804\n",
      "attack accuracy: 0.9366\n",
      "lambda1:  0.4198326500532456\n"
     ]
    },
    {
     "name": "stderr",
     "output_type": "stream",
     "text": [
      " 81%|████████  | 806/1000 [2:00:44<30:54,  9.56s/it]"
     ]
    },
    {
     "name": "stdout",
     "output_type": "stream",
     "text": [
      "epoch: 805 train loss: 1.164138949394226\n",
      "lambda1:  0.4201166498087259\n"
     ]
    },
    {
     "name": "stderr",
     "output_type": "stream",
     "text": [
      " 81%|████████  | 807/1000 [2:00:51<28:17,  8.80s/it]"
     ]
    },
    {
     "name": "stdout",
     "output_type": "stream",
     "text": [
      "epoch: 806 train loss: 0.9461798639297485\n",
      "lambda1:  0.4199177638746695\n"
     ]
    },
    {
     "name": "stderr",
     "output_type": "stream",
     "text": [
      " 81%|████████  | 808/1000 [2:00:58<26:27,  8.27s/it]"
     ]
    },
    {
     "name": "stdout",
     "output_type": "stream",
     "text": [
      "epoch: 807 train loss: 1.0692960796356201\n",
      "lambda1:  0.4197207654210656\n"
     ]
    },
    {
     "name": "stderr",
     "output_type": "stream",
     "text": [
      " 81%|████████  | 809/1000 [2:01:05<24:56,  7.83s/it]"
     ]
    },
    {
     "name": "stdout",
     "output_type": "stream",
     "text": [
      "epoch: 808 train loss: 1.0505843086242677\n",
      "lambda1:  0.4197666928978513\n"
     ]
    },
    {
     "name": "stderr",
     "output_type": "stream",
     "text": [
      " 81%|████████  | 809/1000 [2:01:10<28:36,  8.99s/it]\n"
     ]
    },
    {
     "ename": "KeyboardInterrupt",
     "evalue": "",
     "output_type": "error",
     "traceback": [
      "\u001b[0;31m---------------------------------------------------------------------------\u001b[0m",
      "\u001b[0;31mKeyboardInterrupt\u001b[0m                         Traceback (most recent call last)",
      "\u001b[0;32m<ipython-input-71-1e81b68f9e31>\u001b[0m in \u001b[0;36m<module>\u001b[0;34m\u001b[0m\n\u001b[1;32m     13\u001b[0m \u001b[0;34m\u001b[0m\u001b[0m\n\u001b[1;32m     14\u001b[0m     \u001b[0mprint\u001b[0m\u001b[0;34m(\u001b[0m\u001b[0;34m\"lambda1: \"\u001b[0m\u001b[0;34m,\u001b[0m \u001b[0mlambda1\u001b[0m\u001b[0;34m)\u001b[0m\u001b[0;34m\u001b[0m\u001b[0;34m\u001b[0m\u001b[0m\n\u001b[0;32m---> 15\u001b[0;31m     adjust = train_with_grad_control(\n\u001b[0m\u001b[1;32m     16\u001b[0m         \u001b[0mmodel\u001b[0m\u001b[0;34m,\u001b[0m \u001b[0mepoch\u001b[0m\u001b[0;34m,\u001b[0m \u001b[0mtrain_loader\u001b[0m\u001b[0;34m,\u001b[0m \u001b[0mcriterion\u001b[0m\u001b[0;34m,\u001b[0m \u001b[0moptimizer\u001b[0m\u001b[0;34m,\u001b[0m \u001b[0mlambda1\u001b[0m\u001b[0;34m\u001b[0m\u001b[0;34m\u001b[0m\u001b[0m\n\u001b[1;32m     17\u001b[0m     )\n",
      "\u001b[0;32m~/Data-free-backdoor/utils.py\u001b[0m in \u001b[0;36mtrain_with_grad_control\u001b[0;34m(model, epoch, trainloader, criterion, optimizer, lambda1)\u001b[0m\n\u001b[1;32m    181\u001b[0m     \u001b[0mnum_poison\u001b[0m \u001b[0;34m=\u001b[0m \u001b[0;36m0\u001b[0m\u001b[0;34m\u001b[0m\u001b[0;34m\u001b[0m\u001b[0m\n\u001b[1;32m    182\u001b[0m \u001b[0;34m\u001b[0m\u001b[0m\n\u001b[0;32m--> 183\u001b[0;31m     \u001b[0;32mfor\u001b[0m \u001b[0mi\u001b[0m\u001b[0;34m,\u001b[0m \u001b[0;34m(\u001b[0m\u001b[0minput\u001b[0m\u001b[0;34m,\u001b[0m \u001b[0mtarget\u001b[0m\u001b[0;34m,\u001b[0m \u001b[0mpoisoned_flags\u001b[0m\u001b[0;34m)\u001b[0m \u001b[0;32min\u001b[0m \u001b[0menumerate\u001b[0m\u001b[0;34m(\u001b[0m\u001b[0mtrainloader\u001b[0m\u001b[0;34m)\u001b[0m\u001b[0;34m:\u001b[0m\u001b[0;34m\u001b[0m\u001b[0;34m\u001b[0m\u001b[0m\n\u001b[0m\u001b[1;32m    184\u001b[0m         \u001b[0minput\u001b[0m\u001b[0;34m,\u001b[0m \u001b[0mtarget\u001b[0m \u001b[0;34m=\u001b[0m \u001b[0minput\u001b[0m\u001b[0;34m.\u001b[0m\u001b[0mto\u001b[0m\u001b[0;34m(\u001b[0m\u001b[0mdevice\u001b[0m\u001b[0;34m)\u001b[0m\u001b[0;34m,\u001b[0m \u001b[0mtarget\u001b[0m\u001b[0;34m.\u001b[0m\u001b[0mto\u001b[0m\u001b[0;34m(\u001b[0m\u001b[0mdevice\u001b[0m\u001b[0;34m)\u001b[0m\u001b[0;34m\u001b[0m\u001b[0;34m\u001b[0m\u001b[0m\n\u001b[1;32m    185\u001b[0m         \u001b[0;31m# print(target)\u001b[0m\u001b[0;34m\u001b[0m\u001b[0;34m\u001b[0m\u001b[0;34m\u001b[0m\u001b[0m\n",
      "\u001b[0;32m/opt/conda/lib/python3.8/site-packages/torch/utils/data/dataloader.py\u001b[0m in \u001b[0;36m__next__\u001b[0;34m(self)\u001b[0m\n\u001b[1;32m    686\u001b[0m             \u001b[0mstart_time\u001b[0m \u001b[0;34m=\u001b[0m \u001b[0mtime\u001b[0m\u001b[0;34m.\u001b[0m\u001b[0mtime\u001b[0m\u001b[0;34m(\u001b[0m\u001b[0;34m)\u001b[0m\u001b[0;34m\u001b[0m\u001b[0;34m\u001b[0m\u001b[0m\n\u001b[1;32m    687\u001b[0m             \u001b[0;31m# The next_data is updated to return a tuple that consists of worker id in addition to the data.\u001b[0m\u001b[0;34m\u001b[0m\u001b[0;34m\u001b[0m\u001b[0;34m\u001b[0m\u001b[0m\n\u001b[0;32m--> 688\u001b[0;31m             \u001b[0;34m(\u001b[0m\u001b[0mdata\u001b[0m\u001b[0;34m,\u001b[0m \u001b[0mworker_id\u001b[0m\u001b[0;34m)\u001b[0m \u001b[0;34m=\u001b[0m \u001b[0mself\u001b[0m\u001b[0;34m.\u001b[0m\u001b[0m_next_data\u001b[0m\u001b[0;34m(\u001b[0m\u001b[0;34m)\u001b[0m\u001b[0;34m\u001b[0m\u001b[0;34m\u001b[0m\u001b[0m\n\u001b[0m\u001b[1;32m    689\u001b[0m             \u001b[0mduration\u001b[0m \u001b[0;34m=\u001b[0m \u001b[0mtime\u001b[0m\u001b[0;34m.\u001b[0m\u001b[0mtime\u001b[0m\u001b[0;34m(\u001b[0m\u001b[0;34m)\u001b[0m \u001b[0;34m-\u001b[0m \u001b[0mstart_time\u001b[0m\u001b[0;34m\u001b[0m\u001b[0;34m\u001b[0m\u001b[0m\n\u001b[1;32m    690\u001b[0m             \u001b[0;31m# It is possible that we may not get the correct worker id for samples generated out-of-order.\u001b[0m\u001b[0;34m\u001b[0m\u001b[0;34m\u001b[0m\u001b[0;34m\u001b[0m\u001b[0m\n",
      "\u001b[0;32m/opt/conda/lib/python3.8/site-packages/torch/utils/data/dataloader.py\u001b[0m in \u001b[0;36m_next_data\u001b[0;34m(self)\u001b[0m\n\u001b[1;32m    768\u001b[0m         \u001b[0;31m# the transform operations in dataset_fetcher may attempt to register the smdebug hook.\u001b[0m\u001b[0;34m\u001b[0m\u001b[0;34m\u001b[0m\u001b[0;34m\u001b[0m\u001b[0m\n\u001b[1;32m    769\u001b[0m         \u001b[0msuspend_hook_registration\u001b[0m\u001b[0;34m(\u001b[0m\u001b[0;34m)\u001b[0m\u001b[0;34m\u001b[0m\u001b[0;34m\u001b[0m\u001b[0m\n\u001b[0;32m--> 770\u001b[0;31m         \u001b[0mdata\u001b[0m \u001b[0;34m=\u001b[0m \u001b[0mself\u001b[0m\u001b[0;34m.\u001b[0m\u001b[0m_dataset_fetcher\u001b[0m\u001b[0;34m.\u001b[0m\u001b[0mfetch\u001b[0m\u001b[0;34m(\u001b[0m\u001b[0mindex\u001b[0m\u001b[0;34m)\u001b[0m  \u001b[0;31m# may raise StopIteration\u001b[0m\u001b[0;34m\u001b[0m\u001b[0;34m\u001b[0m\u001b[0m\n\u001b[0m\u001b[1;32m    771\u001b[0m         \u001b[0;32mif\u001b[0m \u001b[0mself\u001b[0m\u001b[0;34m.\u001b[0m\u001b[0m_pin_memory\u001b[0m\u001b[0;34m:\u001b[0m\u001b[0;34m\u001b[0m\u001b[0;34m\u001b[0m\u001b[0m\n\u001b[1;32m    772\u001b[0m             \u001b[0mdata\u001b[0m \u001b[0;34m=\u001b[0m \u001b[0m_utils\u001b[0m\u001b[0;34m.\u001b[0m\u001b[0mpin_memory\u001b[0m\u001b[0;34m.\u001b[0m\u001b[0mpin_memory\u001b[0m\u001b[0;34m(\u001b[0m\u001b[0mdata\u001b[0m\u001b[0;34m,\u001b[0m \u001b[0mself\u001b[0m\u001b[0;34m.\u001b[0m\u001b[0m_pin_memory_device\u001b[0m\u001b[0;34m)\u001b[0m\u001b[0;34m\u001b[0m\u001b[0;34m\u001b[0m\u001b[0m\n",
      "\u001b[0;32m/opt/conda/lib/python3.8/site-packages/torch/utils/data/_utils/fetch.py\u001b[0m in \u001b[0;36mfetch\u001b[0;34m(self, possibly_batched_index)\u001b[0m\n\u001b[1;32m     47\u001b[0m     \u001b[0;32mdef\u001b[0m \u001b[0mfetch\u001b[0m\u001b[0;34m(\u001b[0m\u001b[0mself\u001b[0m\u001b[0;34m,\u001b[0m \u001b[0mpossibly_batched_index\u001b[0m\u001b[0;34m)\u001b[0m\u001b[0;34m:\u001b[0m\u001b[0;34m\u001b[0m\u001b[0;34m\u001b[0m\u001b[0m\n\u001b[1;32m     48\u001b[0m         \u001b[0;32mif\u001b[0m \u001b[0mself\u001b[0m\u001b[0;34m.\u001b[0m\u001b[0mauto_collation\u001b[0m\u001b[0;34m:\u001b[0m\u001b[0;34m\u001b[0m\u001b[0;34m\u001b[0m\u001b[0m\n\u001b[0;32m---> 49\u001b[0;31m             \u001b[0mdata\u001b[0m \u001b[0;34m=\u001b[0m \u001b[0;34m[\u001b[0m\u001b[0mself\u001b[0m\u001b[0;34m.\u001b[0m\u001b[0mdataset\u001b[0m\u001b[0;34m[\u001b[0m\u001b[0midx\u001b[0m\u001b[0;34m]\u001b[0m \u001b[0;32mfor\u001b[0m \u001b[0midx\u001b[0m \u001b[0;32min\u001b[0m \u001b[0mpossibly_batched_index\u001b[0m\u001b[0;34m]\u001b[0m\u001b[0;34m\u001b[0m\u001b[0;34m\u001b[0m\u001b[0m\n\u001b[0m\u001b[1;32m     50\u001b[0m         \u001b[0;32melse\u001b[0m\u001b[0;34m:\u001b[0m\u001b[0;34m\u001b[0m\u001b[0;34m\u001b[0m\u001b[0m\n\u001b[1;32m     51\u001b[0m             \u001b[0mdata\u001b[0m \u001b[0;34m=\u001b[0m \u001b[0mself\u001b[0m\u001b[0;34m.\u001b[0m\u001b[0mdataset\u001b[0m\u001b[0;34m[\u001b[0m\u001b[0mpossibly_batched_index\u001b[0m\u001b[0;34m]\u001b[0m\u001b[0;34m\u001b[0m\u001b[0;34m\u001b[0m\u001b[0m\n",
      "\u001b[0;32m/opt/conda/lib/python3.8/site-packages/torch/utils/data/_utils/fetch.py\u001b[0m in \u001b[0;36m<listcomp>\u001b[0;34m(.0)\u001b[0m\n\u001b[1;32m     47\u001b[0m     \u001b[0;32mdef\u001b[0m \u001b[0mfetch\u001b[0m\u001b[0;34m(\u001b[0m\u001b[0mself\u001b[0m\u001b[0;34m,\u001b[0m \u001b[0mpossibly_batched_index\u001b[0m\u001b[0;34m)\u001b[0m\u001b[0;34m:\u001b[0m\u001b[0;34m\u001b[0m\u001b[0;34m\u001b[0m\u001b[0m\n\u001b[1;32m     48\u001b[0m         \u001b[0;32mif\u001b[0m \u001b[0mself\u001b[0m\u001b[0;34m.\u001b[0m\u001b[0mauto_collation\u001b[0m\u001b[0;34m:\u001b[0m\u001b[0;34m\u001b[0m\u001b[0;34m\u001b[0m\u001b[0m\n\u001b[0;32m---> 49\u001b[0;31m             \u001b[0mdata\u001b[0m \u001b[0;34m=\u001b[0m \u001b[0;34m[\u001b[0m\u001b[0mself\u001b[0m\u001b[0;34m.\u001b[0m\u001b[0mdataset\u001b[0m\u001b[0;34m[\u001b[0m\u001b[0midx\u001b[0m\u001b[0;34m]\u001b[0m \u001b[0;32mfor\u001b[0m \u001b[0midx\u001b[0m \u001b[0;32min\u001b[0m \u001b[0mpossibly_batched_index\u001b[0m\u001b[0;34m]\u001b[0m\u001b[0;34m\u001b[0m\u001b[0;34m\u001b[0m\u001b[0m\n\u001b[0m\u001b[1;32m     50\u001b[0m         \u001b[0;32melse\u001b[0m\u001b[0;34m:\u001b[0m\u001b[0;34m\u001b[0m\u001b[0;34m\u001b[0m\u001b[0m\n\u001b[1;32m     51\u001b[0m             \u001b[0mdata\u001b[0m \u001b[0;34m=\u001b[0m \u001b[0mself\u001b[0m\u001b[0;34m.\u001b[0m\u001b[0mdataset\u001b[0m\u001b[0;34m[\u001b[0m\u001b[0mpossibly_batched_index\u001b[0m\u001b[0;34m]\u001b[0m\u001b[0;34m\u001b[0m\u001b[0;34m\u001b[0m\u001b[0m\n",
      "\u001b[0;32m~/Data-free-backdoor/tensors_dataset_img.py\u001b[0m in \u001b[0;36m__getitem__\u001b[0;34m(self, index)\u001b[0m\n\u001b[1;32m     58\u001b[0m \u001b[0;34m\u001b[0m\u001b[0m\n\u001b[1;32m     59\u001b[0m         \u001b[0;32mif\u001b[0m \u001b[0mself\u001b[0m\u001b[0;34m.\u001b[0m\u001b[0mtransform\u001b[0m \u001b[0;34m!=\u001b[0m \u001b[0;32mNone\u001b[0m\u001b[0;34m:\u001b[0m\u001b[0;34m\u001b[0m\u001b[0;34m\u001b[0m\u001b[0m\n\u001b[0;32m---> 60\u001b[0;31m             \u001b[0mimg\u001b[0m \u001b[0;34m=\u001b[0m \u001b[0mself\u001b[0m\u001b[0;34m.\u001b[0m\u001b[0mtransform\u001b[0m\u001b[0;34m(\u001b[0m\u001b[0mimg\u001b[0m\u001b[0;34m)\u001b[0m\u001b[0;34m.\u001b[0m\u001b[0mfloat\u001b[0m\u001b[0;34m(\u001b[0m\u001b[0;34m)\u001b[0m\u001b[0;34m\u001b[0m\u001b[0;34m\u001b[0m\u001b[0m\n\u001b[0m\u001b[1;32m     61\u001b[0m             \u001b[0;31m# print(img.shape)\u001b[0m\u001b[0;34m\u001b[0m\u001b[0;34m\u001b[0m\u001b[0;34m\u001b[0m\u001b[0m\n\u001b[1;32m     62\u001b[0m             \u001b[0;31m# print(type(img))\u001b[0m\u001b[0;34m\u001b[0m\u001b[0;34m\u001b[0m\u001b[0;34m\u001b[0m\u001b[0m\n",
      "\u001b[0;32m/opt/conda/lib/python3.8/site-packages/torchvision/transforms/transforms.py\u001b[0m in \u001b[0;36m__call__\u001b[0;34m(self, img)\u001b[0m\n\u001b[1;32m     92\u001b[0m     \u001b[0;32mdef\u001b[0m \u001b[0m__call__\u001b[0m\u001b[0;34m(\u001b[0m\u001b[0mself\u001b[0m\u001b[0;34m,\u001b[0m \u001b[0mimg\u001b[0m\u001b[0;34m)\u001b[0m\u001b[0;34m:\u001b[0m\u001b[0;34m\u001b[0m\u001b[0;34m\u001b[0m\u001b[0m\n\u001b[1;32m     93\u001b[0m         \u001b[0;32mfor\u001b[0m \u001b[0mt\u001b[0m \u001b[0;32min\u001b[0m \u001b[0mself\u001b[0m\u001b[0;34m.\u001b[0m\u001b[0mtransforms\u001b[0m\u001b[0;34m:\u001b[0m\u001b[0;34m\u001b[0m\u001b[0;34m\u001b[0m\u001b[0m\n\u001b[0;32m---> 94\u001b[0;31m             \u001b[0mimg\u001b[0m \u001b[0;34m=\u001b[0m \u001b[0mt\u001b[0m\u001b[0;34m(\u001b[0m\u001b[0mimg\u001b[0m\u001b[0;34m)\u001b[0m\u001b[0;34m\u001b[0m\u001b[0;34m\u001b[0m\u001b[0m\n\u001b[0m\u001b[1;32m     95\u001b[0m         \u001b[0;32mreturn\u001b[0m \u001b[0mimg\u001b[0m\u001b[0;34m\u001b[0m\u001b[0;34m\u001b[0m\u001b[0m\n\u001b[1;32m     96\u001b[0m \u001b[0;34m\u001b[0m\u001b[0m\n",
      "\u001b[0;32m/opt/conda/lib/python3.8/site-packages/torchvision/transforms/transforms.py\u001b[0m in \u001b[0;36m__call__\u001b[0;34m(self, pic)\u001b[0m\n\u001b[1;32m    132\u001b[0m             \u001b[0mTensor\u001b[0m\u001b[0;34m:\u001b[0m \u001b[0mConverted\u001b[0m \u001b[0mimage\u001b[0m\u001b[0;34m.\u001b[0m\u001b[0;34m\u001b[0m\u001b[0;34m\u001b[0m\u001b[0m\n\u001b[1;32m    133\u001b[0m         \"\"\"\n\u001b[0;32m--> 134\u001b[0;31m         \u001b[0;32mreturn\u001b[0m \u001b[0mF\u001b[0m\u001b[0;34m.\u001b[0m\u001b[0mto_tensor\u001b[0m\u001b[0;34m(\u001b[0m\u001b[0mpic\u001b[0m\u001b[0;34m)\u001b[0m\u001b[0;34m\u001b[0m\u001b[0;34m\u001b[0m\u001b[0m\n\u001b[0m\u001b[1;32m    135\u001b[0m \u001b[0;34m\u001b[0m\u001b[0m\n\u001b[1;32m    136\u001b[0m     \u001b[0;32mdef\u001b[0m \u001b[0m__repr__\u001b[0m\u001b[0;34m(\u001b[0m\u001b[0mself\u001b[0m\u001b[0;34m)\u001b[0m \u001b[0;34m->\u001b[0m \u001b[0mstr\u001b[0m\u001b[0;34m:\u001b[0m\u001b[0;34m\u001b[0m\u001b[0;34m\u001b[0m\u001b[0m\n",
      "\u001b[0;32m/opt/conda/lib/python3.8/site-packages/torchvision/transforms/functional.py\u001b[0m in \u001b[0;36mto_tensor\u001b[0;34m(pic)\u001b[0m\n\u001b[1;32m    170\u001b[0m     \u001b[0mimg\u001b[0m \u001b[0;34m=\u001b[0m \u001b[0mimg\u001b[0m\u001b[0;34m.\u001b[0m\u001b[0mpermute\u001b[0m\u001b[0;34m(\u001b[0m\u001b[0;34m(\u001b[0m\u001b[0;36m2\u001b[0m\u001b[0;34m,\u001b[0m \u001b[0;36m0\u001b[0m\u001b[0;34m,\u001b[0m \u001b[0;36m1\u001b[0m\u001b[0;34m)\u001b[0m\u001b[0;34m)\u001b[0m\u001b[0;34m.\u001b[0m\u001b[0mcontiguous\u001b[0m\u001b[0;34m(\u001b[0m\u001b[0;34m)\u001b[0m\u001b[0;34m\u001b[0m\u001b[0;34m\u001b[0m\u001b[0m\n\u001b[1;32m    171\u001b[0m     \u001b[0;32mif\u001b[0m \u001b[0misinstance\u001b[0m\u001b[0;34m(\u001b[0m\u001b[0mimg\u001b[0m\u001b[0;34m,\u001b[0m \u001b[0mtorch\u001b[0m\u001b[0;34m.\u001b[0m\u001b[0mByteTensor\u001b[0m\u001b[0;34m)\u001b[0m\u001b[0;34m:\u001b[0m\u001b[0;34m\u001b[0m\u001b[0;34m\u001b[0m\u001b[0m\n\u001b[0;32m--> 172\u001b[0;31m         \u001b[0;32mreturn\u001b[0m \u001b[0mimg\u001b[0m\u001b[0;34m.\u001b[0m\u001b[0mto\u001b[0m\u001b[0;34m(\u001b[0m\u001b[0mdtype\u001b[0m\u001b[0;34m=\u001b[0m\u001b[0mdefault_float_dtype\u001b[0m\u001b[0;34m)\u001b[0m\u001b[0;34m.\u001b[0m\u001b[0mdiv\u001b[0m\u001b[0;34m(\u001b[0m\u001b[0;36m255\u001b[0m\u001b[0;34m)\u001b[0m\u001b[0;34m\u001b[0m\u001b[0;34m\u001b[0m\u001b[0m\n\u001b[0m\u001b[1;32m    173\u001b[0m     \u001b[0;32melse\u001b[0m\u001b[0;34m:\u001b[0m\u001b[0;34m\u001b[0m\u001b[0;34m\u001b[0m\u001b[0m\n\u001b[1;32m    174\u001b[0m         \u001b[0;32mreturn\u001b[0m \u001b[0mimg\u001b[0m\u001b[0;34m\u001b[0m\u001b[0;34m\u001b[0m\u001b[0m\n",
      "\u001b[0;31mKeyboardInterrupt\u001b[0m: "
     ]
    }
   ],
   "source": [
    "lambda1 = 1\n",
    "alpha = 0.05\n",
    "\n",
    "import warnings\n",
    "warnings.filterwarnings(\"ignore\") \n",
    "\n",
    "# TODO: remove this\n",
    "epochs = 1000\n",
    "\n",
    "for epoch in tqdm(range(epochs)):\n",
    "    # train_with_grad_control(model, epoch, train_loader_clean, criterion, optimizer)\n",
    "    # train_with_grad_control(model, epoch, train_loader, criterion, optimizer)\n",
    "\n",
    "    print(\"lambda1: \", lambda1)\n",
    "    adjust = train_with_grad_control(\n",
    "        model, epoch, train_loader, criterion, optimizer, lambda1\n",
    "    )\n",
    "    lambda1 += alpha * adjust\n",
    "    lambda1 = min(lambda1, 1)\n",
    "    lambda1 = max(0, lambda1)\n",
    "\n",
    "    if (epoch + 1) % 5 == 0:\n",
    "        validate(model, epoch, test_loader, criterion_verify, True)\n",
    "        validate(model, epoch, test_loader_poison, criterion_verify, False)\n",
    "\n",
    "    state = {\n",
    "        \"net\": model.state_dict(),\n",
    "        \"masks\": [w for name, w in model.named_parameters() if \"mask\" in name],\n",
    "        \"epoch\": epoch,\n",
    "        # 'error_history': error_history,\n",
    "    }\n",
    "    torch.save(state, \"checkpoints/cifar10_optim_1.t7\")\n",
    "    scheduler.step()\n",
    "\n",
    "print(\"model train finished\")"
   ]
  }
 ],
 "metadata": {
  "kernelspec": {
   "display_name": "base",
   "language": "python",
   "name": "python3"
  },
  "language_info": {
   "codemirror_mode": {
    "name": "ipython",
    "version": 3
   },
   "file_extension": ".py",
   "mimetype": "text/x-python",
   "name": "python",
   "nbconvert_exporter": "python",
   "pygments_lexer": "ipython3",
   "version": "3.9.16"
  }
 },
 "nbformat": 4,
 "nbformat_minor": 4
}
