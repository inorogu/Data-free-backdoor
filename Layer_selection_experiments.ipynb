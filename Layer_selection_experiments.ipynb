{
 "cells": [
  {
   "cell_type": "code",
   "execution_count": 3,
   "metadata": {
    "tags": []
   },
   "outputs": [
    {
     "name": "stdout",
     "output_type": "stream",
     "text": [
      "\u001b[33mWARNING: Running pip as the 'root' user can result in broken permissions and conflicting behaviour with the system package manager. It is recommended to use a virtual environment instead: https://pip.pypa.io/warnings/venv\u001b[0m\u001b[33m\n",
      "\u001b[0m\n",
      "\u001b[1m[\u001b[0m\u001b[34;49mnotice\u001b[0m\u001b[1;39;49m]\u001b[0m\u001b[39;49m A new release of pip is available: \u001b[0m\u001b[31;49m23.0\u001b[0m\u001b[39;49m -> \u001b[0m\u001b[32;49m23.1.2\u001b[0m\n",
      "\u001b[1m[\u001b[0m\u001b[34;49mnotice\u001b[0m\u001b[1;39;49m]\u001b[0m\u001b[39;49m To update, run: \u001b[0m\u001b[32;49mpip install --upgrade pip\u001b[0m\n"
     ]
    }
   ],
   "source": [
    "!pip3 install -q -r requirements.txt # make sure we got all packages we need"
   ]
  },
  {
   "cell_type": "code",
   "execution_count": 125,
   "metadata": {
    "tags": []
   },
   "outputs": [],
   "source": [
    "# -*- coding: utf-8 -*\n",
    "import argparse\n",
    "import torch\n",
    "import torchvision\n",
    "import torchvision.transforms as transforms\n",
    "from torch.utils.data import DataLoader\n",
    "from torchvision import models\n",
    "import os\n",
    "import multiprocessing as mp\n",
    "import torch.nn as nn\n",
    "import torch.optim as optim\n",
    "import torch.optim.lr_scheduler as lr_scheduler\n",
    "import numpy as np\n",
    "from tqdm import tqdm\n",
    "from tensors_dataset_path import TensorDatasetPath\n",
    "from tensors_dataset_img import TensorDatasetImg\n",
    "import random\n",
    "import sys\n",
    "from utils import *\n",
    "from models import *\n",
    "from data_transform import *"
   ]
  },
  {
   "cell_type": "code",
   "execution_count": 126,
   "metadata": {
    "tags": []
   },
   "outputs": [],
   "source": [
    "# Setup reprouducible environment\n",
    "\n",
    "def setup_seed(seed):\n",
    "    torch.manual_seed(seed)\n",
    "    torch.cuda.manual_seed(seed)\n",
    "    torch.cuda.manual_seed_all(seed)\n",
    "    np.random.seed(seed)\n",
    "    random.seed(seed)\n",
    "    torch.backends.cudnn.deterministic = True\n",
    "    torch.use_deterministic_algorithms(False)\n",
    "\n",
    "setup_seed(20)"
   ]
  },
  {
   "cell_type": "code",
   "execution_count": 127,
   "metadata": {
    "tags": []
   },
   "outputs": [],
   "source": [
    "# !python knowledge_distill_dataset.py\n",
    "# !python data_compression.py"
   ]
  },
  {
   "cell_type": "code",
   "execution_count": 156,
   "metadata": {
    "tags": []
   },
   "outputs": [],
   "source": [
    "params = read_config()\n",
    "\n",
    "device = torch.device(\"cuda:0\" if torch.cuda.is_available() else \"cpu\")\n",
    "if torch.cuda.is_available():\n",
    "    os.environ[\"CUDA_VISIBLE_DEVICES\"] = \"0,1,2,3\""
   ]
  },
  {
   "cell_type": "code",
   "execution_count": 168,
   "metadata": {
    "tags": []
   },
   "outputs": [
    {
     "name": "stdout",
     "output_type": "stream",
     "text": [
      "model_name:  resnets\n",
      "checkpoint:  resnets_clean\n"
     ]
    }
   ],
   "source": [
    "model_name = params[\"model\"]\n",
    "model_set = {\n",
    "    \"resnets\": ResNetS(nclasses=10),\n",
    "    \"vgg_face\": VGG_16(),\n",
    "    \"gtsrb\": gtsrb(),\n",
    "    \"resnet50\": models.resnet50(),\n",
    "}\n",
    "print(\"model_name: \", model_name)\n",
    "model = model_set[model_name]\n",
    "\n",
    "ck_name = params[\"checkpoint\"]\n",
    "old_format = False\n",
    "print(\"checkpoint: \", ck_name)\n",
    "model, sd = load_model(model, \"checkpoints/\" + ck_name, old_format)"
   ]
  },
  {
   "cell_type": "code",
   "execution_count": 169,
   "metadata": {
    "tags": []
   },
   "outputs": [
    {
     "name": "stdout",
     "output_type": "stream",
     "text": [
      "Model: ResNet\n",
      "1 - Conv2d\n",
      "\tTrainable:True\n",
      "2 - BatchNorm2d\n",
      "\tTrainable:True\n",
      "3 - Sequential\n",
      "\tTrainable:True\n",
      "4 - Sequential\n",
      "\tTrainable:True\n",
      "5 - Sequential\n",
      "\tTrainable:True\n",
      "6 - Sequential\n",
      "\tTrainable:True\n",
      "7 - Linear\n",
      "\tTrainable:True\n"
     ]
    }
   ],
   "source": [
    "print_model_topology(model)"
   ]
  },
  {
   "cell_type": "code",
   "execution_count": 170,
   "metadata": {
    "tags": []
   },
   "outputs": [
    {
     "name": "stdout",
     "output_type": "stream",
     "text": [
      "model loaded\n"
     ]
    }
   ],
   "source": [
    "if torch.cuda.is_available():\n",
    "    model = model.cuda()\n",
    "    if torch.cuda.device_count() > 1:\n",
    "        model = nn.DataParallel(model)\n",
    "model.to(device)\n",
    "\n",
    "# for name, value in model.named_parameters():\n",
    "#     if name == \"layer4.0.conv1.weight\":\n",
    "#         break\n",
    "#     value.requires_grad = False\n",
    "\n",
    "model.eval()\n",
    "\n",
    "print('model loaded')"
   ]
  },
  {
   "cell_type": "code",
   "execution_count": 171,
   "metadata": {
    "tags": []
   },
   "outputs": [
    {
     "name": "stdout",
     "output_type": "stream",
     "text": [
      "Model: ResNet\n",
      "1 - Conv2d\n",
      "\tTrainable:True\n",
      "2 - BatchNorm2d\n",
      "\tTrainable:True\n",
      "3 - Sequential\n",
      "\tTrainable:True\n",
      "4 - Sequential\n",
      "\tTrainable:True\n",
      "5 - Sequential\n",
      "\tTrainable:True\n",
      "6 - Sequential\n",
      "\tTrainable:True\n",
      "7 - Linear\n",
      "\tTrainable:True\n"
     ]
    }
   ],
   "source": [
    "print_model_topology(model)"
   ]
  },
  {
   "cell_type": "code",
   "execution_count": 172,
   "metadata": {
    "tags": []
   },
   "outputs": [
    {
     "name": "stdout",
     "output_type": "stream",
     "text": [
      "distill_data num: 20000\n",
      "load train data finished\n",
      "<class 'numpy.ndarray'> <class 'PIL.Image.Image'>\n",
      "<class 'numpy.ndarray'> <class 'torch.Tensor'>\n"
     ]
    }
   ],
   "source": [
    "# Load training dataset\n",
    "\n",
    "distill_data_name = params[\"distill_data\"]\n",
    "compressed = params[\"compressed\"]\n",
    "com_ratio = params[\"com_ratio\"]\n",
    "if compressed:\n",
    "    if model_name == \"gtsrb\":\n",
    "        train_dataset = torch.load(\n",
    "            \"./dataset/compression_\"\n",
    "            + distill_data_name\n",
    "            + \"_\"\n",
    "            + str(com_ratio)\n",
    "            + \"_gtsrb\"\n",
    "        )\n",
    "    else:\n",
    "        train_dataset = torch.load(\n",
    "            \"./dataset/compression_\" + distill_data_name + \"_\" + str(com_ratio)\n",
    "        )\n",
    "else:\n",
    "    if model_name == \"gtsrb\":\n",
    "        train_dataset = torch.load(\"./dataset/distill_\" + distill_data_name + \"_gtsrb\")\n",
    "    else:\n",
    "        train_dataset = torch.load(\"./dataset/distill_\" + distill_data_name)\n",
    "print(\"distill_data num:\", len(train_dataset))\n",
    "train_images = []\n",
    "train_labels = []\n",
    "for i in range(len(train_dataset)):\n",
    "    img = train_dataset[i][0]\n",
    "    label = train_dataset[i][1].cpu()\n",
    "    train_images.append(img)\n",
    "    train_labels.append(label)\n",
    "train_images = np.array(train_images)\n",
    "train_labels = np.array(train_labels)\n",
    "\n",
    "# train_images = np.load('train_images.npy', allow_pickle = True)\n",
    "# train_labels = np.load('train_images.npy', allow_pickle = True)\n",
    "print(\"load train data finished\")\n",
    "\n",
    "print(type(train_images), type(train_images[0]))\n",
    "print(type(train_labels), type(train_labels[0]))"
   ]
  },
  {
   "cell_type": "code",
   "execution_count": 173,
   "metadata": {
    "tags": []
   },
   "outputs": [
    {
     "name": "stdout",
     "output_type": "stream",
     "text": [
      "Files already downloaded and verified\n",
      "load data finished\n",
      "len of test data 10000\n"
     ]
    }
   ],
   "source": [
    "# Load test dataset\n",
    "\n",
    "dataset_name = params[\"data\"]\n",
    "\n",
    "if dataset_name == \"VGGFace\":\n",
    "    test_images, test_labels = get_dataset_vggface(\"./dataset/VGGFace/\", max_num=10)\n",
    "elif dataset_name == \"tiny-imagenet-200\":\n",
    "    testset = torchvision.datasets.ImageFolder(\n",
    "        root=\"./dataset/tiny-imagenet-200/val\", transform=None\n",
    "    )\n",
    "    test_images = []\n",
    "    test_labels = []\n",
    "    for i in range(len(testset)):\n",
    "        img = testset[i][0]\n",
    "        label = testset[i][1]\n",
    "        test_images.append(img)\n",
    "        test_labels.append(label)\n",
    "    test_images = np.array(test_images)\n",
    "    test_labels = np.array(test_labels)\n",
    "elif dataset_name == \"cifar10\":\n",
    "    _dataset = torchvision.datasets.CIFAR10(root=\"./data\", train=False, download=True)\n",
    "    test_images = [_dataset[i][0] for i in range(len(_dataset))]\n",
    "    test_labels = _dataset.targets\n",
    "else:\n",
    "    test_images, test_labels = get_dataset(\"./dataset/\" + dataset_name + \"/test/\")\n",
    "\n",
    "\n",
    "print(\"load data finished\")\n",
    "print(\"len of test data\", len(test_labels))\n",
    "criterion_verify = nn.CrossEntropyLoss()"
   ]
  },
  {
   "cell_type": "code",
   "execution_count": 174,
   "metadata": {
    "tags": []
   },
   "outputs": [
    {
     "name": "stdout",
     "output_type": "stream",
     "text": [
      "poison data finished\n"
     ]
    }
   ],
   "source": [
    "batch_size = 320\n",
    "\n",
    "if model_name == \"resnets\":\n",
    "    train_loader = DataLoader(\n",
    "        TensorDatasetImg(train_images, train_labels, transform=cifar100_transforms),\n",
    "        shuffle=True,\n",
    "        batch_size=batch_size,\n",
    "        num_workers=0,\n",
    "        pin_memory=True,\n",
    "    )\n",
    "\n",
    "    test_loader = DataLoader(\n",
    "        TensorDatasetImg(\n",
    "            test_images,\n",
    "            test_labels,\n",
    "            transform=cifar10_transforms_test,\n",
    "            mode=\"test\",\n",
    "            test_poisoned=\"False\",\n",
    "            transform_name=\"cifar10_transforms_test\",\n",
    "        ),\n",
    "        shuffle=False,\n",
    "        batch_size=64,\n",
    "        num_workers=0,\n",
    "        pin_memory=True,\n",
    "    )\n",
    "\n",
    "    test_loader_poison = DataLoader(\n",
    "        TensorDatasetImg(\n",
    "            test_images,\n",
    "            test_labels,\n",
    "            transform=cifar10_transforms_test,\n",
    "            mode=\"test\",\n",
    "            test_poisoned=\"True\",\n",
    "            transform_name=\"cifar10_transforms_test\",\n",
    "        ),\n",
    "        shuffle=False,\n",
    "        batch_size=64,\n",
    "        num_workers=0,\n",
    "        pin_memory=True,\n",
    "    )\n",
    "elif model_name == \"vgg_face\":\n",
    "    train_loader = DataLoader(\n",
    "        TensorDatasetImg(train_images, train_labels, transform=LFW_transforms),\n",
    "        shuffle=True,\n",
    "        batch_size=batch_size,\n",
    "        num_workers=4,\n",
    "        pin_memory=True,\n",
    "    )\n",
    "\n",
    "    test_loader = DataLoader(\n",
    "        TensorDatasetPath(test_images, test_labels, mode=\"test\", test_poisoned=\"False\"),\n",
    "        shuffle=False,\n",
    "        batch_size=64,\n",
    "        num_workers=4,\n",
    "        pin_memory=True,\n",
    "    )\n",
    "\n",
    "    test_loader_poison = DataLoader(\n",
    "        TensorDatasetPath(test_images, test_labels, mode=\"test\", test_poisoned=\"True\"),\n",
    "        shuffle=False,\n",
    "        batch_size=64,\n",
    "        num_workers=4,\n",
    "        pin_memory=True,\n",
    "    )\n",
    "elif model_name == \"gtsrb\":\n",
    "    train_loader = DataLoader(\n",
    "        TensorDatasetImg(train_images, train_labels, transform=cifar100_transforms),\n",
    "        shuffle=True,\n",
    "        batch_size=batch_size,\n",
    "        num_workers=4,\n",
    "        pin_memory=True,\n",
    "    )\n",
    "\n",
    "    test_loader = DataLoader(\n",
    "        TensorDatasetPath(\n",
    "            test_images,\n",
    "            test_labels,\n",
    "            transform=gtsrb_transforms,\n",
    "            mode=\"test\",\n",
    "            test_poisoned=\"False\",\n",
    "            transform_name=\"gtsrb_transforms\",\n",
    "        ),\n",
    "        shuffle=False,\n",
    "        batch_size=64,\n",
    "        num_workers=4,\n",
    "        pin_memory=True,\n",
    "    )\n",
    "\n",
    "    test_loader_poison = DataLoader(\n",
    "        TensorDatasetPath(\n",
    "            test_images,\n",
    "            test_labels,\n",
    "            transform=gtsrb_transforms,\n",
    "            mode=\"test\",\n",
    "            test_poisoned=\"True\",\n",
    "            transform_name=\"gtsrb_transforms\",\n",
    "        ),\n",
    "        shuffle=False,\n",
    "        batch_size=64,\n",
    "        num_workers=4,\n",
    "        pin_memory=True,\n",
    "    )\n",
    "\n",
    "elif model_name == \"resnet50\":\n",
    "    train_loader = DataLoader(\n",
    "        TensorDatasetImg(train_images, train_labels, transform=imagenet_transforms),\n",
    "        shuffle=True,\n",
    "        batch_size=batch_size,\n",
    "        num_workers=4,\n",
    "        pin_memory=True,\n",
    "    )\n",
    "\n",
    "    test_loader = DataLoader(\n",
    "        TensorDatasetImg(\n",
    "            test_images,\n",
    "            test_labels,\n",
    "            transform=imagenet_transforms,\n",
    "            mode=\"test\",\n",
    "            test_poisoned=\"False\",\n",
    "            transform_name=\"imagenet_transforms_test\",\n",
    "        ),\n",
    "        shuffle=False,\n",
    "        batch_size=64,\n",
    "        num_workers=4,\n",
    "        pin_memory=True,\n",
    "    )\n",
    "\n",
    "    test_loader_poison = DataLoader(\n",
    "        TensorDatasetImg(\n",
    "            test_images,\n",
    "            test_labels,\n",
    "            transform=imagenet_transforms,\n",
    "            mode=\"test\",\n",
    "            test_poisoned=\"True\",\n",
    "            transform_name=\"imagenet_transforms_test\",\n",
    "        ),\n",
    "        shuffle=False,\n",
    "        batch_size=64,\n",
    "        num_workers=4,\n",
    "        pin_memory=True,\n",
    "    )\n",
    "\n",
    "print(\"poison data finished\")"
   ]
  },
  {
   "cell_type": "code",
   "execution_count": 175,
   "metadata": {
    "tags": []
   },
   "outputs": [],
   "source": [
    "lr = params[\"lr\"]\n",
    "epochs = params[\"epochs\"]\n",
    "\n",
    "# optimizer_poison = optim.SGD(model.parameters(), lr=lr)\n",
    "# scheduler_poison = lr_scheduler.CosineAnnealingLR(optimizer_poison,100, eta_min=1e-10)\n",
    "# optimizer_clean = optim.SGD(model.parameters(), lr=lr/2*1.0)\n",
    "# scheduler_clean = lr_scheduler.CosineAnnealingLR(optimizer_clean,100, eta_min=1e-10)\n",
    "optimizer = optim.SGD(model.parameters(), lr=lr)\n",
    "scheduler = lr_scheduler.CosineAnnealingLR(optimizer, epochs, eta_min=1e-10)\n",
    "criterion = nn.MSELoss()"
   ]
  },
  {
   "cell_type": "code",
   "execution_count": 191,
   "metadata": {
    "tags": []
   },
   "outputs": [],
   "source": [
    "def train_loop(model, label=\"\"):\n",
    "    ###########------------First Accuracy----------------############\n",
    "    print(\"first accuracy:\")\n",
    "    before_clean_acc = validate(model, -1, test_loader, criterion_verify, True)\n",
    "    before_poison_acc = validate(model, -1, test_loader_poison, criterion_verify, False)\n",
    "    \n",
    "    lambda1 = 1\n",
    "    alpha = 0.05\n",
    "\n",
    "    import warnings\n",
    "    warnings.filterwarnings(\"ignore\")\n",
    "    import time\n",
    "\n",
    "    # TODO: remove this\n",
    "    #epochs = 1000\n",
    "    epochs = 50\n",
    "    training_start_time = time.time()\n",
    "    epoch_times = []\n",
    "    lambdas = []\n",
    "    \n",
    "    for epoch in tqdm(range(epochs)):\n",
    "        # train_with_grad_control(model, epoch, train_loader_clean, criterion, optimizer)\n",
    "        # train_with_grad_control(model, epoch, train_loader, criterion, optimizer)\n",
    "        epoch_start_time  = time.time()\n",
    "        print(\"lambda1: \", lambda1)\n",
    "        lambdas.append(lambda1)\n",
    "        \n",
    "        adjust = train_with_grad_control(\n",
    "            model, epoch, train_loader, criterion, optimizer, lambda1\n",
    "        )\n",
    "        lambda1 += alpha * adjust\n",
    "        lambda1 = min(lambda1, 1)\n",
    "        lambda1 = max(0, lambda1)\n",
    "\n",
    "        if (epoch + 1) % 5 == 0:\n",
    "            validate(model, epoch, test_loader, criterion_verify, True)\n",
    "            validate(model, epoch, test_loader_poison, criterion_verify, False)\n",
    "\n",
    "        state = {\n",
    "            \"net\": model.state_dict(),\n",
    "            \"masks\": [w for name, w in model.named_parameters() if \"mask\" in name],\n",
    "            \"epoch\": epoch,\n",
    "            # 'error_history': error_history,\n",
    "        }\n",
    "        torch.save(state, f\"checkpoints/cifar10_optim_1{label}.t7\")\n",
    "        scheduler.step()\n",
    "        epoch_end_time = time.time()\n",
    "        epoch_time = epoch_end_time - epoch_start_time\n",
    "        print(f\"took: {epoch_time}\")\n",
    "        epoch_times.append(epoch_time)\n",
    "    training_end_time = time.time()\n",
    "    print(f\"model train finished. elapsed: {training_end_time - training_start_time}\")\n",
    "    return model, (training_end_time, training_start_time, epoch_times), lambdas\n",
    "# train_loop(model)"
   ]
  },
  {
   "cell_type": "code",
   "execution_count": 136,
   "metadata": {
    "tags": []
   },
   "outputs": [],
   "source": [
    "# training_end_time, training_start_time, epoch_times"
   ]
  },
  {
   "cell_type": "code",
   "execution_count": 177,
   "metadata": {
    "tags": []
   },
   "outputs": [],
   "source": [
    "# TODO: freeze model layers\n",
    "import pickle\n",
    "def copy_model(model):\n",
    "    copied_model = pickle.loads(pickle.dumps(model))\n",
    "    return copied_model"
   ]
  },
  {
   "cell_type": "code",
   "execution_count": 178,
   "metadata": {
    "tags": []
   },
   "outputs": [],
   "source": [
    "def print_model_topology(model): \n",
    "    print(f\"Model: {model.__class__.__name__}\")\n",
    "    layer_count = 0\n",
    "    for child in model.children():\n",
    "        layer_count+=1\n",
    "        trainable = all([param.requires_grad for param in child.parameters()])\n",
    "        print(f\"{layer_count} - {child.__class__.__name__}\\n\\tTrainable:{trainable}\")\n",
    "\n",
    "# sanity checking\n",
    "# print_model_topology(m2)"
   ]
  },
  {
   "cell_type": "code",
   "execution_count": 179,
   "metadata": {
    "tags": []
   },
   "outputs": [
    {
     "name": "stdout",
     "output_type": "stream",
     "text": [
      "Model: ResNet\n",
      "1 - Conv2d\n",
      "\tTrainable:True\n",
      "2 - BatchNorm2d\n",
      "\tTrainable:True\n",
      "3 - Sequential\n",
      "\tTrainable:True\n",
      "4 - Sequential\n",
      "\tTrainable:True\n",
      "5 - Sequential\n",
      "\tTrainable:True\n",
      "6 - Sequential\n",
      "\tTrainable:True\n",
      "7 - Linear\n",
      "\tTrainable:True\n"
     ]
    }
   ],
   "source": [
    "print_model_topology(model)"
   ]
  },
  {
   "cell_type": "code",
   "execution_count": 187,
   "metadata": {},
   "outputs": [
    {
     "name": "stdout",
     "output_type": "stream",
     "text": [
      "1 <class 'torch.nn.modules.conv.Conv2d'>\n",
      "2 <class 'torch.nn.modules.batchnorm.BatchNorm2d'>\n",
      "3 <class 'torch.nn.modules.container.Sequential'>\n",
      "4 <class 'torch.nn.modules.container.Sequential'>\n",
      "5 <class 'torch.nn.modules.container.Sequential'>\n",
      "3\n"
     ]
    }
   ],
   "source": [
    "def partially_freeze_model(model, seq_target = 3):\n",
    "    # first the layers up to the {seq_target}-th sequential layer (for ResNet)\n",
    "    ct = 0\n",
    "    seq = 0\n",
    "    for child in model.children():\n",
    "        ct += 1\n",
    "        if isinstance(child, torch.nn.modules.container.Sequential):\n",
    "            if seq == seq_target:\n",
    "                break\n",
    "            seq += 1\n",
    "        print(ct, type(child))\n",
    "        for param in child.parameters():\n",
    "            param.requires_grad = False\n",
    "    print(seq)\n",
    "    return model\n",
    "    \n",
    "m2 = partially_freeze_model(copied_model)"
   ]
  },
  {
   "cell_type": "code",
   "execution_count": 188,
   "metadata": {
    "tags": []
   },
   "outputs": [
    {
     "name": "stdout",
     "output_type": "stream",
     "text": [
      "1 <class 'torch.nn.modules.conv.Conv2d'>\n",
      "2 <class 'torch.nn.modules.batchnorm.BatchNorm2d'>\n",
      "0\n",
      "1 <class 'torch.nn.modules.conv.Conv2d'>\n",
      "2 <class 'torch.nn.modules.batchnorm.BatchNorm2d'>\n",
      "3 <class 'torch.nn.modules.container.Sequential'>\n",
      "1\n",
      "1 <class 'torch.nn.modules.conv.Conv2d'>\n",
      "2 <class 'torch.nn.modules.batchnorm.BatchNorm2d'>\n",
      "3 <class 'torch.nn.modules.container.Sequential'>\n",
      "4 <class 'torch.nn.modules.container.Sequential'>\n",
      "2\n",
      "1 <class 'torch.nn.modules.conv.Conv2d'>\n",
      "2 <class 'torch.nn.modules.batchnorm.BatchNorm2d'>\n",
      "3 <class 'torch.nn.modules.container.Sequential'>\n",
      "4 <class 'torch.nn.modules.container.Sequential'>\n",
      "5 <class 'torch.nn.modules.container.Sequential'>\n",
      "3\n"
     ]
    }
   ],
   "source": [
    "# copied_model = copy_model(model) # seems to work :3\n",
    "frozen_models = [copy_model(model) for i in range(4) ]\n",
    "for i in range(len(frozen_models)):\n",
    "    # print(i)\n",
    "    frozen_models[i] = partially_freeze_model(frozen_models[i], i)"
   ]
  },
  {
   "cell_type": "code",
   "execution_count": 189,
   "metadata": {
    "tags": []
   },
   "outputs": [
    {
     "data": {
      "text/plain": [
       "4"
      ]
     },
     "execution_count": 189,
     "metadata": {},
     "output_type": "execute_result"
    }
   ],
   "source": [
    "len(frozen_models)"
   ]
  },
  {
   "cell_type": "code",
   "execution_count": 192,
   "metadata": {
    "tags": []
   },
   "outputs": [
    {
     "name": "stderr",
     "output_type": "stream",
     "text": [
      "0it [00:00, ?it/s]"
     ]
    },
    {
     "name": "stdout",
     "output_type": "stream",
     "text": [
      "Training from layer: 0\n",
      "first accuracy:\n",
      "epoch: -1\n",
      "clean accuracy: 0.9039\n",
      "epoch: -1\n",
      "attack accuracy: 0.1031\n"
     ]
    },
    {
     "name": "stderr",
     "output_type": "stream",
     "text": [
      "\n",
      "  0%|          | 0/50 [00:00<?, ?it/s]\u001b[A"
     ]
    },
    {
     "name": "stdout",
     "output_type": "stream",
     "text": [
      "lambda1:  1\n"
     ]
    },
    {
     "name": "stderr",
     "output_type": "stream",
     "text": [
      "\n",
      "  2%|▏         | 1/50 [00:06<05:14,  6.42s/it]\u001b[A"
     ]
    },
    {
     "name": "stdout",
     "output_type": "stream",
     "text": [
      "epoch: 0 train loss: 93.36130700683671\n",
      "took: 6.417120456695557\n",
      "lambda1:  1\n"
     ]
    },
    {
     "name": "stderr",
     "output_type": "stream",
     "text": [
      "\n",
      "  4%|▍         | 2/50 [00:13<05:18,  6.64s/it]\u001b[A"
     ]
    },
    {
     "name": "stdout",
     "output_type": "stream",
     "text": [
      "epoch: 1 train loss: 100.8146452636722\n",
      "took: 6.785904884338379\n",
      "lambda1:  1\n"
     ]
    },
    {
     "name": "stderr",
     "output_type": "stream",
     "text": [
      "\n",
      "  6%|▌         | 3/50 [00:19<05:13,  6.67s/it]\u001b[A"
     ]
    },
    {
     "name": "stdout",
     "output_type": "stream",
     "text": [
      "epoch: 2 train loss: 93.50898620605554\n",
      "took: 6.716494798660278\n",
      "lambda1:  1\n"
     ]
    },
    {
     "name": "stderr",
     "output_type": "stream",
     "text": [
      "\n",
      "  8%|▊         | 4/50 [00:26<05:11,  6.77s/it]\u001b[A"
     ]
    },
    {
     "name": "stdout",
     "output_type": "stream",
     "text": [
      "epoch: 3 train loss: 96.56715551757863\n",
      "took: 6.925065279006958\n",
      "lambda1:  1\n",
      "epoch: 4 train loss: 94.90888281250051\n",
      "epoch: 4\n",
      "clean accuracy: 0.9039\n"
     ]
    },
    {
     "name": "stderr",
     "output_type": "stream",
     "text": [
      "\n",
      " 10%|█         | 5/50 [00:44<08:04, 10.77s/it]\u001b[A"
     ]
    },
    {
     "name": "stdout",
     "output_type": "stream",
     "text": [
      "epoch: 4\n",
      "attack accuracy: 0.1031\n",
      "took: 17.846131801605225\n",
      "lambda1:  1\n"
     ]
    },
    {
     "name": "stderr",
     "output_type": "stream",
     "text": [
      "\n",
      " 12%|█▏        | 6/50 [00:51<06:57,  9.48s/it]\u001b[A"
     ]
    },
    {
     "name": "stdout",
     "output_type": "stream",
     "text": [
      "epoch: 5 train loss: 92.94600323486371\n",
      "took: 6.972228527069092\n",
      "lambda1:  1\n"
     ]
    },
    {
     "name": "stderr",
     "output_type": "stream",
     "text": [
      "\n",
      " 14%|█▍        | 7/50 [00:58<06:09,  8.59s/it]\u001b[A"
     ]
    },
    {
     "name": "stdout",
     "output_type": "stream",
     "text": [
      "epoch: 6 train loss: 97.07200543212907\n",
      "took: 6.77606725692749\n",
      "lambda1:  1\n"
     ]
    },
    {
     "name": "stderr",
     "output_type": "stream",
     "text": [
      "\n",
      " 16%|█▌        | 8/50 [01:04<05:33,  7.94s/it]\u001b[A"
     ]
    },
    {
     "name": "stdout",
     "output_type": "stream",
     "text": [
      "epoch: 7 train loss: 93.13408514404314\n",
      "took: 6.546407222747803\n",
      "lambda1:  1\n"
     ]
    },
    {
     "name": "stderr",
     "output_type": "stream",
     "text": [
      "\n",
      " 18%|█▊        | 9/50 [01:11<05:10,  7.58s/it]\u001b[A"
     ]
    },
    {
     "name": "stdout",
     "output_type": "stream",
     "text": [
      "epoch: 8 train loss: 96.95843554687562\n",
      "took: 6.7948949337005615\n",
      "lambda1:  1\n",
      "epoch: 9 train loss: 99.75784014892595\n",
      "epoch: 9\n",
      "clean accuracy: 0.9039\n"
     ]
    },
    {
     "name": "stderr",
     "output_type": "stream",
     "text": [
      "\n",
      " 20%|██        | 10/50 [01:29<07:07, 10.68s/it]\u001b[A"
     ]
    },
    {
     "name": "stdout",
     "output_type": "stream",
     "text": [
      "epoch: 9\n",
      "attack accuracy: 0.1031\n",
      "took: 17.603837966918945\n",
      "lambda1:  1\n"
     ]
    },
    {
     "name": "stderr",
     "output_type": "stream",
     "text": [
      "\n",
      " 22%|██▏       | 11/50 [01:36<06:09,  9.48s/it]\u001b[A"
     ]
    },
    {
     "name": "stdout",
     "output_type": "stream",
     "text": [
      "epoch: 10 train loss: 95.04721575927776\n",
      "took: 6.754741907119751\n",
      "lambda1:  1\n"
     ]
    },
    {
     "name": "stderr",
     "output_type": "stream",
     "text": [
      "\n",
      " 24%|██▍       | 12/50 [01:42<05:28,  8.63s/it]\u001b[A"
     ]
    },
    {
     "name": "stdout",
     "output_type": "stream",
     "text": [
      "epoch: 11 train loss: 91.45333917236378\n",
      "took: 6.696319103240967\n",
      "lambda1:  1\n"
     ]
    },
    {
     "name": "stderr",
     "output_type": "stream",
     "text": [
      "\n",
      " 26%|██▌       | 13/50 [01:49<04:58,  8.06s/it]\u001b[A"
     ]
    },
    {
     "name": "stdout",
     "output_type": "stream",
     "text": [
      "epoch: 12 train loss: 98.26027496337926\n",
      "took: 6.728971719741821\n",
      "lambda1:  1\n"
     ]
    },
    {
     "name": "stderr",
     "output_type": "stream",
     "text": [
      "\n",
      " 28%|██▊       | 14/50 [01:56<04:34,  7.61s/it]\u001b[A"
     ]
    },
    {
     "name": "stdout",
     "output_type": "stream",
     "text": [
      "epoch: 13 train loss: 94.77010046386754\n",
      "took: 6.591107606887817\n",
      "lambda1:  1\n",
      "epoch: 14 train loss: 99.96774279785156\n",
      "epoch: 14\n",
      "clean accuracy: 0.9039\n"
     ]
    },
    {
     "name": "stderr",
     "output_type": "stream",
     "text": [
      "\n",
      " 30%|███       | 15/50 [02:13<06:09, 10.56s/it]\u001b[A"
     ]
    },
    {
     "name": "stdout",
     "output_type": "stream",
     "text": [
      "epoch: 14\n",
      "attack accuracy: 0.1031\n",
      "took: 17.373624801635742\n",
      "lambda1:  1\n"
     ]
    },
    {
     "name": "stderr",
     "output_type": "stream",
     "text": [
      "\n",
      " 32%|███▏      | 16/50 [02:20<05:23,  9.52s/it]\u001b[A"
     ]
    },
    {
     "name": "stdout",
     "output_type": "stream",
     "text": [
      "epoch: 15 train loss: 96.51975738525424\n",
      "took: 7.1129584312438965\n",
      "lambda1:  1\n"
     ]
    },
    {
     "name": "stderr",
     "output_type": "stream",
     "text": [
      "\n",
      " 34%|███▍      | 17/50 [02:27<04:47,  8.70s/it]\u001b[A"
     ]
    },
    {
     "name": "stdout",
     "output_type": "stream",
     "text": [
      "epoch: 16 train loss: 94.77701110839878\n",
      "took: 6.7888734340667725\n",
      "lambda1:  1\n"
     ]
    },
    {
     "name": "stderr",
     "output_type": "stream",
     "text": [
      "\n",
      " 36%|███▌      | 18/50 [02:34<04:20,  8.14s/it]\u001b[A"
     ]
    },
    {
     "name": "stdout",
     "output_type": "stream",
     "text": [
      "epoch: 17 train loss: 101.84260766601597\n",
      "took: 6.819076061248779\n",
      "lambda1:  1\n"
     ]
    },
    {
     "name": "stderr",
     "output_type": "stream",
     "text": [
      "\n",
      " 38%|███▊      | 19/50 [02:40<03:58,  7.68s/it]\u001b[A"
     ]
    },
    {
     "name": "stdout",
     "output_type": "stream",
     "text": [
      "epoch: 18 train loss: 87.58074285888802\n",
      "took: 6.616132736206055\n",
      "lambda1:  1\n",
      "epoch: 19 train loss: 95.59997125244173\n",
      "epoch: 19\n",
      "clean accuracy: 0.9039\n"
     ]
    },
    {
     "name": "stderr",
     "output_type": "stream",
     "text": [
      "\n",
      " 40%|████      | 20/50 [02:58<05:16, 10.56s/it]\u001b[A"
     ]
    },
    {
     "name": "stdout",
     "output_type": "stream",
     "text": [
      "epoch: 19\n",
      "attack accuracy: 0.1031\n",
      "took: 17.263864040374756\n",
      "lambda1:  1\n"
     ]
    },
    {
     "name": "stderr",
     "output_type": "stream",
     "text": [
      "\n",
      " 42%|████▏     | 21/50 [03:04<04:33,  9.43s/it]\u001b[A"
     ]
    },
    {
     "name": "stdout",
     "output_type": "stream",
     "text": [
      "epoch: 20 train loss: 98.72291241455112\n",
      "took: 6.790152549743652\n",
      "lambda1:  1\n"
     ]
    },
    {
     "name": "stderr",
     "output_type": "stream",
     "text": [
      "\n",
      " 44%|████▍     | 22/50 [03:11<03:59,  8.56s/it]\u001b[A"
     ]
    },
    {
     "name": "stdout",
     "output_type": "stream",
     "text": [
      "epoch: 21 train loss: 94.32862591552818\n",
      "took: 6.524094581604004\n",
      "lambda1:  1\n"
     ]
    },
    {
     "name": "stderr",
     "output_type": "stream",
     "text": [
      "\n",
      " 46%|████▌     | 23/50 [03:18<03:35,  7.99s/it]\u001b[A"
     ]
    },
    {
     "name": "stdout",
     "output_type": "stream",
     "text": [
      "epoch: 22 train loss: 93.23036389160242\n",
      "took: 6.65575385093689\n",
      "lambda1:  1\n"
     ]
    },
    {
     "name": "stderr",
     "output_type": "stream",
     "text": [
      "\n",
      " 48%|████▊     | 24/50 [03:25<03:19,  7.66s/it]\u001b[A"
     ]
    },
    {
     "name": "stdout",
     "output_type": "stream",
     "text": [
      "epoch: 23 train loss: 97.45692529296912\n",
      "took: 6.8945252895355225\n",
      "lambda1:  1\n",
      "epoch: 24 train loss: 93.30444128418063\n",
      "epoch: 24\n",
      "clean accuracy: 0.9039\n"
     ]
    },
    {
     "name": "stderr",
     "output_type": "stream",
     "text": [
      "\n",
      " 50%|█████     | 25/50 [03:42<04:24, 10.60s/it]\u001b[A"
     ]
    },
    {
     "name": "stdout",
     "output_type": "stream",
     "text": [
      "epoch: 24\n",
      "attack accuracy: 0.1031\n",
      "took: 17.446600198745728\n",
      "lambda1:  1\n"
     ]
    },
    {
     "name": "stderr",
     "output_type": "stream",
     "text": [
      "\n",
      " 52%|█████▏    | 26/50 [03:49<03:47,  9.50s/it]\u001b[A"
     ]
    },
    {
     "name": "stdout",
     "output_type": "stream",
     "text": [
      "epoch: 25 train loss: 96.34275634765694\n",
      "took: 6.9263598918914795\n",
      "lambda1:  1\n"
     ]
    },
    {
     "name": "stderr",
     "output_type": "stream",
     "text": [
      "\n",
      " 54%|█████▍    | 27/50 [03:56<03:18,  8.63s/it]\u001b[A"
     ]
    },
    {
     "name": "stdout",
     "output_type": "stream",
     "text": [
      "epoch: 26 train loss: 93.93474273681699\n",
      "took: 6.616239070892334\n",
      "lambda1:  1\n"
     ]
    },
    {
     "name": "stderr",
     "output_type": "stream",
     "text": [
      "\n",
      " 56%|█████▌    | 28/50 [04:02<02:57,  8.05s/it]\u001b[A"
     ]
    },
    {
     "name": "stdout",
     "output_type": "stream",
     "text": [
      "epoch: 27 train loss: 96.21081549072316\n",
      "took: 6.7034993171691895\n",
      "lambda1:  1\n"
     ]
    },
    {
     "name": "stderr",
     "output_type": "stream",
     "text": [
      "\n",
      " 58%|█████▊    | 29/50 [04:09<02:41,  7.69s/it]\u001b[A"
     ]
    },
    {
     "name": "stdout",
     "output_type": "stream",
     "text": [
      "epoch: 28 train loss: 97.1314518432619\n",
      "took: 6.842756271362305\n",
      "lambda1:  1\n",
      "epoch: 29 train loss: 98.30722406005879\n",
      "epoch: 29\n",
      "clean accuracy: 0.9039\n"
     ]
    },
    {
     "name": "stderr",
     "output_type": "stream",
     "text": [
      "\n",
      " 60%|██████    | 30/50 [04:27<03:34, 10.74s/it]\u001b[A"
     ]
    },
    {
     "name": "stdout",
     "output_type": "stream",
     "text": [
      "epoch: 29\n",
      "attack accuracy: 0.1031\n",
      "took: 17.837160110473633\n",
      "lambda1:  1\n"
     ]
    },
    {
     "name": "stderr",
     "output_type": "stream",
     "text": [
      "\n",
      " 62%|██████▏   | 31/50 [04:34<03:02,  9.63s/it]\u001b[A"
     ]
    },
    {
     "name": "stdout",
     "output_type": "stream",
     "text": [
      "epoch: 30 train loss: 91.71777008056726\n",
      "took: 7.042933464050293\n",
      "lambda1:  1\n"
     ]
    },
    {
     "name": "stderr",
     "output_type": "stream",
     "text": [
      "\n",
      " 64%|██████▍   | 32/50 [04:41<02:37,  8.73s/it]\u001b[A"
     ]
    },
    {
     "name": "stdout",
     "output_type": "stream",
     "text": [
      "epoch: 31 train loss: 95.58821228027396\n",
      "took: 6.621029853820801\n",
      "lambda1:  1\n"
     ]
    },
    {
     "name": "stderr",
     "output_type": "stream",
     "text": [
      "\n",
      " 66%|██████▌   | 33/50 [04:47<02:17,  8.08s/it]\u001b[A"
     ]
    },
    {
     "name": "stdout",
     "output_type": "stream",
     "text": [
      "epoch: 32 train loss: 91.46369995117247\n",
      "took: 6.583393573760986\n",
      "lambda1:  1\n"
     ]
    },
    {
     "name": "stderr",
     "output_type": "stream",
     "text": [
      "\n",
      " 68%|██████▊   | 34/50 [04:54<02:02,  7.68s/it]\u001b[A"
     ]
    },
    {
     "name": "stdout",
     "output_type": "stream",
     "text": [
      "epoch: 33 train loss: 91.13586401367255\n",
      "took: 6.745416879653931\n",
      "lambda1:  1\n",
      "epoch: 34 train loss: 97.65447540283255\n",
      "epoch: 34\n",
      "clean accuracy: 0.9039\n"
     ]
    },
    {
     "name": "stderr",
     "output_type": "stream",
     "text": [
      "\n",
      " 70%|███████   | 35/50 [05:12<02:40, 10.67s/it]\u001b[A"
     ]
    },
    {
     "name": "stdout",
     "output_type": "stream",
     "text": [
      "epoch: 34\n",
      "attack accuracy: 0.1031\n",
      "took: 17.633275985717773\n",
      "lambda1:  1\n"
     ]
    },
    {
     "name": "stderr",
     "output_type": "stream",
     "text": [
      "\n",
      " 72%|███████▏  | 36/50 [05:18<02:13,  9.54s/it]\u001b[A"
     ]
    },
    {
     "name": "stdout",
     "output_type": "stream",
     "text": [
      "epoch: 35 train loss: 104.22787228393574\n",
      "took: 6.897342920303345\n",
      "lambda1:  1\n"
     ]
    },
    {
     "name": "stderr",
     "output_type": "stream",
     "text": [
      "\n",
      " 74%|███████▍  | 37/50 [05:25<01:52,  8.68s/it]\u001b[A"
     ]
    },
    {
     "name": "stdout",
     "output_type": "stream",
     "text": [
      "epoch: 36 train loss: 94.862884887696\n",
      "took: 6.6669652462005615\n",
      "lambda1:  1\n"
     ]
    },
    {
     "name": "stderr",
     "output_type": "stream",
     "text": [
      "\n",
      " 76%|███████▌  | 38/50 [05:32<01:37,  8.09s/it]\u001b[A"
     ]
    },
    {
     "name": "stdout",
     "output_type": "stream",
     "text": [
      "epoch: 37 train loss: 97.4549199829105\n",
      "took: 6.718828201293945\n",
      "lambda1:  1\n"
     ]
    },
    {
     "name": "stderr",
     "output_type": "stream",
     "text": [
      "\n",
      " 78%|███████▊  | 39/50 [05:39<01:24,  7.69s/it]\u001b[A"
     ]
    },
    {
     "name": "stdout",
     "output_type": "stream",
     "text": [
      "epoch: 38 train loss: 94.25417761230494\n",
      "took: 6.7441325187683105\n",
      "lambda1:  1\n",
      "epoch: 39 train loss: 101.089915100098\n",
      "epoch: 39\n",
      "clean accuracy: 0.9039\n"
     ]
    },
    {
     "name": "stderr",
     "output_type": "stream",
     "text": [
      "\n",
      " 80%|████████  | 40/50 [05:57<01:47, 10.77s/it]\u001b[A"
     ]
    },
    {
     "name": "stdout",
     "output_type": "stream",
     "text": [
      "epoch: 39\n",
      "attack accuracy: 0.1031\n",
      "took: 17.96914553642273\n",
      "lambda1:  1\n"
     ]
    },
    {
     "name": "stderr",
     "output_type": "stream",
     "text": [
      "\n",
      " 82%|████████▏ | 41/50 [06:03<01:25,  9.54s/it]\u001b[A"
     ]
    },
    {
     "name": "stdout",
     "output_type": "stream",
     "text": [
      "epoch: 40 train loss: 90.69282366943428\n",
      "took: 6.669182300567627\n",
      "lambda1:  1\n"
     ]
    },
    {
     "name": "stderr",
     "output_type": "stream",
     "text": [
      "\n",
      " 84%|████████▍ | 42/50 [06:10<01:09,  8.65s/it]\u001b[A"
     ]
    },
    {
     "name": "stdout",
     "output_type": "stream",
     "text": [
      "epoch: 41 train loss: 103.23235284423846\n",
      "took: 6.580071687698364\n",
      "lambda1:  1\n"
     ]
    },
    {
     "name": "stderr",
     "output_type": "stream",
     "text": [
      "\n",
      " 86%|████████▌ | 43/50 [06:17<00:56,  8.12s/it]\u001b[A"
     ]
    },
    {
     "name": "stdout",
     "output_type": "stream",
     "text": [
      "epoch: 42 train loss: 89.87350146484461\n",
      "took: 6.8810882568359375\n",
      "lambda1:  1\n"
     ]
    },
    {
     "name": "stderr",
     "output_type": "stream",
     "text": [
      "\n",
      " 88%|████████▊ | 44/50 [06:23<00:46,  7.70s/it]\u001b[A"
     ]
    },
    {
     "name": "stdout",
     "output_type": "stream",
     "text": [
      "epoch: 43 train loss: 95.72272937011735\n",
      "took: 6.723946571350098\n",
      "lambda1:  1\n",
      "epoch: 44 train loss: 96.76224005127028\n",
      "epoch: 44\n",
      "clean accuracy: 0.9039\n"
     ]
    },
    {
     "name": "stderr",
     "output_type": "stream",
     "text": [
      "\n",
      " 90%|█████████ | 45/50 [06:41<00:53, 10.72s/it]\u001b[A"
     ]
    },
    {
     "name": "stdout",
     "output_type": "stream",
     "text": [
      "epoch: 44\n",
      "attack accuracy: 0.1031\n",
      "took: 17.75025463104248\n",
      "lambda1:  1\n"
     ]
    },
    {
     "name": "stderr",
     "output_type": "stream",
     "text": [
      "\n",
      " 92%|█████████▏| 46/50 [06:48<00:38,  9.59s/it]\u001b[A"
     ]
    },
    {
     "name": "stdout",
     "output_type": "stream",
     "text": [
      "epoch: 45 train loss: 98.07605841064486\n",
      "took: 6.943538188934326\n",
      "lambda1:  1\n"
     ]
    },
    {
     "name": "stderr",
     "output_type": "stream",
     "text": [
      "\n",
      " 94%|█████████▍| 47/50 [06:55<00:26,  8.73s/it]\u001b[A"
     ]
    },
    {
     "name": "stdout",
     "output_type": "stream",
     "text": [
      "epoch: 46 train loss: 96.41424566650467\n",
      "took: 6.726864814758301\n",
      "lambda1:  1\n"
     ]
    },
    {
     "name": "stderr",
     "output_type": "stream",
     "text": [
      "\n",
      " 96%|█████████▌| 48/50 [07:01<00:16,  8.05s/it]\u001b[A"
     ]
    },
    {
     "name": "stdout",
     "output_type": "stream",
     "text": [
      "epoch: 47 train loss: 100.15276373291043\n",
      "took: 6.448182821273804\n",
      "lambda1:  1\n"
     ]
    },
    {
     "name": "stderr",
     "output_type": "stream",
     "text": [
      "\n",
      " 98%|█████████▊| 49/50 [07:08<00:07,  7.66s/it]\u001b[A"
     ]
    },
    {
     "name": "stdout",
     "output_type": "stream",
     "text": [
      "epoch: 48 train loss: 93.03055773925848\n",
      "took: 6.755528450012207\n",
      "lambda1:  1\n",
      "epoch: 49 train loss: 93.97434893798896\n",
      "epoch: 49\n",
      "clean accuracy: 0.9039\n"
     ]
    },
    {
     "name": "stderr",
     "output_type": "stream",
     "text": [
      "\n",
      "100%|██████████| 50/50 [07:26<00:00,  8.93s/it]\u001b[A\n",
      "1it [07:37, 457.53s/it]"
     ]
    },
    {
     "name": "stdout",
     "output_type": "stream",
     "text": [
      "epoch: 49\n",
      "attack accuracy: 0.1031\n",
      "took: 17.755133152008057\n",
      "model train finished. elapsed: 446.32303500175476\n",
      "Training from layer: 1\n",
      "first accuracy:\n",
      "epoch: -1\n",
      "clean accuracy: 0.9039\n",
      "epoch: -1\n",
      "attack accuracy: 0.1031\n"
     ]
    },
    {
     "name": "stderr",
     "output_type": "stream",
     "text": [
      "\n",
      "  0%|          | 0/50 [00:00<?, ?it/s]\u001b[A"
     ]
    },
    {
     "name": "stdout",
     "output_type": "stream",
     "text": [
      "lambda1:  1\n"
     ]
    },
    {
     "name": "stderr",
     "output_type": "stream",
     "text": [
      "\n",
      "  2%|▏         | 1/50 [00:06<05:27,  6.68s/it]\u001b[A"
     ]
    },
    {
     "name": "stdout",
     "output_type": "stream",
     "text": [
      "epoch: 0 train loss: 97.33044299316425\n",
      "took: 6.677910089492798\n",
      "lambda1:  1\n"
     ]
    },
    {
     "name": "stderr",
     "output_type": "stream",
     "text": [
      "\n",
      "  4%|▍         | 2/50 [00:13<05:19,  6.66s/it]\u001b[A"
     ]
    },
    {
     "name": "stdout",
     "output_type": "stream",
     "text": [
      "epoch: 1 train loss: 95.88916693115287\n",
      "took: 6.645172119140625\n",
      "lambda1:  1\n"
     ]
    },
    {
     "name": "stderr",
     "output_type": "stream",
     "text": [
      "\n",
      "  6%|▌         | 3/50 [00:19<05:10,  6.62s/it]\u001b[A"
     ]
    },
    {
     "name": "stdout",
     "output_type": "stream",
     "text": [
      "epoch: 2 train loss: 99.5213515930181\n",
      "took: 6.561979532241821\n",
      "lambda1:  1\n"
     ]
    },
    {
     "name": "stderr",
     "output_type": "stream",
     "text": [
      "\n",
      "  8%|▊         | 4/50 [00:26<05:10,  6.75s/it]\u001b[A"
     ]
    },
    {
     "name": "stdout",
     "output_type": "stream",
     "text": [
      "epoch: 3 train loss: 91.15036047363316\n",
      "took: 6.955886602401733\n",
      "lambda1:  1\n",
      "epoch: 4 train loss: 98.33721942138723\n",
      "epoch: 4\n",
      "clean accuracy: 0.9039\n"
     ]
    },
    {
     "name": "stderr",
     "output_type": "stream",
     "text": [
      "\n",
      " 10%|█         | 5/50 [00:44<07:56, 10.59s/it]\u001b[A"
     ]
    },
    {
     "name": "stdout",
     "output_type": "stream",
     "text": [
      "epoch: 4\n",
      "attack accuracy: 0.1031\n",
      "took: 17.386669874191284\n",
      "lambda1:  1\n"
     ]
    },
    {
     "name": "stderr",
     "output_type": "stream",
     "text": [
      "\n",
      " 12%|█▏        | 6/50 [00:50<06:47,  9.25s/it]\u001b[A"
     ]
    },
    {
     "name": "stdout",
     "output_type": "stream",
     "text": [
      "epoch: 5 train loss: 86.50489379882934\n",
      "took: 6.664880275726318\n",
      "lambda1:  1\n"
     ]
    },
    {
     "name": "stderr",
     "output_type": "stream",
     "text": [
      "\n",
      " 14%|█▍        | 7/50 [00:57<05:59,  8.35s/it]\u001b[A"
     ]
    },
    {
     "name": "stdout",
     "output_type": "stream",
     "text": [
      "epoch: 6 train loss: 101.34350390625033\n",
      "took: 6.484836578369141\n",
      "lambda1:  1\n"
     ]
    },
    {
     "name": "stderr",
     "output_type": "stream",
     "text": [
      "\n",
      " 16%|█▌        | 8/50 [01:03<05:26,  7.77s/it]\u001b[A"
     ]
    },
    {
     "name": "stdout",
     "output_type": "stream",
     "text": [
      "epoch: 7 train loss: 100.84026385498063\n",
      "took: 6.52402925491333\n",
      "lambda1:  1\n"
     ]
    },
    {
     "name": "stderr",
     "output_type": "stream",
     "text": [
      "\n",
      " 18%|█▊        | 9/50 [01:10<05:02,  7.39s/it]\u001b[A"
     ]
    },
    {
     "name": "stdout",
     "output_type": "stream",
     "text": [
      "epoch: 8 train loss: 85.25910919189582\n",
      "took: 6.552865982055664\n",
      "lambda1:  1\n",
      "epoch: 9 train loss: 99.54244000244192\n",
      "epoch: 9\n",
      "clean accuracy: 0.9039\n"
     ]
    },
    {
     "name": "stderr",
     "output_type": "stream",
     "text": [
      "\n",
      " 20%|██        | 10/50 [01:27<06:56, 10.42s/it]\u001b[A"
     ]
    },
    {
     "name": "stdout",
     "output_type": "stream",
     "text": [
      "epoch: 9\n",
      "attack accuracy: 0.1031\n",
      "took: 17.19891905784607\n",
      "lambda1:  1\n"
     ]
    },
    {
     "name": "stderr",
     "output_type": "stream",
     "text": [
      "\n",
      " 22%|██▏       | 11/50 [01:34<06:01,  9.26s/it]\u001b[A"
     ]
    },
    {
     "name": "stdout",
     "output_type": "stream",
     "text": [
      "epoch: 10 train loss: 92.63820764160208\n",
      "took: 6.62306547164917\n",
      "lambda1:  1\n"
     ]
    },
    {
     "name": "stderr",
     "output_type": "stream",
     "text": [
      "\n",
      " 24%|██▍       | 12/50 [01:40<05:19,  8.41s/it]\u001b[A"
     ]
    },
    {
     "name": "stdout",
     "output_type": "stream",
     "text": [
      "epoch: 11 train loss: 95.95468939209054\n",
      "took: 6.4754438400268555\n",
      "lambda1:  1\n"
     ]
    },
    {
     "name": "stderr",
     "output_type": "stream",
     "text": [
      "\n",
      " 26%|██▌       | 13/50 [01:47<04:52,  7.91s/it]\u001b[A"
     ]
    },
    {
     "name": "stdout",
     "output_type": "stream",
     "text": [
      "epoch: 12 train loss: 101.651869140625\n",
      "took: 6.740863561630249\n",
      "lambda1:  1\n"
     ]
    },
    {
     "name": "stderr",
     "output_type": "stream",
     "text": [
      "\n",
      " 28%|██▊       | 14/50 [01:54<04:32,  7.58s/it]\u001b[A"
     ]
    },
    {
     "name": "stdout",
     "output_type": "stream",
     "text": [
      "epoch: 13 train loss: 93.6577630004886\n",
      "took: 6.810402870178223\n",
      "lambda1:  1\n",
      "epoch: 14 train loss: 96.9781639404302\n",
      "epoch: 14\n",
      "clean accuracy: 0.9039\n"
     ]
    },
    {
     "name": "stderr",
     "output_type": "stream",
     "text": [
      "\n",
      " 30%|███       | 15/50 [02:11<06:11, 10.60s/it]\u001b[A"
     ]
    },
    {
     "name": "stdout",
     "output_type": "stream",
     "text": [
      "epoch: 14\n",
      "attack accuracy: 0.1031\n",
      "took: 17.608479738235474\n",
      "lambda1:  1\n"
     ]
    },
    {
     "name": "stderr",
     "output_type": "stream",
     "text": [
      "\n",
      " 32%|███▏      | 16/50 [02:18<05:19,  9.38s/it]\u001b[A"
     ]
    },
    {
     "name": "stdout",
     "output_type": "stream",
     "text": [
      "epoch: 15 train loss: 94.82371813964893\n",
      "took: 6.5571160316467285\n",
      "lambda1:  1\n"
     ]
    },
    {
     "name": "stderr",
     "output_type": "stream",
     "text": [
      "\n",
      " 34%|███▍      | 17/50 [02:25<04:41,  8.53s/it]\u001b[A"
     ]
    },
    {
     "name": "stdout",
     "output_type": "stream",
     "text": [
      "epoch: 16 train loss: 103.4112684936525\n",
      "took: 6.551846504211426\n",
      "lambda1:  1\n"
     ]
    },
    {
     "name": "stderr",
     "output_type": "stream",
     "text": [
      "\n",
      " 36%|███▌      | 18/50 [02:31<04:15,  7.99s/it]\u001b[A"
     ]
    },
    {
     "name": "stdout",
     "output_type": "stream",
     "text": [
      "epoch: 17 train loss: 93.05422070312576\n",
      "took: 6.732213020324707\n",
      "lambda1:  1\n"
     ]
    },
    {
     "name": "stderr",
     "output_type": "stream",
     "text": [
      "\n",
      " 38%|███▊      | 19/50 [02:38<03:54,  7.56s/it]\u001b[A"
     ]
    },
    {
     "name": "stdout",
     "output_type": "stream",
     "text": [
      "epoch: 18 train loss: 95.75288403320381\n",
      "took: 6.561856508255005\n",
      "lambda1:  1\n",
      "epoch: 19 train loss: 96.55060278320347\n",
      "epoch: 19\n",
      "clean accuracy: 0.9039\n"
     ]
    },
    {
     "name": "stderr",
     "output_type": "stream",
     "text": [
      "\n",
      " 40%|████      | 20/50 [02:55<05:13, 10.46s/it]\u001b[A"
     ]
    },
    {
     "name": "stdout",
     "output_type": "stream",
     "text": [
      "epoch: 19\n",
      "attack accuracy: 0.1031\n",
      "took: 17.225692749023438\n",
      "lambda1:  1\n"
     ]
    },
    {
     "name": "stderr",
     "output_type": "stream",
     "text": [
      "\n",
      " 42%|████▏     | 21/50 [03:02<04:28,  9.27s/it]\u001b[A"
     ]
    },
    {
     "name": "stdout",
     "output_type": "stream",
     "text": [
      "epoch: 20 train loss: 91.8788836059579\n",
      "took: 6.484266042709351\n",
      "lambda1:  1\n"
     ]
    },
    {
     "name": "stderr",
     "output_type": "stream",
     "text": [
      "\n",
      " 44%|████▍     | 22/50 [03:08<03:54,  8.38s/it]\u001b[A"
     ]
    },
    {
     "name": "stdout",
     "output_type": "stream",
     "text": [
      "epoch: 21 train loss: 99.97820605468803\n",
      "took: 6.313686847686768\n",
      "lambda1:  1\n"
     ]
    },
    {
     "name": "stderr",
     "output_type": "stream",
     "text": [
      "\n",
      " 46%|████▌     | 23/50 [03:15<03:32,  7.88s/it]\u001b[A"
     ]
    },
    {
     "name": "stdout",
     "output_type": "stream",
     "text": [
      "epoch: 22 train loss: 89.24324676513794\n",
      "took: 6.713949918746948\n",
      "lambda1:  1\n"
     ]
    },
    {
     "name": "stderr",
     "output_type": "stream",
     "text": [
      "\n",
      " 48%|████▊     | 24/50 [03:21<03:14,  7.49s/it]\u001b[A"
     ]
    },
    {
     "name": "stdout",
     "output_type": "stream",
     "text": [
      "epoch: 23 train loss: 98.51688562011735\n",
      "took: 6.560511589050293\n",
      "lambda1:  1\n",
      "epoch: 24 train loss: 94.59014862060617\n",
      "epoch: 24\n",
      "clean accuracy: 0.9039\n"
     ]
    },
    {
     "name": "stderr",
     "output_type": "stream",
     "text": [
      "\n",
      " 50%|█████     | 25/50 [03:38<04:21, 10.44s/it]\u001b[A"
     ]
    },
    {
     "name": "stdout",
     "output_type": "stream",
     "text": [
      "epoch: 24\n",
      "attack accuracy: 0.1031\n",
      "took: 17.33755612373352\n",
      "lambda1:  1\n"
     ]
    },
    {
     "name": "stderr",
     "output_type": "stream",
     "text": [
      "\n",
      " 52%|█████▏    | 26/50 [03:45<03:42,  9.29s/it]\u001b[A"
     ]
    },
    {
     "name": "stdout",
     "output_type": "stream",
     "text": [
      "epoch: 25 train loss: 97.1539854125979\n",
      "took: 6.593593597412109\n",
      "lambda1:  1\n"
     ]
    },
    {
     "name": "stderr",
     "output_type": "stream",
     "text": [
      "\n",
      " 54%|█████▍    | 27/50 [03:52<03:15,  8.49s/it]\u001b[A"
     ]
    },
    {
     "name": "stdout",
     "output_type": "stream",
     "text": [
      "epoch: 26 train loss: 95.07502038574279\n",
      "took: 6.63175630569458\n",
      "lambda1:  1\n"
     ]
    },
    {
     "name": "stderr",
     "output_type": "stream",
     "text": [
      "\n",
      " 56%|█████▌    | 28/50 [03:59<02:56,  8.02s/it]\u001b[A"
     ]
    },
    {
     "name": "stdout",
     "output_type": "stream",
     "text": [
      "epoch: 27 train loss: 100.0866951293947\n",
      "took: 6.932338714599609\n",
      "lambda1:  1\n"
     ]
    },
    {
     "name": "stderr",
     "output_type": "stream",
     "text": [
      "\n",
      " 58%|█████▊    | 29/50 [04:05<02:39,  7.60s/it]\u001b[A"
     ]
    },
    {
     "name": "stdout",
     "output_type": "stream",
     "text": [
      "epoch: 28 train loss: 88.40212817382923\n",
      "took: 6.616887092590332\n",
      "lambda1:  1\n",
      "epoch: 29 train loss: 91.76653149414122\n",
      "epoch: 29\n",
      "clean accuracy: 0.9039\n"
     ]
    },
    {
     "name": "stderr",
     "output_type": "stream",
     "text": [
      "\n",
      " 60%|██████    | 30/50 [04:23<03:30, 10.51s/it]\u001b[A"
     ]
    },
    {
     "name": "stdout",
     "output_type": "stream",
     "text": [
      "epoch: 29\n",
      "attack accuracy: 0.1031\n",
      "took: 17.302586317062378\n",
      "lambda1:  1\n"
     ]
    },
    {
     "name": "stderr",
     "output_type": "stream",
     "text": [
      "\n",
      " 62%|██████▏   | 31/50 [04:29<02:56,  9.27s/it]\u001b[A"
     ]
    },
    {
     "name": "stdout",
     "output_type": "stream",
     "text": [
      "epoch: 30 train loss: 105.3427507934574\n",
      "took: 6.35772705078125\n",
      "lambda1:  1\n"
     ]
    },
    {
     "name": "stderr",
     "output_type": "stream",
     "text": [
      "\n",
      " 64%|██████▍   | 32/50 [04:36<02:32,  8.49s/it]\u001b[A"
     ]
    },
    {
     "name": "stdout",
     "output_type": "stream",
     "text": [
      "epoch: 31 train loss: 99.20541638183612\n",
      "took: 6.67564845085144\n",
      "lambda1:  1\n"
     ]
    },
    {
     "name": "stderr",
     "output_type": "stream",
     "text": [
      "\n",
      " 66%|██████▌   | 33/50 [04:42<02:15,  7.97s/it]\u001b[A"
     ]
    },
    {
     "name": "stdout",
     "output_type": "stream",
     "text": [
      "epoch: 32 train loss: 98.1940426635747\n",
      "took: 6.75757908821106\n",
      "lambda1:  1\n"
     ]
    },
    {
     "name": "stderr",
     "output_type": "stream",
     "text": [
      "\n",
      " 68%|██████▊   | 34/50 [04:49<02:00,  7.55s/it]\u001b[A"
     ]
    },
    {
     "name": "stdout",
     "output_type": "stream",
     "text": [
      "epoch: 33 train loss: 99.06283367919954\n",
      "took: 6.552739381790161\n",
      "lambda1:  1\n",
      "epoch: 34 train loss: 100.32718353271508\n",
      "epoch: 34\n",
      "clean accuracy: 0.9039\n"
     ]
    },
    {
     "name": "stderr",
     "output_type": "stream",
     "text": [
      "\n",
      " 70%|███████   | 35/50 [05:06<02:36, 10.44s/it]\u001b[A"
     ]
    },
    {
     "name": "stdout",
     "output_type": "stream",
     "text": [
      "epoch: 34\n",
      "attack accuracy: 0.1031\n",
      "took: 17.199169635772705\n",
      "lambda1:  1\n"
     ]
    },
    {
     "name": "stderr",
     "output_type": "stream",
     "text": [
      "\n",
      " 72%|███████▏  | 36/50 [05:13<02:10,  9.30s/it]\u001b[A"
     ]
    },
    {
     "name": "stdout",
     "output_type": "stream",
     "text": [
      "epoch: 35 train loss: 98.12332104492239\n",
      "took: 6.643751621246338\n",
      "lambda1:  1\n"
     ]
    },
    {
     "name": "stderr",
     "output_type": "stream",
     "text": [
      "\n",
      " 74%|███████▍  | 37/50 [05:19<01:50,  8.52s/it]\u001b[A"
     ]
    },
    {
     "name": "stdout",
     "output_type": "stream",
     "text": [
      "epoch: 36 train loss: 91.61897509765691\n",
      "took: 6.701331853866577\n",
      "lambda1:  1\n"
     ]
    },
    {
     "name": "stderr",
     "output_type": "stream",
     "text": [
      "\n",
      " 76%|███████▌  | 38/50 [05:26<01:34,  7.90s/it]\u001b[A"
     ]
    },
    {
     "name": "stdout",
     "output_type": "stream",
     "text": [
      "epoch: 37 train loss: 98.5762049560552\n",
      "took: 6.453285217285156\n",
      "lambda1:  1\n"
     ]
    },
    {
     "name": "stderr",
     "output_type": "stream",
     "text": [
      "\n",
      " 78%|███████▊  | 39/50 [05:33<01:22,  7.53s/it]\u001b[A"
     ]
    },
    {
     "name": "stdout",
     "output_type": "stream",
     "text": [
      "epoch: 38 train loss: 95.24456573486361\n",
      "took: 6.650327444076538\n",
      "lambda1:  1\n",
      "epoch: 39 train loss: 96.1072215576177\n",
      "epoch: 39\n",
      "clean accuracy: 0.9039\n"
     ]
    },
    {
     "name": "stderr",
     "output_type": "stream",
     "text": [
      "\n",
      " 80%|████████  | 40/50 [05:50<01:44, 10.47s/it]\u001b[A"
     ]
    },
    {
     "name": "stdout",
     "output_type": "stream",
     "text": [
      "epoch: 39\n",
      "attack accuracy: 0.1031\n",
      "took: 17.333439111709595\n",
      "lambda1:  1\n"
     ]
    },
    {
     "name": "stderr",
     "output_type": "stream",
     "text": [
      "\n",
      " 82%|████████▏ | 41/50 [05:57<01:23,  9.32s/it]\u001b[A"
     ]
    },
    {
     "name": "stdout",
     "output_type": "stream",
     "text": [
      "epoch: 40 train loss: 100.84699389648453\n",
      "took: 6.634309768676758\n",
      "lambda1:  1\n"
     ]
    },
    {
     "name": "stderr",
     "output_type": "stream",
     "text": [
      "\n",
      " 84%|████████▍ | 42/50 [06:04<01:08,  8.61s/it]\u001b[A"
     ]
    },
    {
     "name": "stdout",
     "output_type": "stream",
     "text": [
      "epoch: 41 train loss: 95.9780036010749\n",
      "took: 6.963092088699341\n",
      "lambda1:  1\n"
     ]
    },
    {
     "name": "stderr",
     "output_type": "stream",
     "text": [
      "\n",
      " 86%|████████▌ | 43/50 [06:10<00:56,  8.05s/it]\u001b[A"
     ]
    },
    {
     "name": "stdout",
     "output_type": "stream",
     "text": [
      "epoch: 42 train loss: 98.89293847656268\n",
      "took: 6.728470325469971\n",
      "lambda1:  1\n"
     ]
    },
    {
     "name": "stderr",
     "output_type": "stream",
     "text": [
      "\n",
      " 88%|████████▊ | 44/50 [06:17<00:45,  7.64s/it]\u001b[A"
     ]
    },
    {
     "name": "stdout",
     "output_type": "stream",
     "text": [
      "epoch: 43 train loss: 100.36428851318394\n",
      "took: 6.674166440963745\n",
      "lambda1:  1\n",
      "epoch: 44 train loss: 99.78000054931674\n",
      "epoch: 44\n",
      "clean accuracy: 0.9039\n"
     ]
    },
    {
     "name": "stderr",
     "output_type": "stream",
     "text": [
      "\n",
      " 90%|█████████ | 45/50 [06:35<00:53, 10.62s/it]\u001b[A"
     ]
    },
    {
     "name": "stdout",
     "output_type": "stream",
     "text": [
      "epoch: 44\n",
      "attack accuracy: 0.1031\n",
      "took: 17.56284475326538\n",
      "lambda1:  1\n"
     ]
    },
    {
     "name": "stderr",
     "output_type": "stream",
     "text": [
      "\n",
      " 92%|█████████▏| 46/50 [06:41<00:37,  9.46s/it]\u001b[A"
     ]
    },
    {
     "name": "stdout",
     "output_type": "stream",
     "text": [
      "epoch: 45 train loss: 99.51550085449227\n",
      "took: 6.7534332275390625\n",
      "lambda1:  1\n"
     ]
    },
    {
     "name": "stderr",
     "output_type": "stream",
     "text": [
      "\n",
      " 94%|█████████▍| 47/50 [06:48<00:25,  8.63s/it]\u001b[A"
     ]
    },
    {
     "name": "stdout",
     "output_type": "stream",
     "text": [
      "epoch: 46 train loss: 88.91862066650458\n",
      "took: 6.6835527420043945\n",
      "lambda1:  1\n"
     ]
    },
    {
     "name": "stderr",
     "output_type": "stream",
     "text": [
      "\n",
      " 96%|█████████▌| 48/50 [06:55<00:16,  8.02s/it]\u001b[A"
     ]
    },
    {
     "name": "stdout",
     "output_type": "stream",
     "text": [
      "epoch: 47 train loss: 97.40940618896519\n",
      "took: 6.607126951217651\n",
      "lambda1:  1\n"
     ]
    },
    {
     "name": "stderr",
     "output_type": "stream",
     "text": [
      "\n",
      " 98%|█████████▊| 49/50 [07:01<00:07,  7.69s/it]\u001b[A"
     ]
    },
    {
     "name": "stdout",
     "output_type": "stream",
     "text": [
      "epoch: 48 train loss: 87.20395336914157\n",
      "took: 6.907078504562378\n",
      "lambda1:  1\n",
      "epoch: 49 train loss: 93.55941851806693\n",
      "epoch: 49\n",
      "clean accuracy: 0.9039\n"
     ]
    },
    {
     "name": "stderr",
     "output_type": "stream",
     "text": [
      "\n",
      "100%|██████████| 50/50 [07:19<00:00,  8.79s/it]\u001b[A\n",
      "2it [15:08, 453.44s/it]"
     ]
    },
    {
     "name": "stdout",
     "output_type": "stream",
     "text": [
      "epoch: 49\n",
      "attack accuracy: 0.1031\n",
      "took: 17.780546188354492\n",
      "model train finished. elapsed: 439.74629735946655\n",
      "Training from layer: 2\n",
      "first accuracy:\n",
      "epoch: -1\n",
      "clean accuracy: 0.9039\n",
      "epoch: -1\n",
      "attack accuracy: 0.1031\n"
     ]
    },
    {
     "name": "stderr",
     "output_type": "stream",
     "text": [
      "\n",
      "  0%|          | 0/50 [00:00<?, ?it/s]\u001b[A"
     ]
    },
    {
     "name": "stdout",
     "output_type": "stream",
     "text": [
      "lambda1:  1\n"
     ]
    },
    {
     "name": "stderr",
     "output_type": "stream",
     "text": [
      "\n",
      "  2%|▏         | 1/50 [00:06<05:24,  6.62s/it]\u001b[A"
     ]
    },
    {
     "name": "stdout",
     "output_type": "stream",
     "text": [
      "epoch: 0 train loss: 91.9773385620122\n",
      "took: 6.619494438171387\n",
      "lambda1:  1\n"
     ]
    },
    {
     "name": "stderr",
     "output_type": "stream",
     "text": [
      "\n",
      "  4%|▍         | 2/50 [00:13<05:19,  6.66s/it]\u001b[A"
     ]
    },
    {
     "name": "stdout",
     "output_type": "stream",
     "text": [
      "epoch: 1 train loss: 94.48319146728595\n",
      "took: 6.688831329345703\n",
      "lambda1:  1\n"
     ]
    },
    {
     "name": "stderr",
     "output_type": "stream",
     "text": [
      "\n",
      "  6%|▌         | 3/50 [00:19<05:08,  6.56s/it]\u001b[A"
     ]
    },
    {
     "name": "stdout",
     "output_type": "stream",
     "text": [
      "epoch: 2 train loss: 105.42224914550816\n",
      "took: 6.444559097290039\n",
      "lambda1:  1\n"
     ]
    },
    {
     "name": "stderr",
     "output_type": "stream",
     "text": [
      "\n",
      "  8%|▊         | 4/50 [00:26<05:02,  6.59s/it]\u001b[A"
     ]
    },
    {
     "name": "stdout",
     "output_type": "stream",
     "text": [
      "epoch: 3 train loss: 100.39201623535165\n",
      "took: 6.619214296340942\n",
      "lambda1:  1\n",
      "epoch: 4 train loss: 94.11010937500033\n",
      "epoch: 4\n",
      "clean accuracy: 0.9039\n"
     ]
    },
    {
     "name": "stderr",
     "output_type": "stream",
     "text": [
      "\n",
      " 10%|█         | 5/50 [00:43<07:49, 10.44s/it]\u001b[A"
     ]
    },
    {
     "name": "stdout",
     "output_type": "stream",
     "text": [
      "epoch: 4\n",
      "attack accuracy: 0.1031\n",
      "took: 17.276055097579956\n",
      "lambda1:  1\n"
     ]
    },
    {
     "name": "stderr",
     "output_type": "stream",
     "text": [
      "\n",
      " 12%|█▏        | 6/50 [00:50<06:44,  9.19s/it]\u001b[A"
     ]
    },
    {
     "name": "stdout",
     "output_type": "stream",
     "text": [
      "epoch: 5 train loss: 93.01546429443394\n",
      "took: 6.767781496047974\n",
      "lambda1:  1\n"
     ]
    },
    {
     "name": "stderr",
     "output_type": "stream",
     "text": [
      "\n",
      " 14%|█▍        | 7/50 [00:57<05:59,  8.35s/it]\u001b[A"
     ]
    },
    {
     "name": "stdout",
     "output_type": "stream",
     "text": [
      "epoch: 6 train loss: 85.2663818359391\n",
      "took: 6.612867593765259\n",
      "lambda1:  1\n"
     ]
    },
    {
     "name": "stderr",
     "output_type": "stream",
     "text": [
      "\n",
      " 16%|█▌        | 8/50 [01:03<05:29,  7.85s/it]\u001b[A"
     ]
    },
    {
     "name": "stdout",
     "output_type": "stream",
     "text": [
      "epoch: 7 train loss: 97.39970861816474\n",
      "took: 6.790238380432129\n",
      "lambda1:  1\n"
     ]
    },
    {
     "name": "stderr",
     "output_type": "stream",
     "text": [
      "\n",
      " 18%|█▊        | 9/50 [01:10<05:05,  7.45s/it]\u001b[A"
     ]
    },
    {
     "name": "stdout",
     "output_type": "stream",
     "text": [
      "epoch: 8 train loss: 94.7734382934577\n",
      "took: 6.550932884216309\n",
      "lambda1:  1\n",
      "epoch: 9 train loss: 99.27110931396538\n",
      "epoch: 9\n",
      "clean accuracy: 0.9039\n"
     ]
    },
    {
     "name": "stderr",
     "output_type": "stream",
     "text": [
      "\n",
      " 20%|██        | 10/50 [01:27<06:59, 10.48s/it]\u001b[A"
     ]
    },
    {
     "name": "stdout",
     "output_type": "stream",
     "text": [
      "epoch: 9\n",
      "attack accuracy: 0.1031\n",
      "took: 17.280601501464844\n",
      "lambda1:  1\n"
     ]
    },
    {
     "name": "stderr",
     "output_type": "stream",
     "text": [
      "\n",
      " 22%|██▏       | 11/50 [01:34<06:03,  9.32s/it]\u001b[A"
     ]
    },
    {
     "name": "stdout",
     "output_type": "stream",
     "text": [
      "epoch: 10 train loss: 91.98018157959054\n",
      "took: 6.677450656890869\n",
      "lambda1:  1\n"
     ]
    },
    {
     "name": "stderr",
     "output_type": "stream",
     "text": [
      "\n",
      " 24%|██▍       | 12/50 [01:41<05:26,  8.59s/it]\u001b[A"
     ]
    },
    {
     "name": "stdout",
     "output_type": "stream",
     "text": [
      "epoch: 11 train loss: 92.65936145019583\n",
      "took: 6.93039083480835\n",
      "lambda1:  1\n"
     ]
    },
    {
     "name": "stderr",
     "output_type": "stream",
     "text": [
      "\n",
      " 26%|██▌       | 13/50 [01:48<04:58,  8.06s/it]\u001b[A"
     ]
    },
    {
     "name": "stdout",
     "output_type": "stream",
     "text": [
      "epoch: 12 train loss: 96.80009704589878\n",
      "took: 6.847417831420898\n",
      "lambda1:  1\n"
     ]
    },
    {
     "name": "stderr",
     "output_type": "stream",
     "text": [
      "\n",
      " 28%|██▊       | 14/50 [01:54<04:36,  7.67s/it]\u001b[A"
     ]
    },
    {
     "name": "stdout",
     "output_type": "stream",
     "text": [
      "epoch: 13 train loss: 90.58246203613368\n",
      "took: 6.748331546783447\n",
      "lambda1:  1\n",
      "epoch: 14 train loss: 95.83092553710989\n",
      "epoch: 14\n",
      "clean accuracy: 0.9039\n"
     ]
    },
    {
     "name": "stderr",
     "output_type": "stream",
     "text": [
      "\n",
      " 30%|███       | 15/50 [02:12<06:12, 10.66s/it]\u001b[A"
     ]
    },
    {
     "name": "stdout",
     "output_type": "stream",
     "text": [
      "epoch: 14\n",
      "attack accuracy: 0.1031\n",
      "took: 17.576077461242676\n",
      "lambda1:  1\n"
     ]
    },
    {
     "name": "stderr",
     "output_type": "stream",
     "text": [
      "\n",
      " 32%|███▏      | 16/50 [02:19<05:23,  9.52s/it]\u001b[A"
     ]
    },
    {
     "name": "stdout",
     "output_type": "stream",
     "text": [
      "epoch: 15 train loss: 95.54875946044957\n",
      "took: 6.874528169631958\n",
      "lambda1:  1\n"
     ]
    },
    {
     "name": "stderr",
     "output_type": "stream",
     "text": [
      "\n",
      " 34%|███▍      | 17/50 [02:25<04:45,  8.65s/it]\u001b[A"
     ]
    },
    {
     "name": "stdout",
     "output_type": "stream",
     "text": [
      "epoch: 16 train loss: 95.10468145752004\n",
      "took: 6.640718221664429\n",
      "lambda1:  1\n"
     ]
    },
    {
     "name": "stderr",
     "output_type": "stream",
     "text": [
      "\n",
      " 36%|███▌      | 18/50 [02:32<04:15,  7.99s/it]\u001b[A"
     ]
    },
    {
     "name": "stdout",
     "output_type": "stream",
     "text": [
      "epoch: 17 train loss: 94.98557507324271\n",
      "took: 6.456191539764404\n",
      "lambda1:  1\n"
     ]
    },
    {
     "name": "stderr",
     "output_type": "stream",
     "text": [
      "\n",
      " 38%|███▊      | 19/50 [02:39<03:54,  7.57s/it]\u001b[A"
     ]
    },
    {
     "name": "stdout",
     "output_type": "stream",
     "text": [
      "epoch: 18 train loss: 92.95243969726606\n",
      "took: 6.595228910446167\n",
      "lambda1:  1\n",
      "epoch: 19 train loss: 94.7178911132816\n",
      "epoch: 19\n",
      "clean accuracy: 0.9039\n"
     ]
    },
    {
     "name": "stderr",
     "output_type": "stream",
     "text": [
      "\n",
      " 40%|████      | 20/50 [02:56<05:18, 10.61s/it]\u001b[A"
     ]
    },
    {
     "name": "stdout",
     "output_type": "stream",
     "text": [
      "epoch: 19\n",
      "attack accuracy: 0.1031\n",
      "took: 17.694325923919678\n",
      "lambda1:  1\n"
     ]
    },
    {
     "name": "stderr",
     "output_type": "stream",
     "text": [
      "\n",
      " 42%|████▏     | 21/50 [03:03<04:33,  9.43s/it]\u001b[A"
     ]
    },
    {
     "name": "stdout",
     "output_type": "stream",
     "text": [
      "epoch: 20 train loss: 95.95196411132865\n",
      "took: 6.664186239242554\n",
      "lambda1:  1\n"
     ]
    },
    {
     "name": "stderr",
     "output_type": "stream",
     "text": [
      "\n",
      " 44%|████▍     | 22/50 [03:09<03:59,  8.55s/it]\u001b[A"
     ]
    },
    {
     "name": "stdout",
     "output_type": "stream",
     "text": [
      "epoch: 21 train loss: 97.11753765869193\n",
      "took: 6.492689371109009\n",
      "lambda1:  1\n"
     ]
    },
    {
     "name": "stderr",
     "output_type": "stream",
     "text": [
      "\n",
      " 46%|████▌     | 23/50 [03:16<03:38,  8.07s/it]\u001b[A"
     ]
    },
    {
     "name": "stdout",
     "output_type": "stream",
     "text": [
      "epoch: 22 train loss: 95.471981506348\n",
      "took: 6.967017889022827\n",
      "lambda1:  1\n"
     ]
    },
    {
     "name": "stderr",
     "output_type": "stream",
     "text": [
      "\n",
      " 48%|████▊     | 24/50 [03:23<03:18,  7.65s/it]\u001b[A"
     ]
    },
    {
     "name": "stdout",
     "output_type": "stream",
     "text": [
      "epoch: 23 train loss: 99.23861480712957\n",
      "took: 6.660549879074097\n",
      "lambda1:  1\n",
      "epoch: 24 train loss: 96.36458007812551\n",
      "epoch: 24\n",
      "clean accuracy: 0.9039\n"
     ]
    },
    {
     "name": "stderr",
     "output_type": "stream",
     "text": [
      "\n",
      " 50%|█████     | 25/50 [03:40<04:24, 10.56s/it]\u001b[A"
     ]
    },
    {
     "name": "stdout",
     "output_type": "stream",
     "text": [
      "epoch: 24\n",
      "attack accuracy: 0.1031\n",
      "took: 17.361436128616333\n",
      "lambda1:  1\n"
     ]
    },
    {
     "name": "stderr",
     "output_type": "stream",
     "text": [
      "\n",
      " 52%|█████▏    | 26/50 [03:47<03:45,  9.41s/it]\u001b[A"
     ]
    },
    {
     "name": "stdout",
     "output_type": "stream",
     "text": [
      "epoch: 25 train loss: 102.10560278320376\n",
      "took: 6.716282844543457\n",
      "lambda1:  1\n"
     ]
    },
    {
     "name": "stderr",
     "output_type": "stream",
     "text": [
      "\n",
      " 54%|█████▍    | 27/50 [03:54<03:17,  8.57s/it]\u001b[A"
     ]
    },
    {
     "name": "stdout",
     "output_type": "stream",
     "text": [
      "epoch: 26 train loss: 99.64533654785173\n",
      "took: 6.609639406204224\n",
      "lambda1:  1\n"
     ]
    },
    {
     "name": "stderr",
     "output_type": "stream",
     "text": [
      "\n",
      " 56%|█████▌    | 28/50 [04:00<02:54,  7.94s/it]\u001b[A"
     ]
    },
    {
     "name": "stdout",
     "output_type": "stream",
     "text": [
      "epoch: 27 train loss: 97.22398382568412\n",
      "took: 6.463334560394287\n",
      "lambda1:  1\n"
     ]
    },
    {
     "name": "stderr",
     "output_type": "stream",
     "text": [
      "\n",
      " 58%|█████▊    | 29/50 [04:07<02:38,  7.54s/it]\u001b[A"
     ]
    },
    {
     "name": "stdout",
     "output_type": "stream",
     "text": [
      "epoch: 28 train loss: 94.42444158935571\n",
      "took: 6.599494457244873\n",
      "lambda1:  1\n",
      "epoch: 29 train loss: 100.36294580078142\n",
      "epoch: 29\n",
      "clean accuracy: 0.9039\n"
     ]
    },
    {
     "name": "stderr",
     "output_type": "stream",
     "text": [
      "\n",
      " 60%|██████    | 30/50 [04:24<03:30, 10.51s/it]\u001b[A"
     ]
    },
    {
     "name": "stdout",
     "output_type": "stream",
     "text": [
      "epoch: 29\n",
      "attack accuracy: 0.1031\n",
      "took: 17.45577096939087\n",
      "lambda1:  1\n"
     ]
    },
    {
     "name": "stderr",
     "output_type": "stream",
     "text": [
      "\n",
      " 62%|██████▏   | 31/50 [04:31<02:57,  9.32s/it]\u001b[A"
     ]
    },
    {
     "name": "stdout",
     "output_type": "stream",
     "text": [
      "epoch: 30 train loss: 98.90212866210972\n",
      "took: 6.520345449447632\n",
      "lambda1:  1\n"
     ]
    },
    {
     "name": "stderr",
     "output_type": "stream",
     "text": [
      "\n",
      " 64%|██████▍   | 32/50 [04:37<02:32,  8.49s/it]\u001b[A"
     ]
    },
    {
     "name": "stdout",
     "output_type": "stream",
     "text": [
      "epoch: 31 train loss: 95.3061080932624\n",
      "took: 6.571593999862671\n",
      "lambda1:  1\n"
     ]
    },
    {
     "name": "stderr",
     "output_type": "stream",
     "text": [
      "\n",
      " 66%|██████▌   | 33/50 [04:44<02:17,  8.06s/it]\u001b[A"
     ]
    },
    {
     "name": "stdout",
     "output_type": "stream",
     "text": [
      "epoch: 32 train loss: 96.30030026245151\n",
      "took: 7.049526214599609\n",
      "lambda1:  1\n"
     ]
    },
    {
     "name": "stderr",
     "output_type": "stream",
     "text": [
      "\n",
      " 68%|██████▊   | 34/50 [04:51<02:01,  7.62s/it]\u001b[A"
     ]
    },
    {
     "name": "stdout",
     "output_type": "stream",
     "text": [
      "epoch: 33 train loss: 101.04035296630859\n",
      "took: 6.604746580123901\n",
      "lambda1:  1\n",
      "epoch: 34 train loss: 93.99007507324279\n",
      "epoch: 34\n",
      "clean accuracy: 0.9039\n"
     ]
    },
    {
     "name": "stderr",
     "output_type": "stream",
     "text": [
      "\n",
      " 70%|███████   | 35/50 [05:08<02:37, 10.51s/it]\u001b[A"
     ]
    },
    {
     "name": "stdout",
     "output_type": "stream",
     "text": [
      "epoch: 34\n",
      "attack accuracy: 0.1031\n",
      "took: 17.22694730758667\n",
      "lambda1:  1\n"
     ]
    },
    {
     "name": "stderr",
     "output_type": "stream",
     "text": [
      "\n",
      " 72%|███████▏  | 36/50 [05:15<02:10,  9.34s/it]\u001b[A"
     ]
    },
    {
     "name": "stdout",
     "output_type": "stream",
     "text": [
      "epoch: 35 train loss: 95.52727313232499\n",
      "took: 6.631754159927368\n",
      "lambda1:  1\n"
     ]
    },
    {
     "name": "stderr",
     "output_type": "stream",
     "text": [
      "\n",
      " 74%|███████▍  | 37/50 [05:22<01:52,  8.68s/it]\u001b[A"
     ]
    },
    {
     "name": "stdout",
     "output_type": "stream",
     "text": [
      "epoch: 36 train loss: 91.24658947754018\n",
      "took: 7.111266613006592\n",
      "lambda1:  1\n"
     ]
    },
    {
     "name": "stderr",
     "output_type": "stream",
     "text": [
      "\n",
      " 76%|███████▌  | 38/50 [05:28<01:35,  7.99s/it]\u001b[A"
     ]
    },
    {
     "name": "stdout",
     "output_type": "stream",
     "text": [
      "epoch: 37 train loss: 104.91808953857422\n",
      "took: 6.378692150115967\n",
      "lambda1:  1\n"
     ]
    },
    {
     "name": "stderr",
     "output_type": "stream",
     "text": [
      "\n",
      " 78%|███████▊  | 39/50 [05:35<01:24,  7.67s/it]\u001b[A"
     ]
    },
    {
     "name": "stdout",
     "output_type": "stream",
     "text": [
      "epoch: 38 train loss: 93.89474163818392\n",
      "took: 6.922962665557861\n",
      "lambda1:  1\n",
      "epoch: 39 train loss: 95.2849782104494\n",
      "epoch: 39\n",
      "clean accuracy: 0.9039\n"
     ]
    },
    {
     "name": "stderr",
     "output_type": "stream",
     "text": [
      "\n",
      " 80%|████████  | 40/50 [05:53<01:46, 10.64s/it]\u001b[A"
     ]
    },
    {
     "name": "stdout",
     "output_type": "stream",
     "text": [
      "epoch: 39\n",
      "attack accuracy: 0.1031\n",
      "took: 17.55908441543579\n",
      "lambda1:  1\n"
     ]
    },
    {
     "name": "stderr",
     "output_type": "stream",
     "text": [
      "\n",
      " 82%|████████▏ | 41/50 [05:59<01:24,  9.39s/it]\u001b[A"
     ]
    },
    {
     "name": "stdout",
     "output_type": "stream",
     "text": [
      "epoch: 40 train loss: 95.25516473388723\n",
      "took: 6.47086763381958\n",
      "lambda1:  1\n"
     ]
    },
    {
     "name": "stderr",
     "output_type": "stream",
     "text": [
      "\n",
      " 84%|████████▍ | 42/50 [06:06<01:08,  8.58s/it]\u001b[A"
     ]
    },
    {
     "name": "stdout",
     "output_type": "stream",
     "text": [
      "epoch: 41 train loss: 99.77862591552751\n",
      "took: 6.701976537704468\n",
      "lambda1:  1\n"
     ]
    },
    {
     "name": "stderr",
     "output_type": "stream",
     "text": [
      "\n",
      " 86%|████████▌ | 43/50 [06:13<00:55,  7.99s/it]\u001b[A"
     ]
    },
    {
     "name": "stdout",
     "output_type": "stream",
     "text": [
      "epoch: 42 train loss: 99.3017141113283\n",
      "took: 6.622601509094238\n",
      "lambda1:  1\n"
     ]
    },
    {
     "name": "stderr",
     "output_type": "stream",
     "text": [
      "\n",
      " 88%|████████▊ | 44/50 [06:19<00:45,  7.60s/it]\u001b[A"
     ]
    },
    {
     "name": "stdout",
     "output_type": "stream",
     "text": [
      "epoch: 43 train loss: 98.29398950195348\n",
      "took: 6.660727500915527\n",
      "lambda1:  1\n",
      "epoch: 44 train loss: 97.70970336914078\n",
      "epoch: 44\n",
      "clean accuracy: 0.9039\n"
     ]
    },
    {
     "name": "stderr",
     "output_type": "stream",
     "text": [
      "\n",
      " 90%|█████████ | 45/50 [06:37<00:52, 10.60s/it]\u001b[A"
     ]
    },
    {
     "name": "stdout",
     "output_type": "stream",
     "text": [
      "epoch: 44\n",
      "attack accuracy: 0.1031\n",
      "took: 17.60470962524414\n",
      "lambda1:  1\n"
     ]
    },
    {
     "name": "stderr",
     "output_type": "stream",
     "text": [
      "\n",
      " 92%|█████████▏| 46/50 [06:44<00:38,  9.51s/it]\u001b[A"
     ]
    },
    {
     "name": "stdout",
     "output_type": "stream",
     "text": [
      "epoch: 45 train loss: 96.71141088867206\n",
      "took: 6.984254598617554\n",
      "lambda1:  1\n"
     ]
    },
    {
     "name": "stderr",
     "output_type": "stream",
     "text": [
      "\n",
      " 94%|█████████▍| 47/50 [06:51<00:26,  8.72s/it]\u001b[A"
     ]
    },
    {
     "name": "stdout",
     "output_type": "stream",
     "text": [
      "epoch: 46 train loss: 98.65367675781268\n",
      "took: 6.876868724822998\n",
      "lambda1:  1\n"
     ]
    },
    {
     "name": "stderr",
     "output_type": "stream",
     "text": [
      "\n",
      " 96%|█████████▌| 48/50 [06:58<00:16,  8.14s/it]\u001b[A"
     ]
    },
    {
     "name": "stdout",
     "output_type": "stream",
     "text": [
      "epoch: 47 train loss: 96.64106640625069\n",
      "took: 6.758438587188721\n",
      "lambda1:  1\n"
     ]
    },
    {
     "name": "stderr",
     "output_type": "stream",
     "text": [
      "\n",
      " 98%|█████████▊| 49/50 [07:04<00:07,  7.62s/it]\u001b[A"
     ]
    },
    {
     "name": "stdout",
     "output_type": "stream",
     "text": [
      "epoch: 48 train loss: 99.16077227783255\n",
      "took: 6.413610458374023\n",
      "lambda1:  1\n",
      "epoch: 49 train loss: 93.21690045166083\n",
      "epoch: 49\n",
      "clean accuracy: 0.9039\n"
     ]
    },
    {
     "name": "stderr",
     "output_type": "stream",
     "text": [
      "\n",
      "100%|██████████| 50/50 [07:21<00:00,  8.84s/it]\u001b[A\n",
      "3it [22:40, 453.09s/it]"
     ]
    },
    {
     "name": "stdout",
     "output_type": "stream",
     "text": [
      "epoch: 49\n",
      "attack accuracy: 0.1031\n",
      "took: 17.32598328590393\n",
      "model train finished. elapsed: 441.77728486061096\n",
      "Training from layer: 3\n",
      "first accuracy:\n",
      "epoch: -1\n",
      "clean accuracy: 0.9039\n",
      "epoch: -1\n",
      "attack accuracy: 0.1031\n"
     ]
    },
    {
     "name": "stderr",
     "output_type": "stream",
     "text": [
      "\n",
      "  0%|          | 0/50 [00:00<?, ?it/s]\u001b[A"
     ]
    },
    {
     "name": "stdout",
     "output_type": "stream",
     "text": [
      "lambda1:  1\n"
     ]
    },
    {
     "name": "stderr",
     "output_type": "stream",
     "text": [
      "\n",
      "  2%|▏         | 1/50 [00:06<05:31,  6.77s/it]\u001b[A"
     ]
    },
    {
     "name": "stdout",
     "output_type": "stream",
     "text": [
      "epoch: 0 train loss: 101.72813964843783\n",
      "took: 6.766102313995361\n",
      "lambda1:  1\n"
     ]
    },
    {
     "name": "stderr",
     "output_type": "stream",
     "text": [
      "\n",
      "  4%|▍         | 2/50 [00:13<05:36,  7.02s/it]\u001b[A"
     ]
    },
    {
     "name": "stdout",
     "output_type": "stream",
     "text": [
      "epoch: 1 train loss: 93.48955920410275\n",
      "took: 7.189243316650391\n",
      "lambda1:  1\n"
     ]
    },
    {
     "name": "stderr",
     "output_type": "stream",
     "text": [
      "\n",
      "  6%|▌         | 3/50 [00:21<05:34,  7.12s/it]\u001b[A"
     ]
    },
    {
     "name": "stdout",
     "output_type": "stream",
     "text": [
      "epoch: 2 train loss: 97.49440423584018\n",
      "took: 7.2450361251831055\n",
      "lambda1:  1\n"
     ]
    },
    {
     "name": "stderr",
     "output_type": "stream",
     "text": [
      "\n",
      "  8%|▊         | 4/50 [00:28<05:23,  7.04s/it]\u001b[A"
     ]
    },
    {
     "name": "stdout",
     "output_type": "stream",
     "text": [
      "epoch: 3 train loss: 97.10041894531284\n",
      "took: 6.902377367019653\n",
      "lambda1:  1\n",
      "epoch: 4 train loss: 97.25239575195339\n",
      "epoch: 4\n",
      "clean accuracy: 0.9039\n"
     ]
    },
    {
     "name": "stderr",
     "output_type": "stream",
     "text": [
      "\n",
      " 10%|█         | 5/50 [00:46<08:16, 11.03s/it]\u001b[A"
     ]
    },
    {
     "name": "stdout",
     "output_type": "stream",
     "text": [
      "epoch: 4\n",
      "attack accuracy: 0.1031\n",
      "took: 18.10598087310791\n",
      "lambda1:  1\n"
     ]
    },
    {
     "name": "stderr",
     "output_type": "stream",
     "text": [
      "\n",
      " 12%|█▏        | 6/50 [00:53<07:06,  9.70s/it]\u001b[A"
     ]
    },
    {
     "name": "stdout",
     "output_type": "stream",
     "text": [
      "epoch: 5 train loss: 97.3155274658205\n",
      "took: 7.111704111099243\n",
      "lambda1:  1\n"
     ]
    },
    {
     "name": "stderr",
     "output_type": "stream",
     "text": [
      "\n",
      " 14%|█▍        | 7/50 [01:00<06:19,  8.82s/it]\u001b[A"
     ]
    },
    {
     "name": "stdout",
     "output_type": "stream",
     "text": [
      "epoch: 6 train loss: 94.5985490722665\n",
      "took: 7.010982275009155\n",
      "lambda1:  1\n"
     ]
    },
    {
     "name": "stderr",
     "output_type": "stream",
     "text": [
      "\n",
      " 16%|█▌        | 8/50 [01:07<05:49,  8.31s/it]\u001b[A"
     ]
    },
    {
     "name": "stdout",
     "output_type": "stream",
     "text": [
      "epoch: 7 train loss: 93.5409242553716\n",
      "took: 7.228814363479614\n",
      "lambda1:  1\n"
     ]
    },
    {
     "name": "stderr",
     "output_type": "stream",
     "text": [
      "\n",
      " 18%|█▊        | 9/50 [01:14<05:28,  8.01s/it]\u001b[A"
     ]
    },
    {
     "name": "stdout",
     "output_type": "stream",
     "text": [
      "epoch: 8 train loss: 101.11258746337943\n",
      "took: 7.332001447677612\n",
      "lambda1:  1\n",
      "epoch: 9 train loss: 97.45482012939469\n",
      "epoch: 9\n",
      "clean accuracy: 0.9039\n"
     ]
    },
    {
     "name": "stderr",
     "output_type": "stream",
     "text": [
      "\n",
      " 20%|██        | 10/50 [01:32<07:22, 11.07s/it]\u001b[A"
     ]
    },
    {
     "name": "stdout",
     "output_type": "stream",
     "text": [
      "epoch: 9\n",
      "attack accuracy: 0.1031\n",
      "took: 17.93928861618042\n",
      "lambda1:  1\n"
     ]
    },
    {
     "name": "stderr",
     "output_type": "stream",
     "text": [
      "\n",
      " 22%|██▏       | 11/50 [01:39<06:23,  9.84s/it]\u001b[A"
     ]
    },
    {
     "name": "stdout",
     "output_type": "stream",
     "text": [
      "epoch: 10 train loss: 97.2670877685552\n",
      "took: 7.0482001304626465\n",
      "lambda1:  1\n"
     ]
    },
    {
     "name": "stderr",
     "output_type": "stream",
     "text": [
      "\n",
      " 24%|██▍       | 12/50 [01:46<05:38,  8.92s/it]\u001b[A"
     ]
    },
    {
     "name": "stdout",
     "output_type": "stream",
     "text": [
      "epoch: 11 train loss: 93.54449420166051\n",
      "took: 6.79954719543457\n",
      "lambda1:  1\n"
     ]
    },
    {
     "name": "stderr",
     "output_type": "stream",
     "text": [
      "\n",
      " 26%|██▌       | 13/50 [01:53<05:07,  8.30s/it]\u001b[A"
     ]
    },
    {
     "name": "stdout",
     "output_type": "stream",
     "text": [
      "epoch: 12 train loss: 100.63759094238323\n",
      "took: 6.8883655071258545\n",
      "lambda1:  1\n"
     ]
    },
    {
     "name": "stderr",
     "output_type": "stream",
     "text": [
      "\n",
      " 28%|██▊       | 14/50 [02:00<04:42,  7.85s/it]\u001b[A"
     ]
    },
    {
     "name": "stdout",
     "output_type": "stream",
     "text": [
      "epoch: 13 train loss: 94.42048260498161\n",
      "took: 6.814012289047241\n",
      "lambda1:  1\n",
      "epoch: 14 train loss: 97.18048132324253\n",
      "epoch: 14\n",
      "clean accuracy: 0.9039\n"
     ]
    },
    {
     "name": "stderr",
     "output_type": "stream",
     "text": [
      "\n",
      " 30%|███       | 15/50 [02:18<06:23, 10.96s/it]\u001b[A"
     ]
    },
    {
     "name": "stdout",
     "output_type": "stream",
     "text": [
      "epoch: 14\n",
      "attack accuracy: 0.1031\n",
      "took: 18.165565490722656\n",
      "lambda1:  1\n"
     ]
    },
    {
     "name": "stderr",
     "output_type": "stream",
     "text": [
      "\n",
      " 32%|███▏      | 16/50 [02:25<05:32,  9.78s/it]\u001b[A"
     ]
    },
    {
     "name": "stdout",
     "output_type": "stream",
     "text": [
      "epoch: 15 train loss: 98.79102679443376\n",
      "took: 7.032827377319336\n",
      "lambda1:  1\n"
     ]
    },
    {
     "name": "stderr",
     "output_type": "stream",
     "text": [
      "\n",
      " 34%|███▍      | 17/50 [02:33<05:00,  9.10s/it]\u001b[A"
     ]
    },
    {
     "name": "stdout",
     "output_type": "stream",
     "text": [
      "epoch: 16 train loss: 98.66308898925782\n",
      "took: 7.517260313034058\n",
      "lambda1:  1\n"
     ]
    },
    {
     "name": "stderr",
     "output_type": "stream",
     "text": [
      "\n",
      " 36%|███▌      | 18/50 [02:40<04:31,  8.47s/it]\u001b[A"
     ]
    },
    {
     "name": "stdout",
     "output_type": "stream",
     "text": [
      "epoch: 17 train loss: 97.39815783691472\n",
      "took: 7.015420436859131\n",
      "lambda1:  1\n"
     ]
    },
    {
     "name": "stderr",
     "output_type": "stream",
     "text": [
      "\n",
      " 38%|███▊      | 19/50 [02:47<04:09,  8.04s/it]\u001b[A"
     ]
    },
    {
     "name": "stdout",
     "output_type": "stream",
     "text": [
      "epoch: 18 train loss: 104.30972930908239\n",
      "took: 7.040675401687622\n",
      "lambda1:  1\n",
      "epoch: 19 train loss: 96.24577722168004\n",
      "epoch: 19\n",
      "clean accuracy: 0.9039\n"
     ]
    },
    {
     "name": "stderr",
     "output_type": "stream",
     "text": [
      "\n",
      " 40%|████      | 20/50 [03:05<05:33, 11.11s/it]\u001b[A"
     ]
    },
    {
     "name": "stdout",
     "output_type": "stream",
     "text": [
      "epoch: 19\n",
      "attack accuracy: 0.1031\n",
      "took: 18.25472855567932\n",
      "lambda1:  1\n"
     ]
    },
    {
     "name": "stderr",
     "output_type": "stream",
     "text": [
      "\n",
      " 42%|████▏     | 21/50 [03:12<04:47,  9.90s/it]\u001b[A"
     ]
    },
    {
     "name": "stdout",
     "output_type": "stream",
     "text": [
      "epoch: 20 train loss: 100.24428021240321\n",
      "took: 7.06721043586731\n",
      "lambda1:  1\n"
     ]
    },
    {
     "name": "stderr",
     "output_type": "stream",
     "text": [
      "\n",
      " 44%|████▍     | 22/50 [03:19<04:12,  9.01s/it]\u001b[A"
     ]
    },
    {
     "name": "stdout",
     "output_type": "stream",
     "text": [
      "epoch: 21 train loss: 93.71032763671943\n",
      "took: 6.942785739898682\n",
      "lambda1:  1\n"
     ]
    },
    {
     "name": "stderr",
     "output_type": "stream",
     "text": [
      "\n",
      " 46%|████▌     | 23/50 [03:27<03:51,  8.57s/it]\u001b[A"
     ]
    },
    {
     "name": "stdout",
     "output_type": "stream",
     "text": [
      "epoch: 22 train loss: 92.94826184082063\n",
      "took: 7.5512683391571045\n",
      "lambda1:  1\n"
     ]
    },
    {
     "name": "stderr",
     "output_type": "stream",
     "text": [
      "\n",
      " 48%|████▊     | 24/50 [03:34<03:31,  8.13s/it]\u001b[A"
     ]
    },
    {
     "name": "stdout",
     "output_type": "stream",
     "text": [
      "epoch: 23 train loss: 95.02022460937518\n",
      "took: 7.085737943649292\n",
      "lambda1:  1\n",
      "epoch: 24 train loss: 97.89470318603566\n",
      "epoch: 24\n",
      "clean accuracy: 0.9039\n"
     ]
    },
    {
     "name": "stderr",
     "output_type": "stream",
     "text": [
      "\n",
      " 50%|█████     | 25/50 [03:52<04:39, 11.17s/it]\u001b[A"
     ]
    },
    {
     "name": "stdout",
     "output_type": "stream",
     "text": [
      "epoch: 24\n",
      "attack accuracy: 0.1031\n",
      "took: 18.259028673171997\n",
      "lambda1:  1\n"
     ]
    },
    {
     "name": "stderr",
     "output_type": "stream",
     "text": [
      "\n",
      " 52%|█████▏    | 26/50 [03:59<03:58,  9.92s/it]\u001b[A"
     ]
    },
    {
     "name": "stdout",
     "output_type": "stream",
     "text": [
      "epoch: 25 train loss: 90.2897934570323\n",
      "took: 7.0097880363464355\n",
      "lambda1:  1\n"
     ]
    },
    {
     "name": "stderr",
     "output_type": "stream",
     "text": [
      "\n",
      " 54%|█████▍    | 27/50 [04:06<03:28,  9.08s/it]\u001b[A"
     ]
    },
    {
     "name": "stdout",
     "output_type": "stream",
     "text": [
      "epoch: 26 train loss: 95.1245445556644\n",
      "took: 7.118448257446289\n",
      "lambda1:  1\n"
     ]
    },
    {
     "name": "stderr",
     "output_type": "stream",
     "text": [
      "\n",
      " 56%|█████▌    | 28/50 [04:13<03:08,  8.56s/it]\u001b[A"
     ]
    },
    {
     "name": "stdout",
     "output_type": "stream",
     "text": [
      "epoch: 27 train loss: 94.71083453369201\n",
      "took: 7.342459440231323\n",
      "lambda1:  1\n"
     ]
    },
    {
     "name": "stderr",
     "output_type": "stream",
     "text": [
      "\n",
      " 58%|█████▊    | 29/50 [04:20<02:48,  8.03s/it]\u001b[A"
     ]
    },
    {
     "name": "stdout",
     "output_type": "stream",
     "text": [
      "epoch: 28 train loss: 94.49102386474661\n",
      "took: 6.800504207611084\n",
      "lambda1:  1\n",
      "epoch: 29 train loss: 95.7769810791019\n",
      "epoch: 29\n",
      "clean accuracy: 0.9039\n"
     ]
    },
    {
     "name": "stderr",
     "output_type": "stream",
     "text": [
      "\n",
      " 60%|██████    | 30/50 [04:39<03:43, 11.17s/it]\u001b[A"
     ]
    },
    {
     "name": "stdout",
     "output_type": "stream",
     "text": [
      "epoch: 29\n",
      "attack accuracy: 0.1031\n",
      "took: 18.497247457504272\n",
      "lambda1:  1\n"
     ]
    },
    {
     "name": "stderr",
     "output_type": "stream",
     "text": [
      "\n",
      " 62%|██████▏   | 31/50 [04:46<03:09,  9.97s/it]\u001b[A"
     ]
    },
    {
     "name": "stdout",
     "output_type": "stream",
     "text": [
      "epoch: 30 train loss: 88.71464239502023\n",
      "took: 7.152822256088257\n",
      "lambda1:  1\n"
     ]
    },
    {
     "name": "stderr",
     "output_type": "stream",
     "text": [
      "\n",
      " 64%|██████▍   | 32/50 [04:53<02:42,  9.04s/it]\u001b[A"
     ]
    },
    {
     "name": "stdout",
     "output_type": "stream",
     "text": [
      "epoch: 31 train loss: 95.06145086669973\n",
      "took: 6.866250276565552\n",
      "lambda1:  1\n"
     ]
    },
    {
     "name": "stderr",
     "output_type": "stream",
     "text": [
      "\n",
      " 66%|██████▌   | 33/50 [04:59<02:22,  8.37s/it]\u001b[A"
     ]
    },
    {
     "name": "stdout",
     "output_type": "stream",
     "text": [
      "epoch: 32 train loss: 96.10842962646542\n",
      "took: 6.818305730819702\n",
      "lambda1:  1\n"
     ]
    },
    {
     "name": "stderr",
     "output_type": "stream",
     "text": [
      "\n",
      " 68%|██████▊   | 34/50 [05:07<02:08,  8.02s/it]\u001b[A"
     ]
    },
    {
     "name": "stdout",
     "output_type": "stream",
     "text": [
      "epoch: 33 train loss: 92.90009130859443\n",
      "took: 7.201615333557129\n",
      "lambda1:  1\n",
      "epoch: 34 train loss: 98.7944806518558\n",
      "epoch: 34\n",
      "clean accuracy: 0.9039\n"
     ]
    },
    {
     "name": "stderr",
     "output_type": "stream",
     "text": [
      "\n",
      " 70%|███████   | 35/50 [05:25<02:45, 11.02s/it]\u001b[A"
     ]
    },
    {
     "name": "stdout",
     "output_type": "stream",
     "text": [
      "epoch: 34\n",
      "attack accuracy: 0.1031\n",
      "took: 18.003233194351196\n",
      "lambda1:  1\n"
     ]
    },
    {
     "name": "stderr",
     "output_type": "stream",
     "text": [
      "\n",
      " 72%|███████▏  | 36/50 [05:32<02:17,  9.80s/it]\u001b[A"
     ]
    },
    {
     "name": "stdout",
     "output_type": "stream",
     "text": [
      "epoch: 35 train loss: 99.013417419434\n",
      "took: 6.9421703815460205\n",
      "lambda1:  1\n"
     ]
    },
    {
     "name": "stderr",
     "output_type": "stream",
     "text": [
      "\n",
      " 74%|███████▍  | 37/50 [05:39<01:56,  8.96s/it]\u001b[A"
     ]
    },
    {
     "name": "stdout",
     "output_type": "stream",
     "text": [
      "epoch: 36 train loss: 101.73005133056692\n",
      "took: 7.0013368129730225\n",
      "lambda1:  1\n"
     ]
    },
    {
     "name": "stderr",
     "output_type": "stream",
     "text": [
      "\n",
      " 76%|███████▌  | 38/50 [05:46<01:40,  8.36s/it]\u001b[A"
     ]
    },
    {
     "name": "stdout",
     "output_type": "stream",
     "text": [
      "epoch: 37 train loss: 98.1581608886722\n",
      "took: 6.956299781799316\n",
      "lambda1:  1\n"
     ]
    },
    {
     "name": "stderr",
     "output_type": "stream",
     "text": [
      "\n",
      " 78%|███████▊  | 39/50 [05:52<01:27,  7.91s/it]\u001b[A"
     ]
    },
    {
     "name": "stdout",
     "output_type": "stream",
     "text": [
      "epoch: 38 train loss: 99.44797479248082\n",
      "took: 6.8655548095703125\n",
      "lambda1:  1\n",
      "epoch: 39 train loss: 94.72937536621164\n",
      "epoch: 39\n",
      "clean accuracy: 0.9039\n"
     ]
    },
    {
     "name": "stderr",
     "output_type": "stream",
     "text": [
      "\n",
      " 80%|████████  | 40/50 [06:11<01:50, 11.05s/it]\u001b[A"
     ]
    },
    {
     "name": "stdout",
     "output_type": "stream",
     "text": [
      "epoch: 39\n",
      "attack accuracy: 0.1031\n",
      "took: 18.358686208724976\n",
      "lambda1:  1\n"
     ]
    },
    {
     "name": "stderr",
     "output_type": "stream",
     "text": [
      "\n",
      " 82%|████████▏ | 41/50 [06:18<01:28,  9.81s/it]\u001b[A"
     ]
    },
    {
     "name": "stdout",
     "output_type": "stream",
     "text": [
      "epoch: 40 train loss: 92.50261108398556\n",
      "took: 6.938823938369751\n",
      "lambda1:  1\n"
     ]
    },
    {
     "name": "stderr",
     "output_type": "stream",
     "text": [
      "\n",
      " 84%|████████▍ | 42/50 [06:25<01:12,  9.01s/it]\u001b[A"
     ]
    },
    {
     "name": "stdout",
     "output_type": "stream",
     "text": [
      "epoch: 41 train loss: 97.83758160400461\n",
      "took: 7.123334884643555\n",
      "lambda1:  1\n"
     ]
    },
    {
     "name": "stderr",
     "output_type": "stream",
     "text": [
      "\n",
      " 86%|████████▌ | 43/50 [06:32<00:58,  8.38s/it]\u001b[A"
     ]
    },
    {
     "name": "stdout",
     "output_type": "stream",
     "text": [
      "epoch: 42 train loss: 96.06389392089878\n",
      "took: 6.923957347869873\n",
      "lambda1:  1\n"
     ]
    },
    {
     "name": "stderr",
     "output_type": "stream",
     "text": [
      "\n",
      " 88%|████████▊ | 44/50 [06:39<00:48,  8.04s/it]\u001b[A"
     ]
    },
    {
     "name": "stdout",
     "output_type": "stream",
     "text": [
      "epoch: 43 train loss: 97.52648028564505\n",
      "took: 7.2256879806518555\n",
      "lambda1:  1\n",
      "epoch: 44 train loss: 99.51866619873074\n",
      "epoch: 44\n",
      "clean accuracy: 0.9039\n"
     ]
    },
    {
     "name": "stderr",
     "output_type": "stream",
     "text": [
      "\n",
      " 90%|█████████ | 45/50 [06:57<00:54, 10.95s/it]\u001b[A"
     ]
    },
    {
     "name": "stdout",
     "output_type": "stream",
     "text": [
      "epoch: 44\n",
      "attack accuracy: 0.1031\n",
      "took: 17.74972128868103\n",
      "lambda1:  1\n"
     ]
    },
    {
     "name": "stderr",
     "output_type": "stream",
     "text": [
      "\n",
      " 92%|█████████▏| 46/50 [07:04<00:39,  9.77s/it]\u001b[A"
     ]
    },
    {
     "name": "stdout",
     "output_type": "stream",
     "text": [
      "epoch: 45 train loss: 100.46092358398455\n",
      "took: 7.011432886123657\n",
      "lambda1:  1\n"
     ]
    },
    {
     "name": "stderr",
     "output_type": "stream",
     "text": [
      "\n",
      " 94%|█████████▍| 47/50 [07:11<00:26,  8.91s/it]\u001b[A"
     ]
    },
    {
     "name": "stdout",
     "output_type": "stream",
     "text": [
      "epoch: 46 train loss: 99.26121752929738\n",
      "took: 6.898530960083008\n",
      "lambda1:  1\n"
     ]
    },
    {
     "name": "stderr",
     "output_type": "stream",
     "text": [
      "\n",
      " 96%|█████████▌| 48/50 [07:18<00:16,  8.33s/it]\u001b[A"
     ]
    },
    {
     "name": "stdout",
     "output_type": "stream",
     "text": [
      "epoch: 47 train loss: 100.8107576293947\n",
      "took: 6.988356828689575\n",
      "lambda1:  1\n"
     ]
    },
    {
     "name": "stderr",
     "output_type": "stream",
     "text": [
      "\n",
      " 98%|█████████▊| 49/50 [07:25<00:07,  7.94s/it]\u001b[A"
     ]
    },
    {
     "name": "stdout",
     "output_type": "stream",
     "text": [
      "epoch: 48 train loss: 96.73149871826199\n",
      "took: 7.028530597686768\n",
      "lambda1:  1\n",
      "epoch: 49 train loss: 99.43504364013698\n",
      "epoch: 49\n",
      "clean accuracy: 0.9039\n"
     ]
    },
    {
     "name": "stderr",
     "output_type": "stream",
     "text": [
      "\n",
      "100%|██████████| 50/50 [07:43<00:00,  9.27s/it]\u001b[A\n",
      "4it [30:35, 458.84s/it]"
     ]
    },
    {
     "name": "stdout",
     "output_type": "stream",
     "text": [
      "epoch: 49\n",
      "attack accuracy: 0.1031\n",
      "took: 18.3963463306427\n",
      "model train finished. elapsed: 463.63498044013977\n"
     ]
    },
    {
     "name": "stderr",
     "output_type": "stream",
     "text": [
      "\n"
     ]
    }
   ],
   "source": [
    "results = []\n",
    "for i, fm in tqdm(enumerate(frozen_models)):\n",
    "    print(f\"Training from layer: {i}\")\n",
    "    r = train_loop(fm, f\"test_{i}\")\n",
    "    results.append(r)"
   ]
  },
  {
   "cell_type": "code",
   "execution_count": 203,
   "metadata": {
    "tags": []
   },
   "outputs": [
    {
     "data": {
      "text/plain": [
       "1"
      ]
     },
     "execution_count": 203,
     "metadata": {},
     "output_type": "execute_result"
    }
   ],
   "source": [
    "model, times, losses = results[0]\n",
    "losses[-1]"
   ]
  },
  {
   "cell_type": "code",
   "execution_count": 206,
   "metadata": {
    "tags": []
   },
   "outputs": [
    {
     "name": "stdout",
     "output_type": "stream",
     "text": [
      "Model: ResNet\n",
      "1 - Conv2d\n",
      "\tTrainable:False\n",
      "2 - BatchNorm2d\n",
      "\tTrainable:False\n",
      "3 - Sequential\n",
      "\tTrainable:True\n",
      "4 - Sequential\n",
      "\tTrainable:True\n",
      "5 - Sequential\n",
      "\tTrainable:True\n",
      "6 - Sequential\n",
      "\tTrainable:True\n",
      "7 - Linear\n",
      "\tTrainable:True\n",
      "Loss: 1\n",
      "00:07:26\n",
      "================\n",
      "Model: ResNet\n",
      "1 - Conv2d\n",
      "\tTrainable:False\n",
      "2 - BatchNorm2d\n",
      "\tTrainable:False\n",
      "3 - Sequential\n",
      "\tTrainable:False\n",
      "4 - Sequential\n",
      "\tTrainable:True\n",
      "5 - Sequential\n",
      "\tTrainable:True\n",
      "6 - Sequential\n",
      "\tTrainable:True\n",
      "7 - Linear\n",
      "\tTrainable:True\n",
      "Loss: 1\n",
      "00:07:19\n",
      "================\n",
      "Model: ResNet\n",
      "1 - Conv2d\n",
      "\tTrainable:False\n",
      "2 - BatchNorm2d\n",
      "\tTrainable:False\n",
      "3 - Sequential\n",
      "\tTrainable:False\n",
      "4 - Sequential\n",
      "\tTrainable:False\n",
      "5 - Sequential\n",
      "\tTrainable:True\n",
      "6 - Sequential\n",
      "\tTrainable:True\n",
      "7 - Linear\n",
      "\tTrainable:True\n",
      "Loss: 1\n",
      "00:07:21\n",
      "================\n",
      "Model: ResNet\n",
      "1 - Conv2d\n",
      "\tTrainable:False\n",
      "2 - BatchNorm2d\n",
      "\tTrainable:False\n",
      "3 - Sequential\n",
      "\tTrainable:False\n",
      "4 - Sequential\n",
      "\tTrainable:False\n",
      "5 - Sequential\n",
      "\tTrainable:False\n",
      "6 - Sequential\n",
      "\tTrainable:True\n",
      "7 - Linear\n",
      "\tTrainable:True\n",
      "Loss: 1\n",
      "00:07:43\n",
      "================\n"
     ]
    }
   ],
   "source": [
    "import datetime\n",
    "\n",
    "for i,r in enumerate(results):\n",
    "    model, times, losses = r\n",
    "    print_model_topology(model)\n",
    "    delta = times[0] - times[1]\n",
    "    running_time = datetime.datetime.fromtimestamp(delta).strftime('%H:%M:%S')\n",
    "    print(f\"Loss: {losses[-1]}\")\n",
    "    print(running_time)\n",
    "    print(\"================\")"
   ]
  },
  {
   "cell_type": "code",
   "execution_count": null,
   "metadata": {},
   "outputs": [],
   "source": []
  }
 ],
 "metadata": {
  "availableInstances": [
   {
    "_defaultOrder": 0,
    "_isFastLaunch": true,
    "category": "General purpose",
    "gpuNum": 0,
    "hideHardwareSpecs": false,
    "memoryGiB": 4,
    "name": "ml.t3.medium",
    "vcpuNum": 2
   },
   {
    "_defaultOrder": 1,
    "_isFastLaunch": false,
    "category": "General purpose",
    "gpuNum": 0,
    "hideHardwareSpecs": false,
    "memoryGiB": 8,
    "name": "ml.t3.large",
    "vcpuNum": 2
   },
   {
    "_defaultOrder": 2,
    "_isFastLaunch": false,
    "category": "General purpose",
    "gpuNum": 0,
    "hideHardwareSpecs": false,
    "memoryGiB": 16,
    "name": "ml.t3.xlarge",
    "vcpuNum": 4
   },
   {
    "_defaultOrder": 3,
    "_isFastLaunch": false,
    "category": "General purpose",
    "gpuNum": 0,
    "hideHardwareSpecs": false,
    "memoryGiB": 32,
    "name": "ml.t3.2xlarge",
    "vcpuNum": 8
   },
   {
    "_defaultOrder": 4,
    "_isFastLaunch": true,
    "category": "General purpose",
    "gpuNum": 0,
    "hideHardwareSpecs": false,
    "memoryGiB": 8,
    "name": "ml.m5.large",
    "vcpuNum": 2
   },
   {
    "_defaultOrder": 5,
    "_isFastLaunch": false,
    "category": "General purpose",
    "gpuNum": 0,
    "hideHardwareSpecs": false,
    "memoryGiB": 16,
    "name": "ml.m5.xlarge",
    "vcpuNum": 4
   },
   {
    "_defaultOrder": 6,
    "_isFastLaunch": false,
    "category": "General purpose",
    "gpuNum": 0,
    "hideHardwareSpecs": false,
    "memoryGiB": 32,
    "name": "ml.m5.2xlarge",
    "vcpuNum": 8
   },
   {
    "_defaultOrder": 7,
    "_isFastLaunch": false,
    "category": "General purpose",
    "gpuNum": 0,
    "hideHardwareSpecs": false,
    "memoryGiB": 64,
    "name": "ml.m5.4xlarge",
    "vcpuNum": 16
   },
   {
    "_defaultOrder": 8,
    "_isFastLaunch": false,
    "category": "General purpose",
    "gpuNum": 0,
    "hideHardwareSpecs": false,
    "memoryGiB": 128,
    "name": "ml.m5.8xlarge",
    "vcpuNum": 32
   },
   {
    "_defaultOrder": 9,
    "_isFastLaunch": false,
    "category": "General purpose",
    "gpuNum": 0,
    "hideHardwareSpecs": false,
    "memoryGiB": 192,
    "name": "ml.m5.12xlarge",
    "vcpuNum": 48
   },
   {
    "_defaultOrder": 10,
    "_isFastLaunch": false,
    "category": "General purpose",
    "gpuNum": 0,
    "hideHardwareSpecs": false,
    "memoryGiB": 256,
    "name": "ml.m5.16xlarge",
    "vcpuNum": 64
   },
   {
    "_defaultOrder": 11,
    "_isFastLaunch": false,
    "category": "General purpose",
    "gpuNum": 0,
    "hideHardwareSpecs": false,
    "memoryGiB": 384,
    "name": "ml.m5.24xlarge",
    "vcpuNum": 96
   },
   {
    "_defaultOrder": 12,
    "_isFastLaunch": false,
    "category": "General purpose",
    "gpuNum": 0,
    "hideHardwareSpecs": false,
    "memoryGiB": 8,
    "name": "ml.m5d.large",
    "vcpuNum": 2
   },
   {
    "_defaultOrder": 13,
    "_isFastLaunch": false,
    "category": "General purpose",
    "gpuNum": 0,
    "hideHardwareSpecs": false,
    "memoryGiB": 16,
    "name": "ml.m5d.xlarge",
    "vcpuNum": 4
   },
   {
    "_defaultOrder": 14,
    "_isFastLaunch": false,
    "category": "General purpose",
    "gpuNum": 0,
    "hideHardwareSpecs": false,
    "memoryGiB": 32,
    "name": "ml.m5d.2xlarge",
    "vcpuNum": 8
   },
   {
    "_defaultOrder": 15,
    "_isFastLaunch": false,
    "category": "General purpose",
    "gpuNum": 0,
    "hideHardwareSpecs": false,
    "memoryGiB": 64,
    "name": "ml.m5d.4xlarge",
    "vcpuNum": 16
   },
   {
    "_defaultOrder": 16,
    "_isFastLaunch": false,
    "category": "General purpose",
    "gpuNum": 0,
    "hideHardwareSpecs": false,
    "memoryGiB": 128,
    "name": "ml.m5d.8xlarge",
    "vcpuNum": 32
   },
   {
    "_defaultOrder": 17,
    "_isFastLaunch": false,
    "category": "General purpose",
    "gpuNum": 0,
    "hideHardwareSpecs": false,
    "memoryGiB": 192,
    "name": "ml.m5d.12xlarge",
    "vcpuNum": 48
   },
   {
    "_defaultOrder": 18,
    "_isFastLaunch": false,
    "category": "General purpose",
    "gpuNum": 0,
    "hideHardwareSpecs": false,
    "memoryGiB": 256,
    "name": "ml.m5d.16xlarge",
    "vcpuNum": 64
   },
   {
    "_defaultOrder": 19,
    "_isFastLaunch": false,
    "category": "General purpose",
    "gpuNum": 0,
    "hideHardwareSpecs": false,
    "memoryGiB": 384,
    "name": "ml.m5d.24xlarge",
    "vcpuNum": 96
   },
   {
    "_defaultOrder": 20,
    "_isFastLaunch": false,
    "category": "General purpose",
    "gpuNum": 0,
    "hideHardwareSpecs": true,
    "memoryGiB": 0,
    "name": "ml.geospatial.interactive",
    "supportedImageNames": [
     "sagemaker-geospatial-v1-0"
    ],
    "vcpuNum": 0
   },
   {
    "_defaultOrder": 21,
    "_isFastLaunch": true,
    "category": "Compute optimized",
    "gpuNum": 0,
    "hideHardwareSpecs": false,
    "memoryGiB": 4,
    "name": "ml.c5.large",
    "vcpuNum": 2
   },
   {
    "_defaultOrder": 22,
    "_isFastLaunch": false,
    "category": "Compute optimized",
    "gpuNum": 0,
    "hideHardwareSpecs": false,
    "memoryGiB": 8,
    "name": "ml.c5.xlarge",
    "vcpuNum": 4
   },
   {
    "_defaultOrder": 23,
    "_isFastLaunch": false,
    "category": "Compute optimized",
    "gpuNum": 0,
    "hideHardwareSpecs": false,
    "memoryGiB": 16,
    "name": "ml.c5.2xlarge",
    "vcpuNum": 8
   },
   {
    "_defaultOrder": 24,
    "_isFastLaunch": false,
    "category": "Compute optimized",
    "gpuNum": 0,
    "hideHardwareSpecs": false,
    "memoryGiB": 32,
    "name": "ml.c5.4xlarge",
    "vcpuNum": 16
   },
   {
    "_defaultOrder": 25,
    "_isFastLaunch": false,
    "category": "Compute optimized",
    "gpuNum": 0,
    "hideHardwareSpecs": false,
    "memoryGiB": 72,
    "name": "ml.c5.9xlarge",
    "vcpuNum": 36
   },
   {
    "_defaultOrder": 26,
    "_isFastLaunch": false,
    "category": "Compute optimized",
    "gpuNum": 0,
    "hideHardwareSpecs": false,
    "memoryGiB": 96,
    "name": "ml.c5.12xlarge",
    "vcpuNum": 48
   },
   {
    "_defaultOrder": 27,
    "_isFastLaunch": false,
    "category": "Compute optimized",
    "gpuNum": 0,
    "hideHardwareSpecs": false,
    "memoryGiB": 144,
    "name": "ml.c5.18xlarge",
    "vcpuNum": 72
   },
   {
    "_defaultOrder": 28,
    "_isFastLaunch": false,
    "category": "Compute optimized",
    "gpuNum": 0,
    "hideHardwareSpecs": false,
    "memoryGiB": 192,
    "name": "ml.c5.24xlarge",
    "vcpuNum": 96
   },
   {
    "_defaultOrder": 29,
    "_isFastLaunch": true,
    "category": "Accelerated computing",
    "gpuNum": 1,
    "hideHardwareSpecs": false,
    "memoryGiB": 16,
    "name": "ml.g4dn.xlarge",
    "vcpuNum": 4
   },
   {
    "_defaultOrder": 30,
    "_isFastLaunch": false,
    "category": "Accelerated computing",
    "gpuNum": 1,
    "hideHardwareSpecs": false,
    "memoryGiB": 32,
    "name": "ml.g4dn.2xlarge",
    "vcpuNum": 8
   },
   {
    "_defaultOrder": 31,
    "_isFastLaunch": false,
    "category": "Accelerated computing",
    "gpuNum": 1,
    "hideHardwareSpecs": false,
    "memoryGiB": 64,
    "name": "ml.g4dn.4xlarge",
    "vcpuNum": 16
   },
   {
    "_defaultOrder": 32,
    "_isFastLaunch": false,
    "category": "Accelerated computing",
    "gpuNum": 1,
    "hideHardwareSpecs": false,
    "memoryGiB": 128,
    "name": "ml.g4dn.8xlarge",
    "vcpuNum": 32
   },
   {
    "_defaultOrder": 33,
    "_isFastLaunch": false,
    "category": "Accelerated computing",
    "gpuNum": 4,
    "hideHardwareSpecs": false,
    "memoryGiB": 192,
    "name": "ml.g4dn.12xlarge",
    "vcpuNum": 48
   },
   {
    "_defaultOrder": 34,
    "_isFastLaunch": false,
    "category": "Accelerated computing",
    "gpuNum": 1,
    "hideHardwareSpecs": false,
    "memoryGiB": 256,
    "name": "ml.g4dn.16xlarge",
    "vcpuNum": 64
   },
   {
    "_defaultOrder": 35,
    "_isFastLaunch": false,
    "category": "Accelerated computing",
    "gpuNum": 1,
    "hideHardwareSpecs": false,
    "memoryGiB": 61,
    "name": "ml.p3.2xlarge",
    "vcpuNum": 8
   },
   {
    "_defaultOrder": 36,
    "_isFastLaunch": false,
    "category": "Accelerated computing",
    "gpuNum": 4,
    "hideHardwareSpecs": false,
    "memoryGiB": 244,
    "name": "ml.p3.8xlarge",
    "vcpuNum": 32
   },
   {
    "_defaultOrder": 37,
    "_isFastLaunch": false,
    "category": "Accelerated computing",
    "gpuNum": 8,
    "hideHardwareSpecs": false,
    "memoryGiB": 488,
    "name": "ml.p3.16xlarge",
    "vcpuNum": 64
   },
   {
    "_defaultOrder": 38,
    "_isFastLaunch": false,
    "category": "Accelerated computing",
    "gpuNum": 8,
    "hideHardwareSpecs": false,
    "memoryGiB": 768,
    "name": "ml.p3dn.24xlarge",
    "vcpuNum": 96
   },
   {
    "_defaultOrder": 39,
    "_isFastLaunch": false,
    "category": "Memory Optimized",
    "gpuNum": 0,
    "hideHardwareSpecs": false,
    "memoryGiB": 16,
    "name": "ml.r5.large",
    "vcpuNum": 2
   },
   {
    "_defaultOrder": 40,
    "_isFastLaunch": false,
    "category": "Memory Optimized",
    "gpuNum": 0,
    "hideHardwareSpecs": false,
    "memoryGiB": 32,
    "name": "ml.r5.xlarge",
    "vcpuNum": 4
   },
   {
    "_defaultOrder": 41,
    "_isFastLaunch": false,
    "category": "Memory Optimized",
    "gpuNum": 0,
    "hideHardwareSpecs": false,
    "memoryGiB": 64,
    "name": "ml.r5.2xlarge",
    "vcpuNum": 8
   },
   {
    "_defaultOrder": 42,
    "_isFastLaunch": false,
    "category": "Memory Optimized",
    "gpuNum": 0,
    "hideHardwareSpecs": false,
    "memoryGiB": 128,
    "name": "ml.r5.4xlarge",
    "vcpuNum": 16
   },
   {
    "_defaultOrder": 43,
    "_isFastLaunch": false,
    "category": "Memory Optimized",
    "gpuNum": 0,
    "hideHardwareSpecs": false,
    "memoryGiB": 256,
    "name": "ml.r5.8xlarge",
    "vcpuNum": 32
   },
   {
    "_defaultOrder": 44,
    "_isFastLaunch": false,
    "category": "Memory Optimized",
    "gpuNum": 0,
    "hideHardwareSpecs": false,
    "memoryGiB": 384,
    "name": "ml.r5.12xlarge",
    "vcpuNum": 48
   },
   {
    "_defaultOrder": 45,
    "_isFastLaunch": false,
    "category": "Memory Optimized",
    "gpuNum": 0,
    "hideHardwareSpecs": false,
    "memoryGiB": 512,
    "name": "ml.r5.16xlarge",
    "vcpuNum": 64
   },
   {
    "_defaultOrder": 46,
    "_isFastLaunch": false,
    "category": "Memory Optimized",
    "gpuNum": 0,
    "hideHardwareSpecs": false,
    "memoryGiB": 768,
    "name": "ml.r5.24xlarge",
    "vcpuNum": 96
   },
   {
    "_defaultOrder": 47,
    "_isFastLaunch": false,
    "category": "Accelerated computing",
    "gpuNum": 1,
    "hideHardwareSpecs": false,
    "memoryGiB": 16,
    "name": "ml.g5.xlarge",
    "vcpuNum": 4
   },
   {
    "_defaultOrder": 48,
    "_isFastLaunch": false,
    "category": "Accelerated computing",
    "gpuNum": 1,
    "hideHardwareSpecs": false,
    "memoryGiB": 32,
    "name": "ml.g5.2xlarge",
    "vcpuNum": 8
   },
   {
    "_defaultOrder": 49,
    "_isFastLaunch": false,
    "category": "Accelerated computing",
    "gpuNum": 1,
    "hideHardwareSpecs": false,
    "memoryGiB": 64,
    "name": "ml.g5.4xlarge",
    "vcpuNum": 16
   },
   {
    "_defaultOrder": 50,
    "_isFastLaunch": false,
    "category": "Accelerated computing",
    "gpuNum": 1,
    "hideHardwareSpecs": false,
    "memoryGiB": 128,
    "name": "ml.g5.8xlarge",
    "vcpuNum": 32
   },
   {
    "_defaultOrder": 51,
    "_isFastLaunch": false,
    "category": "Accelerated computing",
    "gpuNum": 1,
    "hideHardwareSpecs": false,
    "memoryGiB": 256,
    "name": "ml.g5.16xlarge",
    "vcpuNum": 64
   },
   {
    "_defaultOrder": 52,
    "_isFastLaunch": false,
    "category": "Accelerated computing",
    "gpuNum": 4,
    "hideHardwareSpecs": false,
    "memoryGiB": 192,
    "name": "ml.g5.12xlarge",
    "vcpuNum": 48
   },
   {
    "_defaultOrder": 53,
    "_isFastLaunch": false,
    "category": "Accelerated computing",
    "gpuNum": 4,
    "hideHardwareSpecs": false,
    "memoryGiB": 384,
    "name": "ml.g5.24xlarge",
    "vcpuNum": 96
   },
   {
    "_defaultOrder": 54,
    "_isFastLaunch": false,
    "category": "Accelerated computing",
    "gpuNum": 8,
    "hideHardwareSpecs": false,
    "memoryGiB": 768,
    "name": "ml.g5.48xlarge",
    "vcpuNum": 192
   },
   {
    "_defaultOrder": 55,
    "_isFastLaunch": false,
    "category": "Accelerated computing",
    "gpuNum": 8,
    "hideHardwareSpecs": false,
    "memoryGiB": 1152,
    "name": "ml.p4d.24xlarge",
    "vcpuNum": 96
   },
   {
    "_defaultOrder": 56,
    "_isFastLaunch": false,
    "category": "Accelerated computing",
    "gpuNum": 8,
    "hideHardwareSpecs": false,
    "memoryGiB": 1152,
    "name": "ml.p4de.24xlarge",
    "vcpuNum": 96
   }
  ],
  "instance_type": "ml.g4dn.2xlarge",
  "kernelspec": {
   "display_name": "Python 3 (PyTorch 1.13 Python 3.9 GPU Optimized)",
   "language": "python",
   "name": "python3__SAGEMAKER_INTERNAL__arn:aws:sagemaker:us-east-1:081325390199:image/pytorch-1.13-gpu-py39"
  },
  "language_info": {
   "codemirror_mode": {
    "name": "ipython",
    "version": 3
   },
   "file_extension": ".py",
   "mimetype": "text/x-python",
   "name": "python",
   "nbconvert_exporter": "python",
   "pygments_lexer": "ipython3",
   "version": "3.9.16"
  }
 },
 "nbformat": 4,
 "nbformat_minor": 4
}
